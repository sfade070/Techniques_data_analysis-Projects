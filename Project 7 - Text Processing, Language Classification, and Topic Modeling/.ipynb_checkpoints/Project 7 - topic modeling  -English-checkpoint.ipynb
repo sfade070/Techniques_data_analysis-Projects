{
 "cells": [
  {
   "cell_type": "markdown",
   "metadata": {},
   "source": [
    "# European Parliament  English Corpus : Topic Modeling "
   ]
  },
  {
   "cell_type": "markdown",
   "metadata": {},
   "source": [
    "<a name=\"top\"></a>\n",
    "\n",
    "## Table of contents : \n",
    "\n",
    "-  <a href='#intro'>1. Introduction </a>\n",
    "        \n",
    "-  <a href='#lp'>2. Load the packages </a>\n",
    "\n",
    "-  <a href='#map'>3. Memory allocation problem </a>\n",
    " \n",
    "-  <a href='#ld'>4. Load the Dataset </a>\n",
    "        \n",
    "-  <a href='#tok'>5. Tokenization </a>\n",
    "\n",
    "-  <a href='#rsw'>6. Remove Stop words </a>\n",
    "\n",
    "-  <a href='#iasl'>7. Idea about Stemming and Lemmatization </a>\n",
    "\n",
    "-  <a href='#dwm'>8. Create Document-Word matrix by putting all the preprocessing steps together </a>\n",
    "\n",
    "-  <a href='#fp'>9. Frequencies plot </a>\n",
    "\n",
    "-  <a href='#smo'>10. Sparsity matrix vector ouptuts </a>\n",
    "\n",
    "-  <a href='#tmwlda'>11. Topic Modelling with LDA </a>\n",
    "\n",
    "-  <a href='#em'>12. Evaluation of the Model </a>\n",
    "\n",
    "-  <a href='#thwg1'>13. Tuning the Hyperparameter with GridSearch : 'n_components': [10,15,20,25,30] </a>\n",
    "\n",
    "-  <a href='#thwg2'>14. Tuning the Hyperparameter with GridSearch : 'n_components': [3,5,8,10]</a>\n",
    "\n",
    "-  <a href='#coll'>15. Curve of log-likelihood scores against num_topics</a>\n",
    "\n",
    "-  <a href='#vwp'>16. Visualization with pyLDAvis </a>\n",
    "\n",
    "-  <a href='#tg'>17. Topics generation </a>\n",
    "\n",
    "-  <a href='#wcvt'>18. Word Cloud visualizations of the topics </a>\n",
    "\n",
    "-  <a href='#wotied'>19. the weights of topics in each document  </a>\n",
    "\n",
    "-  <a href='#dad'>20. Distribution across documents </a>\n",
    "    \n",
    "\n",
    "\n",
    "\n",
    "\n"
   ]
  },
  {
   "cell_type": "markdown",
   "metadata": {},
   "source": [
    "## <a id='intro'>1. Introduction </a> "
   ]
  },
  {
   "cell_type": "markdown",
   "metadata": {},
   "source": [
    "* In this notebook the goal is building a topic modele for European Parliament Corpus dataset, in which we try uncover abstract themes or \"topics\" based on the underlying documents and words in a corpus of text. \n",
    "\n",
    "* This study analyzes by using one of the standard topic modelling techniques here with the first technique known as Latent Dirichlet Allocation (LDA). \n",
    "\n",
    "\n",
    "* The outlinez of this notebook is as follows:\n",
    "\n",
    "    * 1 **Introduction to Latent Dirichlet Allocation Model**\n",
    "    \n",
    "    * 2 **Introducing basic text processing methods**\n",
    "    \n",
    "    * 3 **Topic Modelling Implementation with LDA**\n",
    "    \n",
    "\n",
    "\n",
    "\n"
   ]
  },
  {
   "cell_type": "markdown",
   "metadata": {},
   "source": [
    "## <a id='lp'>2. Load the packages  </a> "
   ]
  },
  {
   "cell_type": "code",
   "execution_count": 9,
   "metadata": {},
   "outputs": [
    {
     "data": {
      "text/html": [
       "        <script type=\"text/javascript\">\n",
       "        window.PlotlyConfig = {MathJaxConfig: 'local'};\n",
       "        if (window.MathJax) {MathJax.Hub.Config({SVG: {font: \"STIX-Web\"}});}\n",
       "        if (typeof require !== 'undefined') {\n",
       "        require.undef(\"plotly\");\n",
       "        requirejs.config({\n",
       "            paths: {\n",
       "                'plotly': ['https://cdn.plot.ly/plotly-latest.min']\n",
       "            }\n",
       "        });\n",
       "        require(['plotly'], function(Plotly) {\n",
       "            window._Plotly = Plotly;\n",
       "        });\n",
       "        }\n",
       "        </script>\n",
       "        "
      ]
     },
     "metadata": {},
     "output_type": "display_data"
    }
   ],
   "source": [
    "#def load_packages():\n",
    "#!pip install spacy\n",
    "#!pip install pyLDAvis\n",
    "import numpy as np\n",
    "import pandas as pd\n",
    "import re, nltk, spacy, gensim\n",
    "\n",
    "# Sklearn\n",
    "from sklearn.decomposition import LatentDirichletAllocation, TruncatedSVD, NMF\n",
    "from sklearn.feature_extraction.text import CountVectorizer, TfidfVectorizer\n",
    "from sklearn.model_selection import GridSearchCV\n",
    "from pprint import pprint\n",
    "from sklearn.preprocessing import StandardScaler, LabelEncoder, OneHotEncoder, MinMaxScaler\n",
    "\n",
    "# Plotting tools\n",
    "import pyLDAvis\n",
    "import pyLDAvis.sklearn\n",
    "import matplotlib.pyplot as plt\n",
    "import seaborn as sns\n",
    "import plotly.offline as py\n",
    "import plotly.graph_objs as go\n",
    "import scipy.stats as ss\n",
    "import nltk\n",
    "from nltk.tokenize import sent_tokenize\n",
    "from nltk.corpus import stopwords\n",
    "from nltk.stem.porter import PorterStemmer\n",
    "from nltk.stem import WordNetLemmatizer\n",
    "color = sns.color_palette()\n",
    "sns.set(style=\"darkgrid\")\n",
    "%matplotlib inline\n",
    "\n",
    "\n",
    "# Plotly imports\n",
    "import plotly.offline as py\n",
    "py.init_notebook_mode(connected=True)\n",
    "import plotly.graph_objs as go\n",
    "import plotly.tools as tls\n",
    "\n",
    "# Other imports\n",
    "import base64\n",
    "import math\n",
    "import os \n",
    "from collections import Counter\n",
    "from scipy.misc import imread\n",
    "import glob\n",
    "import urllib\n",
    "from bs4 import BeautifulSoup\n",
    "import time\n",
    "from wordcloud import WordCloud, STOPWORDS\n",
    "#!pip install WordCloud    \n",
    "import spacy\n",
    "import re\n",
    "from nltk.corpus import stopwords\n",
    "\n",
    "\n",
    "    \n",
    "#load_packages()"
   ]
  },
  {
   "cell_type": "markdown",
   "metadata": {},
   "source": [
    "##   <a id='map'>3. Memory allocation problem </a>\n",
    "\n",
    "* One particular problem that i face durring the implemantation of this project is that my **RAM** is limeted to **8 GB** but the manipulation of the our huge dataset could take more than that. \n",
    "\n",
    "* One brutal solution is to download the dataframes on  my \"Hard disk drive\" and then free the allocation memory.\n",
    "\n",
    "* I'm using for this task the following  funtion : \n"
   ]
  },
  {
   "cell_type": "code",
   "execution_count": 10,
   "metadata": {},
   "outputs": [],
   "source": [
    "#%reset -s -f\n",
    "    "
   ]
  },
  {
   "cell_type": "markdown",
   "metadata": {},
   "source": [
    "## <a id='ld'>4. Load the Dataset </a>\n"
   ]
  },
  {
   "cell_type": "markdown",
   "metadata": {},
   "source": [
    "The dataset is about row scrape information from web pages (HTML forme) that contains dives/fragment as <\\p> .. <\\p> that we should remove. \n",
    "One solution to this is use **Beautiful Soup** is a library that makes it easy. It sits atop an HTML or XML parser, providing Pythonic idioms for iterating, searching, and modifying the parse tree."
   ]
  },
  {
   "cell_type": "code",
   "execution_count": 2,
   "metadata": {},
   "outputs": [
    {
     "name": "stderr",
     "output_type": "stream",
     "text": [
      "/Users/soufiane/anaconda3/lib/python3.7/site-packages/ipykernel_launcher.py:1: DeprecationWarning:\n",
      "\n",
      "time.clock has been deprecated in Python 3.3 and will be removed from Python 3.8: use time.perf_counter or time.process_time instead\n",
      "\n"
     ]
    },
    {
     "name": "stdout",
     "output_type": "stream",
     "text": [
      "67.432349 seconds\n"
     ]
    },
    {
     "name": "stderr",
     "output_type": "stream",
     "text": [
      "/Users/soufiane/anaconda3/lib/python3.7/site-packages/ipykernel_launcher.py:24: DeprecationWarning:\n",
      "\n",
      "time.clock has been deprecated in Python 3.3 and will be removed from Python 3.8: use time.perf_counter or time.process_time instead\n",
      "\n"
     ]
    }
   ],
   "source": [
    "start_time = time.clock()\n",
    "##########################################\n",
    "\n",
    "label = 'en'\n",
    "path = os.getcwd() + '/' + label + '/'\n",
    "\n",
    "\n",
    "df = pd.DataFrame()\n",
    "filenames = list()\n",
    "filenames.extend(os.listdir(label + '/'))\n",
    "\n",
    "\n",
    "for file in filenames :\n",
    "    with open(path + file ,'r', encoding='utf-8') as infile:\n",
    "        txt = infile.read()\n",
    "    soup = BeautifulSoup(txt,\"lxml\")\n",
    "    text = soup.get_text()\n",
    "    text = text.replace('\\n','')\n",
    "    df = df.append([text], ignore_index=True)\n",
    "                       \n",
    "df.columns = ['text']\n",
    "\n",
    "##########################################\n",
    "print(time.clock() - start_time, \"seconds\")"
   ]
  },
  {
   "cell_type": "code",
   "execution_count": 83,
   "metadata": {},
   "outputs": [
    {
     "data": {
      "text/plain": [
       "0    Resumption of the sessionI declare resumed the...\n",
       "1    Adoption of the Minutes of the previous sittin...\n",
       "2    Middle East peace process (continuation)The ne...\n",
       "3    Adoption of the Minutes of the previous sittin...\n",
       "4    Resumption of the sessionI declare resumed the...\n",
       "Name: text, dtype: object"
      ]
     },
     "execution_count": 83,
     "metadata": {},
     "output_type": "execute_result"
    }
   ],
   "source": [
    "df.head()\n",
    "#df.to_csv(r'/Users/soufiane/Downloads/NLP/data.csv')"
   ]
  },
  {
   "cell_type": "code",
   "execution_count": 5,
   "metadata": {},
   "outputs": [
    {
     "name": "stdout",
     "output_type": "stream",
     "text": [
      "Once deleted, variables cannot be recovered. Proceed (y/[n])? y\n"
     ]
    },
    {
     "name": "stderr",
     "output_type": "stream",
     "text": [
      "ERROR:root:Invalid alias: The name clear can't be aliased because it is another magic command.\n",
      "ERROR:root:Invalid alias: The name more can't be aliased because it is another magic command.\n",
      "ERROR:root:Invalid alias: The name less can't be aliased because it is another magic command.\n",
      "ERROR:root:Invalid alias: The name man can't be aliased because it is another magic command.\n"
     ]
    }
   ],
   "source": [
    "%reset"
   ]
  },
  {
   "cell_type": "markdown",
   "metadata": {},
   "source": [
    "## <a href='#tok'>5. Tokenization </a> \n",
    "\n",
    "\n",
    "Here the goal is the segregation of the text into its individual constitutent words.\n",
    "\n",
    "we want to tokenize each sentence into a list of words, removing punctuations and unnecessary characters altogether.\n",
    "\n",
    "\n",
    "The concept of tokenization is the act of taking a sequence of characters (think of Python strings) in a given document and dicing it up into its individual constituent pieces, which are the eponymous \"tokens\" of this method. One could loosely think of them as singular words in a sentence. One could naively implement the \"split( )\" method on a string which separates it into a python list based on the identifier in the argument. It is actually not that trivial to\n",
    "\n"
   ]
  },
  {
   "cell_type": "markdown",
   "metadata": {},
   "source": [
    "#### Testing"
   ]
  },
  {
   "cell_type": "code",
   "execution_count": 6,
   "metadata": {},
   "outputs": [
    {
     "name": "stdout",
     "output_type": "stream",
     "text": [
      "Adoption of the Minutes of the previous sittingMr President, I simply wanted to pass on some news. There was a terrorist attack this morning in Madrid. Someone planted a car bomb and one person has died. On behalf of my Group, I once again condemn these terrorist acts.Thank you, Mrs Fraga Estévez. We had heard about this regrettable incident. Unfortunately, the terrorist murderers are once again punishing Spanish society. I note your comments with particular keenness, as you may expect, given that I too am Spanish.(The Minutes were approved)\n",
      "==========================================================================================\n",
      "Split the a sentence of the text \n",
      "==========================================================================================\n",
      "['Adoption', 'of', 'the', 'Minutes', 'of', 'the', 'previous', 'sittingMr', 'President,', 'I', 'simply', 'wanted', 'to', 'pass', 'on', 'some', 'news.', 'There', 'was', 'a', 'terrorist', 'attack', 'this', 'morning', 'in', 'Madrid.', 'Someone', 'planted', 'a', 'car', 'bomb', 'and', 'one', 'person', 'has', 'died.', 'On', 'behalf', 'of', 'my', 'Group,', 'I', 'once', 'again', 'condemn', 'these', 'terrorist', 'acts.Thank', 'you,', 'Mrs', 'Fraga', 'Estévez.', 'We', 'had', 'heard', 'about', 'this', 'regrettable', 'incident.', 'Unfortunately,', 'the', 'terrorist', 'murderers', 'are', 'once', 'again', 'punishing', 'Spanish', 'society.', 'I', 'note', 'your', 'comments', 'with', 'particular', 'keenness,', 'as', 'you', 'may', 'expect,', 'given', 'that', 'I', 'too', 'am', 'Spanish.(The', 'Minutes', 'were', 'approved)']\n",
      "==========================================================================================\n",
      "After Tokenization\n",
      "==========================================================================================\n",
      "['Adoption', 'of', 'the', 'Minutes', 'of', 'the', 'previous', 'sittingMr', 'President', ',', 'I', 'simply', 'wanted', 'to', 'pass', 'on', 'some', 'news', '.', 'There', 'was', 'a', 'terrorist', 'attack', 'this', 'morning', 'in', 'Madrid', '.', 'Someone', 'planted', 'a', 'car', 'bomb', 'and', 'one', 'person', 'has', 'died', '.', 'On', 'behalf', 'of', 'my', 'Group', ',', 'I', 'once', 'again', 'condemn', 'these', 'terrorist', 'acts.Thank', 'you', ',', 'Mrs', 'Fraga', 'Estévez', '.', 'We', 'had', 'heard', 'about', 'this', 'regrettable', 'incident', '.', 'Unfortunately', ',', 'the', 'terrorist', 'murderers', 'are', 'once', 'again', 'punishing', 'Spanish', 'society', '.', 'I', 'note', 'your', 'comments', 'with', 'particular', 'keenness', ',', 'as', 'you', 'may', 'expect', ',', 'given', 'that', 'I', 'too', 'am', 'Spanish', '.', '(', 'The', 'Minutes', 'were', 'approved', ')']\n"
     ]
    }
   ],
   "source": [
    "#first_text = df.text.values[2900]\n",
    "test = df.text.values[3]\n",
    "print(test)\n",
    "print(\"=\"*90)\n",
    "print(\"Split the a sentence of the text \")\n",
    "print(\"=\"*90)\n",
    "print(test.split(\" \"))\n",
    "first_text_list = nltk.word_tokenize(test)\n",
    "print(\"=\"*90)\n",
    "print(\"After Tokenization\")\n",
    "print(\"=\"*90)\n",
    "print(first_text_list)"
   ]
  },
  {
   "cell_type": "markdown",
   "metadata": {},
   "source": [
    "## <a id='rsw'>6. Remove Stop words </a> "
   ]
  },
  {
   "cell_type": "markdown",
   "metadata": {},
   "source": [
    "Stop words include terms such as \"to\" or \"the\" and therefore, it would be to our benefit to remove them during the pre-processing phase. so the goal is to filter out stop words from our tokenized list of words, we can simply use a list comprehension."
   ]
  },
  {
   "cell_type": "code",
   "execution_count": 43,
   "metadata": {},
   "outputs": [
    {
     "name": "stdout",
     "output_type": "stream",
     "text": [
      "{'above', 'our', 'y', 'but', \"hasn't\", \"haven't\", 'you', 'just', \"isn't\", 'being', 'myself', 'him', 't', 'on', 'these', 'theirs', 'hadn', 'don', 'm', 'had', 'the', 'wasn', 'or', 'under', 'in', 'and', 'my', 'yourselves', 'isn', 'weren', 'through', 'such', 'not', 'nor', \"it's\", 'have', 'other', 'some', 'down', 'again', 'before', \"mustn't\", 'if', 'against', 'about', 'for', 'its', \"doesn't\", 'same', 'whom', 'into', 'her', 'yourself', \"didn't\", 'i', 'off', 'your', 'who', 'out', 'during', 'what', 'itself', 'while', 'between', 'hers', 'ain', 'did', \"couldn't\", 'does', 'was', 's', \"shan't\", 'she', 'by', 'no', 'after', 'do', 'should', 'those', 'didn', 'doesn', \"weren't\", 'he', 'once', 'so', 'until', 'both', 'doing', 'most', 'mustn', \"needn't\", 'when', 'then', 'will', 'am', 'now', 'haven', 'hasn', 'is', 'which', 'has', 'shouldn', \"hadn't\", \"you're\", \"don't\", 'shan', 'too', 'this', 're', 'at', 'any', \"aren't\", 'needn', 'we', \"should've\", 'that', 'to', 'how', \"you've\", 'ours', 'where', 'can', 'himself', 've', 'with', 'mightn', \"wouldn't\", 'are', 'me', 'up', 'they', 'why', 'than', 'his', 'o', 'as', 'more', \"that'll\", 'of', \"you'd\", 'were', 'been', 'there', 'be', \"won't\", \"mightn't\", 'it', 'ourselves', 'further', \"she's\", 'them', 'over', 'couldn', 'themselves', 'won', 'below', 'a', 'herself', \"shouldn't\", 'll', 'wouldn', 'each', 'their', 'few', 'aren', 'only', 'an', 'very', 'ma', 'own', 'having', 'because', 'here', 'd', 'from', 'yours', \"you'll\", 'all', \"wasn't\"}\n"
     ]
    }
   ],
   "source": [
    "stopwords = nltk.corpus.stopwords.words('english')\n",
    "stop_words = set(stopwords)\n",
    "\n",
    "print(stop_words)"
   ]
  },
  {
   "cell_type": "code",
   "execution_count": 45,
   "metadata": {},
   "outputs": [
    {
     "name": "stdout",
     "output_type": "stream",
     "text": [
      "['Resumption', 'sessionI', 'declare', 'resumed', 'session', 'European', 'Parliament', 'adjourned', 'Friday', '17', 'December', '1999', ',', 'would', 'like', 'wish', 'happy', 'new', 'year', 'hope']\n",
      "==========================================================================================\n",
      "Length of original list: 59941769 words\n",
      "Length of list after stopwords removal: 54 words\n",
      "9.049999999888313e-06 seconds\n"
     ]
    },
    {
     "name": "stderr",
     "output_type": "stream",
     "text": [
      "/Users/soufiane/anaconda3/lib/python3.7/site-packages/ipykernel_launcher.py:1: DeprecationWarning:\n",
      "\n",
      "time.clock has been deprecated in Python 3.3 and will be removed from Python 3.8: use time.perf_counter or time.process_time instead\n",
      "\n",
      "/Users/soufiane/anaconda3/lib/python3.7/site-packages/ipykernel_launcher.py:11: DeprecationWarning:\n",
      "\n",
      "time.clock has been deprecated in Python 3.3 and will be removed from Python 3.8: use time.perf_counter or time.process_time instead\n",
      "\n"
     ]
    }
   ],
   "source": [
    "start_time = time.clock()\n",
    "##########################################\n",
    "first_text_list_cleaned = [word for word in first_text_tokenize_.colummn if word.lower() not in stop_words]\n",
    "print(first_text_list_cleaned[0:20])\n",
    "print(\"=\"*90)\n",
    "print(\"Length of original list: {0} words\\n\"\n",
    "      \"Length of list after stopwords removal: {1} words\"\n",
    "      .format(len(first_text_tokenize), len(first_text_list_cleaned)))\n",
    "\n",
    "##########################################\n",
    "print((time.clock() - start_time)/60, \"seconds\")"
   ]
  },
  {
   "cell_type": "markdown",
   "metadata": {},
   "source": [
    "## <a id='iasl'>7. Idea about Stemming and Lemmatization </a> "
   ]
  },
  {
   "cell_type": "markdown",
   "metadata": {},
   "source": [
    "* The goal of both stemming and lemmatization is to reduce inflectional forms and sometimes derivationally related forms of a word to a common base form. \n",
    "* We can see  stemming and lemmatization as special cases of normalization. They identify a canonical representative for a set of related word forms.\n",
    "\n",
    "To illustrate these techniques, here are the following examples:"
   ]
  },
  {
   "cell_type": "code",
   "execution_count": 47,
   "metadata": {},
   "outputs": [
    {
     "name": "stdout",
     "output_type": "stream",
     "text": [
      "The stemmed form of running is: run\n",
      "The stemmed form of runs is: run\n",
      "The stemmed form of run is: run\n",
      "The stemmed form of leaves is: leav\n",
      "==========================================================================================\n",
      "The lemmatized form of leaves is: leaf\n"
     ]
    }
   ],
   "source": [
    "stemmer = nltk.stem.PorterStemmer()\n",
    "lemm = WordNetLemmatizer()\n",
    "\n",
    "print(\"The stemmed form of running is: {}\".format(stemmer.stem(\"running\")))\n",
    "print(\"The stemmed form of runs is: {}\".format(stemmer.stem(\"runs\")))\n",
    "print(\"The stemmed form of run is: {}\".format(stemmer.stem(\"run\")))\n",
    "print(\"The stemmed form of leaves is: {}\".format(stemmer.stem(\"leaves\")))\n",
    "print(\"=\"*90)x\n",
    "print(\"The lemmatized form of leaves is: {}\".format(lemm.lemmatize(\"leaves\")))\n"
   ]
  },
  {
   "cell_type": "markdown",
   "metadata": {},
   "source": [
    "**More about lemmatization** :\n",
    "\n",
    "For example: ‘Studying’ becomes ‘Study’, ‘Meeting becomes ‘Meet’, ‘Better’ and ‘Best’ becomes ‘Good’.\n",
    "\n",
    "\n",
    "The advantage of this is, we get to reduce the total number of unique words in the dictionary. As a result, the number of columns in the document-word matrix (created by CountVectorizer in the next step) will be denser with lesser columns.\n",
    "\n",
    "So we are going to use lemmatization for keeping only Noun, Adj, Verb, Adverb."
   ]
  },
  {
   "cell_type": "markdown",
   "metadata": {},
   "source": [
    "## <a id='dwm'>8. Create Document-Word matrix by putting all the preprocessing steps together  </a> \n",
    "\n",
    "Machine can read in bits and numbers and therefore we will first need to convert our text into numbers for which we utilise a very common approach known as the **Bag-of-Words**, this approach uses the counts of words as a starting block and records the occurrence of each word (from the entire text) in a vector specific to that particular word.\n",
    "\n",
    "\n",
    "We shall utilize the Scikit-learn library to implement a vectorizer that generates a vector of word counts (term frequencies) - via the **CountVectorizer** method as follows.\n",
    "\n",
    "\n",
    "**NB :** The Class \"**LemmaCountVectorizer**\" that we are using here inherited and subclassed the original Sklearn's CountVectorizer class and overwritten the build_analyzer method by implementing the lemmatizer for each list in the raw text matrix."
   ]
  },
  {
   "cell_type": "code",
   "execution_count": 4,
   "metadata": {},
   "outputs": [],
   "source": [
    "#%reset"
   ]
  },
  {
   "cell_type": "code",
   "execution_count": 11,
   "metadata": {},
   "outputs": [
    {
     "name": "stderr",
     "output_type": "stream",
     "text": [
      "/Users/soufiane/anaconda3/lib/python3.7/site-packages/ipykernel_launcher.py:1: DeprecationWarning:\n",
      "\n",
      "time.clock has been deprecated in Python 3.3 and will be removed from Python 3.8: use time.perf_counter or time.process_time instead\n",
      "\n"
     ]
    },
    {
     "name": "stdout",
     "output_type": "stream",
     "text": [
      "0.07158471666666667 seconds\n"
     ]
    },
    {
     "name": "stderr",
     "output_type": "stream",
     "text": [
      "/Users/soufiane/anaconda3/lib/python3.7/site-packages/ipykernel_launcher.py:6: DeprecationWarning:\n",
      "\n",
      "time.clock has been deprecated in Python 3.3 and will be removed from Python 3.8: use time.perf_counter or time.process_time instead\n",
      "\n"
     ]
    }
   ],
   "source": [
    "start_time = time.clock()\n",
    "##########################################\n",
    "df = pd.read_csv(\"/Users/soufiane/Downloads/NLP/data.csv\")\n",
    "df = df[\"text\"]\n",
    "##########################################\n",
    "print((time.clock() - start_time)/60, \"seconds\") "
   ]
  },
  {
   "cell_type": "code",
   "execution_count": 12,
   "metadata": {},
   "outputs": [
    {
     "name": "stderr",
     "output_type": "stream",
     "text": [
      "/Users/soufiane/anaconda3/lib/python3.7/site-packages/ipykernel_launcher.py:1: DeprecationWarning:\n",
      "\n",
      "time.clock has been deprecated in Python 3.3 and will be removed from Python 3.8: use time.perf_counter or time.process_time instead\n",
      "\n"
     ]
    },
    {
     "name": "stdout",
     "output_type": "stream",
     "text": [
      "3.18743565 seconds\n"
     ]
    },
    {
     "name": "stderr",
     "output_type": "stream",
     "text": [
      "/Users/soufiane/anaconda3/lib/python3.7/site-packages/ipykernel_launcher.py:29: DeprecationWarning:\n",
      "\n",
      "time.clock has been deprecated in Python 3.3 and will be removed from Python 3.8: use time.perf_counter or time.process_time instead\n",
      "\n"
     ]
    }
   ],
   "source": [
    "start_time = time.clock()\n",
    "##########################################\n",
    "\n",
    "\n",
    "lemm = WordNetLemmatizer()\n",
    "\n",
    "class LemmaCountVectorizer(CountVectorizer):\n",
    "    def build_analyzer(self):\n",
    "        analyzer = super(LemmaCountVectorizer, self).build_analyzer()\n",
    "        return lambda doc: (lemm.lemmatize(w) for w in analyzer(doc))\n",
    "\n",
    "    \n",
    "# Storing the entire training text in a list\n",
    "text = list(df.values)\n",
    "\n",
    "\n",
    "# Calling our overwritten Count vectorizer\n",
    "tf_vectorizer = LemmaCountVectorizer(max_df=0.95, \n",
    "                                     min_df=5,                 # minimum reqd occurences of a word \n",
    "                                     stop_words='english',     # remove stop words\n",
    "                                     decode_error='ignore',\n",
    "                                     lowercase=True,            # convert all words to lowercas\n",
    "                                    )\n",
    "\n",
    "\n",
    "tf = tf_vectorizer.fit_transform(text)\n",
    "\n",
    "##########################################\n",
    "print((time.clock() - start_time)/60, \"seconds\")"
   ]
  },
  {
   "cell_type": "code",
   "execution_count": 16,
   "metadata": {},
   "outputs": [
    {
     "name": "stdout",
     "output_type": "stream",
     "text": [
      "the number of words : 32821\n"
     ]
    }
   ],
   "source": [
    "print(\"the number of words : \" + str(len(tf_vectorizer.get_feature_names())))"
   ]
  },
  {
   "cell_type": "markdown",
   "metadata": {},
   "source": [
    "## <a id='fp'>9. Frequencies plot  </a> "
   ]
  },
  {
   "cell_type": "code",
   "execution_count": 64,
   "metadata": {},
   "outputs": [
    {
     "data": {
      "application/vnd.plotly.v1+json": {
       "config": {
        "linkText": "Export to plot.ly",
        "plotlyServerURL": "https://plot.ly",
        "showLink": false
       },
       "data": [
        {
         "marker": {
          "color": [
           336886,
           252750,
           198143,
           174176,
           171967,
           167627,
           147504,
           144311,
           140257,
           134771,
           116533,
           115621,
           114068,
           110011,
           107836,
           104599,
           102585,
           92532,
           91020,
           86373,
           83370,
           82821,
           77487,
           76782,
           74648,
           73657,
           67293,
           66570,
           63093,
           63080,
           62896,
           62742,
           62160,
           61885,
           61553,
           61238,
           61170,
           59200,
           58056,
           57371,
           57024,
           56969,
           55363,
           54264,
           53936,
           53270,
           49982,
           49756,
           49124,
           48865
          ],
          "colorscale": [
           [
            0,
            "rgb(0,0,131)"
           ],
           [
            0.2,
            "rgb(0,60,170)"
           ],
           [
            0.4,
            "rgb(5,255,255)"
           ],
           [
            0.6,
            "rgb(255,255,0)"
           ],
           [
            0.8,
            "rgb(250,0,0)"
           ],
           [
            1,
            "rgb(128,0,0)"
           ]
          ]
         },
         "text": "Word counts",
         "type": "bar",
         "x": [
          "european",
          "mr",
          "commission",
          "state",
          "president",
          "member",
          "union",
          "parliament",
          "country",
          "report",
          "council",
          "right",
          "like",
          "need",
          "europe",
          "policy",
          "eu",
          "people",
          "time",
          "year",
          "important",
          "new",
          "proposal",
          "make",
          "issue",
          "support",
          "work",
          "committee",
          "economic",
          "area",
          "market",
          "group",
          "point",
          "problem",
          "agreement",
          "question",
          "way",
          "development",
          "political",
          "commissioner",
          "amendment",
          "say",
          "social",
          "debate",
          "believe",
          "fact",
          "human",
          "community",
          "measure",
          "citizen"
         ],
         "y": [
          336886,
          252750,
          198143,
          174176,
          171967,
          167627,
          147504,
          144311,
          140257,
          134771,
          116533,
          115621,
          114068,
          110011,
          107836,
          104599,
          102585,
          92532,
          91020,
          86373,
          83370,
          82821,
          77487,
          76782,
          74648,
          73657,
          67293,
          66570,
          63093,
          63080,
          62896,
          62742,
          62160,
          61885,
          61553,
          61238,
          61170,
          59200,
          58056,
          57371,
          57024,
          56969,
          55363,
          54264,
          53936,
          53270,
          49982,
          49756,
          49124,
          48865
         ]
        }
       ],
       "layout": {
        "template": {
         "data": {
          "bar": [
           {
            "error_x": {
             "color": "#2a3f5f"
            },
            "error_y": {
             "color": "#2a3f5f"
            },
            "marker": {
             "line": {
              "color": "#E5ECF6",
              "width": 0.5
             }
            },
            "type": "bar"
           }
          ],
          "barpolar": [
           {
            "marker": {
             "line": {
              "color": "#E5ECF6",
              "width": 0.5
             }
            },
            "type": "barpolar"
           }
          ],
          "carpet": [
           {
            "aaxis": {
             "endlinecolor": "#2a3f5f",
             "gridcolor": "white",
             "linecolor": "white",
             "minorgridcolor": "white",
             "startlinecolor": "#2a3f5f"
            },
            "baxis": {
             "endlinecolor": "#2a3f5f",
             "gridcolor": "white",
             "linecolor": "white",
             "minorgridcolor": "white",
             "startlinecolor": "#2a3f5f"
            },
            "type": "carpet"
           }
          ],
          "choropleth": [
           {
            "colorbar": {
             "outlinewidth": 0,
             "ticks": ""
            },
            "type": "choropleth"
           }
          ],
          "contour": [
           {
            "colorbar": {
             "outlinewidth": 0,
             "ticks": ""
            },
            "colorscale": [
             [
              0,
              "#0d0887"
             ],
             [
              0.1111111111111111,
              "#46039f"
             ],
             [
              0.2222222222222222,
              "#7201a8"
             ],
             [
              0.3333333333333333,
              "#9c179e"
             ],
             [
              0.4444444444444444,
              "#bd3786"
             ],
             [
              0.5555555555555556,
              "#d8576b"
             ],
             [
              0.6666666666666666,
              "#ed7953"
             ],
             [
              0.7777777777777778,
              "#fb9f3a"
             ],
             [
              0.8888888888888888,
              "#fdca26"
             ],
             [
              1,
              "#f0f921"
             ]
            ],
            "type": "contour"
           }
          ],
          "contourcarpet": [
           {
            "colorbar": {
             "outlinewidth": 0,
             "ticks": ""
            },
            "type": "contourcarpet"
           }
          ],
          "heatmap": [
           {
            "colorbar": {
             "outlinewidth": 0,
             "ticks": ""
            },
            "colorscale": [
             [
              0,
              "#0d0887"
             ],
             [
              0.1111111111111111,
              "#46039f"
             ],
             [
              0.2222222222222222,
              "#7201a8"
             ],
             [
              0.3333333333333333,
              "#9c179e"
             ],
             [
              0.4444444444444444,
              "#bd3786"
             ],
             [
              0.5555555555555556,
              "#d8576b"
             ],
             [
              0.6666666666666666,
              "#ed7953"
             ],
             [
              0.7777777777777778,
              "#fb9f3a"
             ],
             [
              0.8888888888888888,
              "#fdca26"
             ],
             [
              1,
              "#f0f921"
             ]
            ],
            "type": "heatmap"
           }
          ],
          "heatmapgl": [
           {
            "colorbar": {
             "outlinewidth": 0,
             "ticks": ""
            },
            "colorscale": [
             [
              0,
              "#0d0887"
             ],
             [
              0.1111111111111111,
              "#46039f"
             ],
             [
              0.2222222222222222,
              "#7201a8"
             ],
             [
              0.3333333333333333,
              "#9c179e"
             ],
             [
              0.4444444444444444,
              "#bd3786"
             ],
             [
              0.5555555555555556,
              "#d8576b"
             ],
             [
              0.6666666666666666,
              "#ed7953"
             ],
             [
              0.7777777777777778,
              "#fb9f3a"
             ],
             [
              0.8888888888888888,
              "#fdca26"
             ],
             [
              1,
              "#f0f921"
             ]
            ],
            "type": "heatmapgl"
           }
          ],
          "histogram": [
           {
            "marker": {
             "colorbar": {
              "outlinewidth": 0,
              "ticks": ""
             }
            },
            "type": "histogram"
           }
          ],
          "histogram2d": [
           {
            "colorbar": {
             "outlinewidth": 0,
             "ticks": ""
            },
            "colorscale": [
             [
              0,
              "#0d0887"
             ],
             [
              0.1111111111111111,
              "#46039f"
             ],
             [
              0.2222222222222222,
              "#7201a8"
             ],
             [
              0.3333333333333333,
              "#9c179e"
             ],
             [
              0.4444444444444444,
              "#bd3786"
             ],
             [
              0.5555555555555556,
              "#d8576b"
             ],
             [
              0.6666666666666666,
              "#ed7953"
             ],
             [
              0.7777777777777778,
              "#fb9f3a"
             ],
             [
              0.8888888888888888,
              "#fdca26"
             ],
             [
              1,
              "#f0f921"
             ]
            ],
            "type": "histogram2d"
           }
          ],
          "histogram2dcontour": [
           {
            "colorbar": {
             "outlinewidth": 0,
             "ticks": ""
            },
            "colorscale": [
             [
              0,
              "#0d0887"
             ],
             [
              0.1111111111111111,
              "#46039f"
             ],
             [
              0.2222222222222222,
              "#7201a8"
             ],
             [
              0.3333333333333333,
              "#9c179e"
             ],
             [
              0.4444444444444444,
              "#bd3786"
             ],
             [
              0.5555555555555556,
              "#d8576b"
             ],
             [
              0.6666666666666666,
              "#ed7953"
             ],
             [
              0.7777777777777778,
              "#fb9f3a"
             ],
             [
              0.8888888888888888,
              "#fdca26"
             ],
             [
              1,
              "#f0f921"
             ]
            ],
            "type": "histogram2dcontour"
           }
          ],
          "mesh3d": [
           {
            "colorbar": {
             "outlinewidth": 0,
             "ticks": ""
            },
            "type": "mesh3d"
           }
          ],
          "parcoords": [
           {
            "line": {
             "colorbar": {
              "outlinewidth": 0,
              "ticks": ""
             }
            },
            "type": "parcoords"
           }
          ],
          "scatter": [
           {
            "marker": {
             "colorbar": {
              "outlinewidth": 0,
              "ticks": ""
             }
            },
            "type": "scatter"
           }
          ],
          "scatter3d": [
           {
            "line": {
             "colorbar": {
              "outlinewidth": 0,
              "ticks": ""
             }
            },
            "marker": {
             "colorbar": {
              "outlinewidth": 0,
              "ticks": ""
             }
            },
            "type": "scatter3d"
           }
          ],
          "scattercarpet": [
           {
            "marker": {
             "colorbar": {
              "outlinewidth": 0,
              "ticks": ""
             }
            },
            "type": "scattercarpet"
           }
          ],
          "scattergeo": [
           {
            "marker": {
             "colorbar": {
              "outlinewidth": 0,
              "ticks": ""
             }
            },
            "type": "scattergeo"
           }
          ],
          "scattergl": [
           {
            "marker": {
             "colorbar": {
              "outlinewidth": 0,
              "ticks": ""
             }
            },
            "type": "scattergl"
           }
          ],
          "scattermapbox": [
           {
            "marker": {
             "colorbar": {
              "outlinewidth": 0,
              "ticks": ""
             }
            },
            "type": "scattermapbox"
           }
          ],
          "scatterpolar": [
           {
            "marker": {
             "colorbar": {
              "outlinewidth": 0,
              "ticks": ""
             }
            },
            "type": "scatterpolar"
           }
          ],
          "scatterpolargl": [
           {
            "marker": {
             "colorbar": {
              "outlinewidth": 0,
              "ticks": ""
             }
            },
            "type": "scatterpolargl"
           }
          ],
          "scatterternary": [
           {
            "marker": {
             "colorbar": {
              "outlinewidth": 0,
              "ticks": ""
             }
            },
            "type": "scatterternary"
           }
          ],
          "surface": [
           {
            "colorbar": {
             "outlinewidth": 0,
             "ticks": ""
            },
            "colorscale": [
             [
              0,
              "#0d0887"
             ],
             [
              0.1111111111111111,
              "#46039f"
             ],
             [
              0.2222222222222222,
              "#7201a8"
             ],
             [
              0.3333333333333333,
              "#9c179e"
             ],
             [
              0.4444444444444444,
              "#bd3786"
             ],
             [
              0.5555555555555556,
              "#d8576b"
             ],
             [
              0.6666666666666666,
              "#ed7953"
             ],
             [
              0.7777777777777778,
              "#fb9f3a"
             ],
             [
              0.8888888888888888,
              "#fdca26"
             ],
             [
              1,
              "#f0f921"
             ]
            ],
            "type": "surface"
           }
          ],
          "table": [
           {
            "cells": {
             "fill": {
              "color": "#EBF0F8"
             },
             "line": {
              "color": "white"
             }
            },
            "header": {
             "fill": {
              "color": "#C8D4E3"
             },
             "line": {
              "color": "white"
             }
            },
            "type": "table"
           }
          ]
         },
         "layout": {
          "annotationdefaults": {
           "arrowcolor": "#2a3f5f",
           "arrowhead": 0,
           "arrowwidth": 1
          },
          "colorscale": {
           "diverging": [
            [
             0,
             "#8e0152"
            ],
            [
             0.1,
             "#c51b7d"
            ],
            [
             0.2,
             "#de77ae"
            ],
            [
             0.3,
             "#f1b6da"
            ],
            [
             0.4,
             "#fde0ef"
            ],
            [
             0.5,
             "#f7f7f7"
            ],
            [
             0.6,
             "#e6f5d0"
            ],
            [
             0.7,
             "#b8e186"
            ],
            [
             0.8,
             "#7fbc41"
            ],
            [
             0.9,
             "#4d9221"
            ],
            [
             1,
             "#276419"
            ]
           ],
           "sequential": [
            [
             0,
             "#0d0887"
            ],
            [
             0.1111111111111111,
             "#46039f"
            ],
            [
             0.2222222222222222,
             "#7201a8"
            ],
            [
             0.3333333333333333,
             "#9c179e"
            ],
            [
             0.4444444444444444,
             "#bd3786"
            ],
            [
             0.5555555555555556,
             "#d8576b"
            ],
            [
             0.6666666666666666,
             "#ed7953"
            ],
            [
             0.7777777777777778,
             "#fb9f3a"
            ],
            [
             0.8888888888888888,
             "#fdca26"
            ],
            [
             1,
             "#f0f921"
            ]
           ],
           "sequentialminus": [
            [
             0,
             "#0d0887"
            ],
            [
             0.1111111111111111,
             "#46039f"
            ],
            [
             0.2222222222222222,
             "#7201a8"
            ],
            [
             0.3333333333333333,
             "#9c179e"
            ],
            [
             0.4444444444444444,
             "#bd3786"
            ],
            [
             0.5555555555555556,
             "#d8576b"
            ],
            [
             0.6666666666666666,
             "#ed7953"
            ],
            [
             0.7777777777777778,
             "#fb9f3a"
            ],
            [
             0.8888888888888888,
             "#fdca26"
            ],
            [
             1,
             "#f0f921"
            ]
           ]
          },
          "colorway": [
           "#636efa",
           "#EF553B",
           "#00cc96",
           "#ab63fa",
           "#FFA15A",
           "#19d3f3",
           "#FF6692",
           "#B6E880",
           "#FF97FF",
           "#FECB52"
          ],
          "font": {
           "color": "#2a3f5f"
          },
          "geo": {
           "bgcolor": "white",
           "lakecolor": "white",
           "landcolor": "#E5ECF6",
           "showlakes": true,
           "showland": true,
           "subunitcolor": "white"
          },
          "hoverlabel": {
           "align": "left"
          },
          "hovermode": "closest",
          "mapbox": {
           "style": "light"
          },
          "paper_bgcolor": "white",
          "plot_bgcolor": "#E5ECF6",
          "polar": {
           "angularaxis": {
            "gridcolor": "white",
            "linecolor": "white",
            "ticks": ""
           },
           "bgcolor": "#E5ECF6",
           "radialaxis": {
            "gridcolor": "white",
            "linecolor": "white",
            "ticks": ""
           }
          },
          "scene": {
           "xaxis": {
            "backgroundcolor": "#E5ECF6",
            "gridcolor": "white",
            "gridwidth": 2,
            "linecolor": "white",
            "showbackground": true,
            "ticks": "",
            "zerolinecolor": "white"
           },
           "yaxis": {
            "backgroundcolor": "#E5ECF6",
            "gridcolor": "white",
            "gridwidth": 2,
            "linecolor": "white",
            "showbackground": true,
            "ticks": "",
            "zerolinecolor": "white"
           },
           "zaxis": {
            "backgroundcolor": "#E5ECF6",
            "gridcolor": "white",
            "gridwidth": 2,
            "linecolor": "white",
            "showbackground": true,
            "ticks": "",
            "zerolinecolor": "white"
           }
          },
          "shapedefaults": {
           "line": {
            "color": "#2a3f5f"
           }
          },
          "ternary": {
           "aaxis": {
            "gridcolor": "white",
            "linecolor": "white",
            "ticks": ""
           },
           "baxis": {
            "gridcolor": "white",
            "linecolor": "white",
            "ticks": ""
           },
           "bgcolor": "#E5ECF6",
           "caxis": {
            "gridcolor": "white",
            "linecolor": "white",
            "ticks": ""
           }
          },
          "title": {
           "x": 0.05
          },
          "xaxis": {
           "automargin": true,
           "gridcolor": "white",
           "linecolor": "white",
           "ticks": "",
           "zerolinecolor": "white",
           "zerolinewidth": 2
          },
          "yaxis": {
           "automargin": true,
           "gridcolor": "white",
           "linecolor": "white",
           "ticks": "",
           "zerolinecolor": "white",
           "zerolinewidth": 2
          }
         }
        },
        "title": {
         "text": "Top 50 Word frequencies after Preprocessing"
        }
       }
      },
      "text/html": [
       "<div>\n",
       "        \n",
       "        \n",
       "            <div id=\"5f625060-05c7-4ff9-85e6-8f6275b9419f\" class=\"plotly-graph-div\" style=\"height:525px; width:100%;\"></div>\n",
       "            <script type=\"text/javascript\">\n",
       "                require([\"plotly\"], function(Plotly) {\n",
       "                    window.PLOTLYENV=window.PLOTLYENV || {};\n",
       "                    \n",
       "                if (document.getElementById(\"5f625060-05c7-4ff9-85e6-8f6275b9419f\")) {\n",
       "                    Plotly.newPlot(\n",
       "                        '5f625060-05c7-4ff9-85e6-8f6275b9419f',\n",
       "                        [{\"marker\": {\"color\": [336886, 252750, 198143, 174176, 171967, 167627, 147504, 144311, 140257, 134771, 116533, 115621, 114068, 110011, 107836, 104599, 102585, 92532, 91020, 86373, 83370, 82821, 77487, 76782, 74648, 73657, 67293, 66570, 63093, 63080, 62896, 62742, 62160, 61885, 61553, 61238, 61170, 59200, 58056, 57371, 57024, 56969, 55363, 54264, 53936, 53270, 49982, 49756, 49124, 48865], \"colorscale\": [[0.0, \"rgb(0,0,131)\"], [0.2, \"rgb(0,60,170)\"], [0.4, \"rgb(5,255,255)\"], [0.6, \"rgb(255,255,0)\"], [0.8, \"rgb(250,0,0)\"], [1.0, \"rgb(128,0,0)\"]]}, \"text\": \"Word counts\", \"type\": \"bar\", \"x\": [\"european\", \"mr\", \"commission\", \"state\", \"president\", \"member\", \"union\", \"parliament\", \"country\", \"report\", \"council\", \"right\", \"like\", \"need\", \"europe\", \"policy\", \"eu\", \"people\", \"time\", \"year\", \"important\", \"new\", \"proposal\", \"make\", \"issue\", \"support\", \"work\", \"committee\", \"economic\", \"area\", \"market\", \"group\", \"point\", \"problem\", \"agreement\", \"question\", \"way\", \"development\", \"political\", \"commissioner\", \"amendment\", \"say\", \"social\", \"debate\", \"believe\", \"fact\", \"human\", \"community\", \"measure\", \"citizen\"], \"y\": [336886, 252750, 198143, 174176, 171967, 167627, 147504, 144311, 140257, 134771, 116533, 115621, 114068, 110011, 107836, 104599, 102585, 92532, 91020, 86373, 83370, 82821, 77487, 76782, 74648, 73657, 67293, 66570, 63093, 63080, 62896, 62742, 62160, 61885, 61553, 61238, 61170, 59200, 58056, 57371, 57024, 56969, 55363, 54264, 53936, 53270, 49982, 49756, 49124, 48865]}],\n",
       "                        {\"template\": {\"data\": {\"bar\": [{\"error_x\": {\"color\": \"#2a3f5f\"}, \"error_y\": {\"color\": \"#2a3f5f\"}, \"marker\": {\"line\": {\"color\": \"#E5ECF6\", \"width\": 0.5}}, \"type\": \"bar\"}], \"barpolar\": [{\"marker\": {\"line\": {\"color\": \"#E5ECF6\", \"width\": 0.5}}, \"type\": \"barpolar\"}], \"carpet\": [{\"aaxis\": {\"endlinecolor\": \"#2a3f5f\", \"gridcolor\": \"white\", \"linecolor\": \"white\", \"minorgridcolor\": \"white\", \"startlinecolor\": \"#2a3f5f\"}, \"baxis\": {\"endlinecolor\": \"#2a3f5f\", \"gridcolor\": \"white\", \"linecolor\": \"white\", \"minorgridcolor\": \"white\", \"startlinecolor\": \"#2a3f5f\"}, \"type\": \"carpet\"}], \"choropleth\": [{\"colorbar\": {\"outlinewidth\": 0, \"ticks\": \"\"}, \"type\": \"choropleth\"}], \"contour\": [{\"colorbar\": {\"outlinewidth\": 0, \"ticks\": \"\"}, \"colorscale\": [[0.0, \"#0d0887\"], [0.1111111111111111, \"#46039f\"], [0.2222222222222222, \"#7201a8\"], [0.3333333333333333, \"#9c179e\"], [0.4444444444444444, \"#bd3786\"], [0.5555555555555556, \"#d8576b\"], [0.6666666666666666, \"#ed7953\"], [0.7777777777777778, \"#fb9f3a\"], [0.8888888888888888, \"#fdca26\"], [1.0, \"#f0f921\"]], \"type\": \"contour\"}], \"contourcarpet\": [{\"colorbar\": {\"outlinewidth\": 0, \"ticks\": \"\"}, \"type\": \"contourcarpet\"}], \"heatmap\": [{\"colorbar\": {\"outlinewidth\": 0, \"ticks\": \"\"}, \"colorscale\": [[0.0, \"#0d0887\"], [0.1111111111111111, \"#46039f\"], [0.2222222222222222, \"#7201a8\"], [0.3333333333333333, \"#9c179e\"], [0.4444444444444444, \"#bd3786\"], [0.5555555555555556, \"#d8576b\"], [0.6666666666666666, \"#ed7953\"], [0.7777777777777778, \"#fb9f3a\"], [0.8888888888888888, \"#fdca26\"], [1.0, \"#f0f921\"]], \"type\": \"heatmap\"}], \"heatmapgl\": [{\"colorbar\": {\"outlinewidth\": 0, \"ticks\": \"\"}, \"colorscale\": [[0.0, \"#0d0887\"], [0.1111111111111111, \"#46039f\"], [0.2222222222222222, \"#7201a8\"], [0.3333333333333333, \"#9c179e\"], [0.4444444444444444, \"#bd3786\"], [0.5555555555555556, \"#d8576b\"], [0.6666666666666666, \"#ed7953\"], [0.7777777777777778, \"#fb9f3a\"], [0.8888888888888888, \"#fdca26\"], [1.0, \"#f0f921\"]], \"type\": \"heatmapgl\"}], \"histogram\": [{\"marker\": {\"colorbar\": {\"outlinewidth\": 0, \"ticks\": \"\"}}, \"type\": \"histogram\"}], \"histogram2d\": [{\"colorbar\": {\"outlinewidth\": 0, \"ticks\": \"\"}, \"colorscale\": [[0.0, \"#0d0887\"], [0.1111111111111111, \"#46039f\"], [0.2222222222222222, \"#7201a8\"], [0.3333333333333333, \"#9c179e\"], [0.4444444444444444, \"#bd3786\"], [0.5555555555555556, \"#d8576b\"], [0.6666666666666666, \"#ed7953\"], [0.7777777777777778, \"#fb9f3a\"], [0.8888888888888888, \"#fdca26\"], [1.0, \"#f0f921\"]], \"type\": \"histogram2d\"}], \"histogram2dcontour\": [{\"colorbar\": {\"outlinewidth\": 0, \"ticks\": \"\"}, \"colorscale\": [[0.0, \"#0d0887\"], [0.1111111111111111, \"#46039f\"], [0.2222222222222222, \"#7201a8\"], [0.3333333333333333, \"#9c179e\"], [0.4444444444444444, \"#bd3786\"], [0.5555555555555556, \"#d8576b\"], [0.6666666666666666, \"#ed7953\"], [0.7777777777777778, \"#fb9f3a\"], [0.8888888888888888, \"#fdca26\"], [1.0, \"#f0f921\"]], \"type\": \"histogram2dcontour\"}], \"mesh3d\": [{\"colorbar\": {\"outlinewidth\": 0, \"ticks\": \"\"}, \"type\": \"mesh3d\"}], \"parcoords\": [{\"line\": {\"colorbar\": {\"outlinewidth\": 0, \"ticks\": \"\"}}, \"type\": \"parcoords\"}], \"scatter\": [{\"marker\": {\"colorbar\": {\"outlinewidth\": 0, \"ticks\": \"\"}}, \"type\": \"scatter\"}], \"scatter3d\": [{\"line\": {\"colorbar\": {\"outlinewidth\": 0, \"ticks\": \"\"}}, \"marker\": {\"colorbar\": {\"outlinewidth\": 0, \"ticks\": \"\"}}, \"type\": \"scatter3d\"}], \"scattercarpet\": [{\"marker\": {\"colorbar\": {\"outlinewidth\": 0, \"ticks\": \"\"}}, \"type\": \"scattercarpet\"}], \"scattergeo\": [{\"marker\": {\"colorbar\": {\"outlinewidth\": 0, \"ticks\": \"\"}}, \"type\": \"scattergeo\"}], \"scattergl\": [{\"marker\": {\"colorbar\": {\"outlinewidth\": 0, \"ticks\": \"\"}}, \"type\": \"scattergl\"}], \"scattermapbox\": [{\"marker\": {\"colorbar\": {\"outlinewidth\": 0, \"ticks\": \"\"}}, \"type\": \"scattermapbox\"}], \"scatterpolar\": [{\"marker\": {\"colorbar\": {\"outlinewidth\": 0, \"ticks\": \"\"}}, \"type\": \"scatterpolar\"}], \"scatterpolargl\": [{\"marker\": {\"colorbar\": {\"outlinewidth\": 0, \"ticks\": \"\"}}, \"type\": \"scatterpolargl\"}], \"scatterternary\": [{\"marker\": {\"colorbar\": {\"outlinewidth\": 0, \"ticks\": \"\"}}, \"type\": \"scatterternary\"}], \"surface\": [{\"colorbar\": {\"outlinewidth\": 0, \"ticks\": \"\"}, \"colorscale\": [[0.0, \"#0d0887\"], [0.1111111111111111, \"#46039f\"], [0.2222222222222222, \"#7201a8\"], [0.3333333333333333, \"#9c179e\"], [0.4444444444444444, \"#bd3786\"], [0.5555555555555556, \"#d8576b\"], [0.6666666666666666, \"#ed7953\"], [0.7777777777777778, \"#fb9f3a\"], [0.8888888888888888, \"#fdca26\"], [1.0, \"#f0f921\"]], \"type\": \"surface\"}], \"table\": [{\"cells\": {\"fill\": {\"color\": \"#EBF0F8\"}, \"line\": {\"color\": \"white\"}}, \"header\": {\"fill\": {\"color\": \"#C8D4E3\"}, \"line\": {\"color\": \"white\"}}, \"type\": \"table\"}]}, \"layout\": {\"annotationdefaults\": {\"arrowcolor\": \"#2a3f5f\", \"arrowhead\": 0, \"arrowwidth\": 1}, \"colorscale\": {\"diverging\": [[0, \"#8e0152\"], [0.1, \"#c51b7d\"], [0.2, \"#de77ae\"], [0.3, \"#f1b6da\"], [0.4, \"#fde0ef\"], [0.5, \"#f7f7f7\"], [0.6, \"#e6f5d0\"], [0.7, \"#b8e186\"], [0.8, \"#7fbc41\"], [0.9, \"#4d9221\"], [1, \"#276419\"]], \"sequential\": [[0.0, \"#0d0887\"], [0.1111111111111111, \"#46039f\"], [0.2222222222222222, \"#7201a8\"], [0.3333333333333333, \"#9c179e\"], [0.4444444444444444, \"#bd3786\"], [0.5555555555555556, \"#d8576b\"], [0.6666666666666666, \"#ed7953\"], [0.7777777777777778, \"#fb9f3a\"], [0.8888888888888888, \"#fdca26\"], [1.0, \"#f0f921\"]], \"sequentialminus\": [[0.0, \"#0d0887\"], [0.1111111111111111, \"#46039f\"], [0.2222222222222222, \"#7201a8\"], [0.3333333333333333, \"#9c179e\"], [0.4444444444444444, \"#bd3786\"], [0.5555555555555556, \"#d8576b\"], [0.6666666666666666, \"#ed7953\"], [0.7777777777777778, \"#fb9f3a\"], [0.8888888888888888, \"#fdca26\"], [1.0, \"#f0f921\"]]}, \"colorway\": [\"#636efa\", \"#EF553B\", \"#00cc96\", \"#ab63fa\", \"#FFA15A\", \"#19d3f3\", \"#FF6692\", \"#B6E880\", \"#FF97FF\", \"#FECB52\"], \"font\": {\"color\": \"#2a3f5f\"}, \"geo\": {\"bgcolor\": \"white\", \"lakecolor\": \"white\", \"landcolor\": \"#E5ECF6\", \"showlakes\": true, \"showland\": true, \"subunitcolor\": \"white\"}, \"hoverlabel\": {\"align\": \"left\"}, \"hovermode\": \"closest\", \"mapbox\": {\"style\": \"light\"}, \"paper_bgcolor\": \"white\", \"plot_bgcolor\": \"#E5ECF6\", \"polar\": {\"angularaxis\": {\"gridcolor\": \"white\", \"linecolor\": \"white\", \"ticks\": \"\"}, \"bgcolor\": \"#E5ECF6\", \"radialaxis\": {\"gridcolor\": \"white\", \"linecolor\": \"white\", \"ticks\": \"\"}}, \"scene\": {\"xaxis\": {\"backgroundcolor\": \"#E5ECF6\", \"gridcolor\": \"white\", \"gridwidth\": 2, \"linecolor\": \"white\", \"showbackground\": true, \"ticks\": \"\", \"zerolinecolor\": \"white\"}, \"yaxis\": {\"backgroundcolor\": \"#E5ECF6\", \"gridcolor\": \"white\", \"gridwidth\": 2, \"linecolor\": \"white\", \"showbackground\": true, \"ticks\": \"\", \"zerolinecolor\": \"white\"}, \"zaxis\": {\"backgroundcolor\": \"#E5ECF6\", \"gridcolor\": \"white\", \"gridwidth\": 2, \"linecolor\": \"white\", \"showbackground\": true, \"ticks\": \"\", \"zerolinecolor\": \"white\"}}, \"shapedefaults\": {\"line\": {\"color\": \"#2a3f5f\"}}, \"ternary\": {\"aaxis\": {\"gridcolor\": \"white\", \"linecolor\": \"white\", \"ticks\": \"\"}, \"baxis\": {\"gridcolor\": \"white\", \"linecolor\": \"white\", \"ticks\": \"\"}, \"bgcolor\": \"#E5ECF6\", \"caxis\": {\"gridcolor\": \"white\", \"linecolor\": \"white\", \"ticks\": \"\"}}, \"title\": {\"x\": 0.05}, \"xaxis\": {\"automargin\": true, \"gridcolor\": \"white\", \"linecolor\": \"white\", \"ticks\": \"\", \"zerolinecolor\": \"white\", \"zerolinewidth\": 2}, \"yaxis\": {\"automargin\": true, \"gridcolor\": \"white\", \"linecolor\": \"white\", \"ticks\": \"\", \"zerolinecolor\": \"white\", \"zerolinewidth\": 2}}}, \"title\": {\"text\": \"Top 50 Word frequencies after Preprocessing\"}},\n",
       "                        {\"responsive\": true}\n",
       "                    ).then(function(){\n",
       "                            \n",
       "var gd = document.getElementById('5f625060-05c7-4ff9-85e6-8f6275b9419f');\n",
       "var x = new MutationObserver(function (mutations, observer) {{\n",
       "        var display = window.getComputedStyle(gd).display;\n",
       "        if (!display || display === 'none') {{\n",
       "            console.log([gd, 'removed!']);\n",
       "            Plotly.purge(gd);\n",
       "            observer.disconnect();\n",
       "        }}\n",
       "}});\n",
       "\n",
       "// Listen for the removal of the full notebook cells\n",
       "var notebookContainer = gd.closest('#notebook-container');\n",
       "if (notebookContainer) {{\n",
       "    x.observe(notebookContainer, {childList: true});\n",
       "}}\n",
       "\n",
       "// Listen for the clearing of the current output cell\n",
       "var outputEl = gd.closest('.output');\n",
       "if (outputEl) {{\n",
       "    x.observe(outputEl, {childList: true});\n",
       "}}\n",
       "\n",
       "                        })\n",
       "                };\n",
       "                });\n",
       "            </script>\n",
       "        </div>"
      ]
     },
     "metadata": {},
     "output_type": "display_data"
    }
   ],
   "source": [
    "feature_names = tf_vectorizer.get_feature_names()\n",
    "count_vec = np.asarray(tf.sum(axis=0)).ravel()\n",
    "zipped = list(zip(feature_names, count_vec))\n",
    "x, y = (list(x) for x in zip(*sorted(zipped, key=lambda x: x[1], reverse=True)))\n",
    "# Now I want to extract out on the top 15 and bottom 15 words\n",
    "Y = np.concatenate([y[0:15], y[-16:-1]])\n",
    "X = np.concatenate([x[0:15], x[-16:-1]])\n",
    "\n",
    "# Plotting the Plot.ly plot for the Top 50 word frequencies\n",
    "data = [go.Bar(\n",
    "            x = x[0:50],\n",
    "            y = y[0:50],\n",
    "            marker= dict(colorscale='Jet',\n",
    "                         color = y[0:50]\n",
    "                        ),\n",
    "            text='Word counts'\n",
    "    )]\n",
    "\n",
    "layout = go.Layout(\n",
    "    title='Top 50 Word frequencies after Preprocessing'\n",
    ")\n",
    "\n",
    "fig = go.Figure(data=data, layout=layout)\n",
    "\n",
    "py.iplot(fig, filename='basic-bar')\n"
   ]
  },
  {
   "cell_type": "markdown",
   "metadata": {},
   "source": [
    "As you can see from the plot, all our prior preprocessing efforts have not gone to waste. With the removal of stopwords, the remaining words seem much more meaningful where you can see that all the stopwords in the earlier term frequency plot\n"
   ]
  },
  {
   "cell_type": "markdown",
   "metadata": {},
   "source": [
    "## <a id='smo'>10. Sparsity matrix vector ouptuts  </a> \n",
    "\n",
    "Since most cells in this matrix will be zero, we are interested in knowing what percentage of cells contain non-zero values.\n",
    "\n",
    "The vectorizer returns the transformed raw text as a matrix where most of its values are zero or almost negligible, hence the term sparse, then thinking about checking the sparsity make sense that our returned matrices contain quite a high degree of sparsity due to. "
   ]
  },
  {
   "cell_type": "code",
   "execution_count": 14,
   "metadata": {},
   "outputs": [
    {
     "name": "stderr",
     "output_type": "stream",
     "text": [
      "/Users/soufiane/anaconda3/lib/python3.7/site-packages/ipykernel_launcher.py:1: DeprecationWarning:\n",
      "\n",
      "time.clock has been deprecated in Python 3.3 and will be removed from Python 3.8: use time.perf_counter or time.process_time instead\n",
      "\n"
     ]
    },
    {
     "name": "stdout",
     "output_type": "stream",
     "text": [
      "Sparsicity:  1.7668002609537876 %\n",
      "0.06460348333333314 seconds\n"
     ]
    },
    {
     "name": "stderr",
     "output_type": "stream",
     "text": [
      "/Users/soufiane/anaconda3/lib/python3.7/site-packages/ipykernel_launcher.py:12: DeprecationWarning:\n",
      "\n",
      "time.clock has been deprecated in Python 3.3 and will be removed from Python 3.8: use time.perf_counter or time.process_time instead\n",
      "\n"
     ]
    }
   ],
   "source": [
    "start_time = time.clock()\n",
    "##########################################\n",
    "\n",
    "\n",
    "# Materialize the sparse data\n",
    "data_dense = tf.todense()\n",
    "\n",
    "# Compute Sparsicity = Percentage of Non-Zero cells\n",
    "print(\"Sparsicity: \", ((data_dense > 0).sum()/data_dense.size)*100, \"%\")\n",
    "\n",
    "##########################################\n",
    "print((time.clock() - start_time)/60, \"seconds\")"
   ]
  },
  {
   "cell_type": "markdown",
   "metadata": {},
   "source": [
    "##  <a id='tmwlda'>11. Topic Modelling  with LDA   </a> \n",
    "\n",
    "Latent Dirichlet Allocation is a generative probabilistic model for collections of discrete dataset such as text corpora. It is also a topic model that is used for discovering abstract topics from a collection of documents.\n",
    "\n",
    "\n",
    "* The corpus is a collection of $D$ documents.\n",
    "\n",
    "* A document is a sequence of $N$ words.\n",
    "\n",
    "* There are $K$ topics in the corpus.\n",
    "\n",
    "* The boxes represent repeated sampling. \n",
    "\n",
    "In the graphical model, each node is a random variable and has a role in the generative process. A shaded node indicates an observed variable and an unshaded node indicates a hidden (latent) variable. In this case, words in the corpus are the only data that we observe. The latent variables determine the random mixture of topics in the corpus and the distribution of words in the documents. The goal of LDA is to use the observed words to infer the hidden topic structure.\n",
    "\n",
    "When modeling text corpora, the model assumes the following generative process for a corpus with D documents and K topics, with K corresponding to n_components in the API:\n",
    "\n",
    "* 1. For each topic $k \\in K$ , draw $\\beta_k \\sim Dirichlet(\\mu)$. This provides a distribution over the words, i.e. the probability of a word appearing in topic k. $\\mu$ corresponds to topic_word_prior.\n",
    "\n",
    "* 2. For each document $d \\in D$, draw the topic proportions $\\theta_d \\sim Dirichlet(\\alpha)$. $\\alpha$  corresponds to doc_topic_prior.\n",
    "\n",
    "* 3. For each word  in document d \n",
    "\n",
    "    *  Draw the topic assignment $z_{di} \\sim \\mathrm{Multinomial}(\\theta_d)$\n",
    "    *  Draw the observed word $w_{ij} \\sim \\mathrm{Multinomial}(\\beta_{z_{di}})$\n",
    "\n",
    "For parameter estimation, the posterior distribution is:\n",
    "$$p(z, \\theta, \\beta |w, \\alpha, \\eta) = \\frac{p(z, \\theta, \\beta|\\alpha, \\eta)}{p(w|\\alpha, \\eta)}$$"
   ]
  },
  {
   "cell_type": "code",
   "execution_count": 17,
   "metadata": {},
   "outputs": [
    {
     "name": "stderr",
     "output_type": "stream",
     "text": [
      "/Users/soufiane/anaconda3/lib/python3.7/site-packages/ipykernel_launcher.py:1: DeprecationWarning:\n",
      "\n",
      "time.clock has been deprecated in Python 3.3 and will be removed from Python 3.8: use time.perf_counter or time.process_time instead\n",
      "\n"
     ]
    },
    {
     "name": "stdout",
     "output_type": "stream",
     "text": [
      "LatentDirichletAllocation(batch_size=128, doc_topic_prior=None,\n",
      "                          evaluate_every=-1, learning_decay=0.5,\n",
      "                          learning_method='online', learning_offset=10.0,\n",
      "                          max_doc_update_iter=100, max_iter=10,\n",
      "                          mean_change_tol=0.001, n_components=10, n_jobs=-1,\n",
      "                          perp_tol=0.1, random_state=100, topic_word_prior=None,\n",
      "                          total_samples=1000000.0, verbose=0)\n",
      "1.519342566666667 seconds\n"
     ]
    },
    {
     "name": "stderr",
     "output_type": "stream",
     "text": [
      "/Users/soufiane/anaconda3/lib/python3.7/site-packages/ipykernel_launcher.py:21: DeprecationWarning:\n",
      "\n",
      "time.clock has been deprecated in Python 3.3 and will be removed from Python 3.8: use time.perf_counter or time.process_time instead\n",
      "\n"
     ]
    }
   ],
   "source": [
    "start_time = time.clock()\n",
    "##########################################\n",
    "\n",
    "\n",
    "# Build LDA Model\n",
    "lda_model = LatentDirichletAllocation(n_components=10,            # Number of topics\n",
    "                                      max_iter=10,               # Max learning iterations\n",
    "                                      learning_method='online',   \n",
    "                                      random_state=100,          # Random state\n",
    "                                      batch_size=128,            # n docs in each learning iter\n",
    "                                      evaluate_every = -1,       # compute perplexity every n iters, default: Don't\n",
    "                                      n_jobs = -1,               # Use all available CPUs\n",
    "                                      learning_decay = 0.5\n",
    "                                     )\n",
    "\n",
    "lda_output = lda_model.fit_transform(tf)\n",
    "\n",
    "print(lda_model)  # Model attributes\n",
    "\n",
    "##########################################\n",
    "print((time.clock() - start_time)/60, \"seconds\")"
   ]
  },
  {
   "cell_type": "markdown",
   "metadata": {},
   "source": [
    "##   <a id='em'>12. Evaluation of the Model    </a> \n",
    "A model with higher log-likelihood and lower perplexity ($\\exp(-1. * log-likelihood)$ per word)) is considered to be good. Let’s check for our model."
   ]
  },
  {
   "cell_type": "code",
   "execution_count": 76,
   "metadata": {},
   "outputs": [
    {
     "name": "stderr",
     "output_type": "stream",
     "text": [
      "/Users/soufiane/anaconda3/lib/python3.7/site-packages/ipykernel_launcher.py:1: DeprecationWarning:\n",
      "\n",
      "time.clock has been deprecated in Python 3.3 and will be removed from Python 3.8: use time.perf_counter or time.process_time instead\n",
      "\n"
     ]
    },
    {
     "name": "stdout",
     "output_type": "stream",
     "text": [
      "Log Likelihood:  -196136428.4268446\n",
      "Perplexity:  2407.338528002178\n",
      "0.08981719999999692 seconds\n"
     ]
    },
    {
     "name": "stderr",
     "output_type": "stream",
     "text": [
      "/Users/soufiane/anaconda3/lib/python3.7/site-packages/ipykernel_launcher.py:12: DeprecationWarning:\n",
      "\n",
      "time.clock has been deprecated in Python 3.3 and will be removed from Python 3.8: use time.perf_counter or time.process_time instead\n",
      "\n"
     ]
    }
   ],
   "source": [
    "start_time = time.clock()\n",
    "##########################################\n",
    "\n",
    "\n",
    "# Log Likelyhood: Higher the better\n",
    "print(\"Log Likelihood: \", lda_model.score(tf))\n",
    "\n",
    "# Perplexity: Lower the better. Perplexity = exp(-1. * log-likelihood per word)\n",
    "print(\"Perplexity: \", lda_model.perplexity(tf))\n",
    "\n",
    "##########################################\n",
    "print((time.clock() - start_time)/60, \"seconds\")"
   ]
  },
  {
   "cell_type": "markdown",
   "metadata": {},
   "source": [
    "## <a id='thwg1'>13. Tuning the Hyperparameter with GridSearch : 'n_components': [10, 15, 20, 25, 30] </a> \n",
    "\n",
    "The most important tuning parameter for LDA models is n_components (number of topics). In addition, I am going to search learning_decay (which controls the learning rate) as well.\n"
   ]
  },
  {
   "cell_type": "code",
   "execution_count": 77,
   "metadata": {},
   "outputs": [
    {
     "name": "stderr",
     "output_type": "stream",
     "text": [
      "/Users/soufiane/anaconda3/lib/python3.7/site-packages/ipykernel_launcher.py:1: DeprecationWarning:\n",
      "\n",
      "time.clock has been deprecated in Python 3.3 and will be removed from Python 3.8: use time.perf_counter or time.process_time instead\n",
      "\n",
      "/Users/soufiane/anaconda3/lib/python3.7/site-packages/sklearn/model_selection/_split.py:1978: FutureWarning:\n",
      "\n",
      "The default value of cv will change from 3 to 5 in version 0.22. Specify it explicitly to silence this warning.\n",
      "\n"
     ]
    },
    {
     "name": "stdout",
     "output_type": "stream",
     "text": [
      "259.89373405 seconds\n"
     ]
    },
    {
     "name": "stderr",
     "output_type": "stream",
     "text": [
      "/Users/soufiane/anaconda3/lib/python3.7/site-packages/ipykernel_launcher.py:18: DeprecationWarning:\n",
      "\n",
      "time.clock has been deprecated in Python 3.3 and will be removed from Python 3.8: use time.perf_counter or time.process_time instead\n",
      "\n"
     ]
    }
   ],
   "source": [
    "start_time = time.clock()\n",
    "##########################################\n",
    "\n",
    "\n",
    "# Define Search Param\n",
    "search_params = {'n_components': [10, 15, 20, 25, 30], 'learning_decay': [.5, .7, .9]}\n",
    "\n",
    "# Init the Model\n",
    "lda = LatentDirichletAllocation()\n",
    "\n",
    "# Init Grid Search Class\n",
    "model = GridSearchCV(lda, param_grid=search_params)\n",
    "\n",
    "# Do the Grid Search\n",
    "model.fit(tf)\n",
    "\n",
    "##########################################\n",
    "print((time.clock() - start_time)/60, \"seconds\")"
   ]
  },
  {
   "cell_type": "code",
   "execution_count": 81,
   "metadata": {},
   "outputs": [
    {
     "name": "stdout",
     "output_type": "stream",
     "text": [
      "Best Model's Params:  {'learning_decay': 0.5, 'n_components': 10}\n",
      "Best Log Likelihood Score:  -66181009.27642528\n",
      "Model Perplexity:  2358.9290055727124\n"
     ]
    }
   ],
   "source": [
    "# Best Model\n",
    "\n",
    "best_lda_model = model.best_estimator_\n",
    "\n",
    "\n",
    "# Model Parameters\n",
    "print(\"Best Model's Params: \", model.best_params_)\n",
    "\n",
    "# Log Likelihood Score\n",
    "print(\"Best Log Likelihood Score: \", model.best_score_)\n",
    "\n",
    "# Perplexity\n",
    "print(\"Model Perplexity: \", best_lda_model.perplexity(tf))"
   ]
  },
  {
   "cell_type": "markdown",
   "metadata": {},
   "source": [
    "## <a id='thwg2'>14. Tuning the Hyperparameter with GridSearch : 'n_components': [3,5,8,10] </a> \n"
   ]
  },
  {
   "cell_type": "code",
   "execution_count": 13,
   "metadata": {},
   "outputs": [
    {
     "name": "stderr",
     "output_type": "stream",
     "text": [
      "/Users/soufiane/anaconda3/lib/python3.7/site-packages/ipykernel_launcher.py:1: DeprecationWarning:\n",
      "\n",
      "time.clock has been deprecated in Python 3.3 and will be removed from Python 3.8: use time.perf_counter or time.process_time instead\n",
      "\n",
      "/Users/soufiane/anaconda3/lib/python3.7/site-packages/sklearn/model_selection/_split.py:1978: FutureWarning:\n",
      "\n",
      "The default value of cv will change from 3 to 5 in version 0.22. Specify it explicitly to silence this warning.\n",
      "\n"
     ]
    },
    {
     "name": "stdout",
     "output_type": "stream",
     "text": [
      "56.022663216666665 seconds\n"
     ]
    },
    {
     "name": "stderr",
     "output_type": "stream",
     "text": [
      "/Users/soufiane/anaconda3/lib/python3.7/site-packages/ipykernel_launcher.py:18: DeprecationWarning:\n",
      "\n",
      "time.clock has been deprecated in Python 3.3 and will be removed from Python 3.8: use time.perf_counter or time.process_time instead\n",
      "\n"
     ]
    }
   ],
   "source": [
    "start_time = time.clock()\n",
    "##########################################\n",
    "\n",
    "\n",
    "# Define Search Param\n",
    "search_params = {'n_components': [3,5,8,10], 'learning_decay': [.5]}\n",
    "\n",
    "# Init the Model\n",
    "lda = LatentDirichletAllocation()\n",
    "\n",
    "# Init Grid Search Class\n",
    "model = GridSearchCV(lda, param_grid=search_params)\n",
    "\n",
    "# Do the Grid Search\n",
    "model.fit(tf)\n",
    "\n",
    "##########################################\n",
    "print((time.clock() - start_time)/60, \"seconds\")"
   ]
  },
  {
   "cell_type": "code",
   "execution_count": 14,
   "metadata": {},
   "outputs": [
    {
     "name": "stdout",
     "output_type": "stream",
     "text": [
      "Best Model's Params:  {'learning_decay': 0.5, 'n_components': 5}\n",
      "Best Log Likelihood Score:  -66120833.220062\n",
      "Model Perplexity:  2413.3976548617356\n"
     ]
    }
   ],
   "source": [
    "# Best Model\n",
    "\n",
    "best_lda_model = model.best_estimator_\n",
    "\n",
    "\n",
    "# Model Parameters\n",
    "print(\"Best Model's Params: \", model.best_params_)\n",
    "\n",
    "# Log Likelihood Score\n",
    "print(\"Best Log Likelihood Score: \", model.best_score_)\n",
    "\n",
    "# Perplexity\n",
    "print(\"Model Perplexity: \", best_lda_model.perplexity(tf))"
   ]
  },
  {
   "cell_type": "markdown",
   "metadata": {},
   "source": [
    "## <a id='coll'>15. Curve of log-likelihood scores against num_topics</a> "
   ]
  },
  {
   "cell_type": "markdown",
   "metadata": {},
   "source": [
    "* we are going to fix the number od topic to : 0.5 \n",
    "* clearly with the following  plot and the previous Tuning the Hyperparameter with GridSearch : 'n_components': [10, 15, 20, 25, 30] we shows the number of topics = 10 has better scores."
   ]
  },
  {
   "cell_type": "code",
   "execution_count": 52,
   "metadata": {
    "scrolled": false
   },
   "outputs": [
    {
     "data": {
      "image/png": "[encoded data removed]",
      "text/plain": [
       "<Figure size 864x576 with 1 Axes>"
      ]
     },
     "metadata": {
      "needs_background": "light"
     },
     "output_type": "display_data"
    }
   ],
   "source": [
    "# Get Log Likelyhoods from Grid Search Output\n",
    "n_topics = [3,5,8,10]\n",
    "log_likelyhoods_5 = model.cv_results_[\"mean_test_score\"]\n",
    "\n",
    "# Show graph\n",
    "plt.figure(figsize=(12, 8))\n",
    "plt.plot(n_topics, log_likelyhoods_5, label='0.5')\n",
    "plt.title(\"Choosing Optimal LDA Model\")\n",
    "plt.xlabel(\"Num Topics\")\n",
    "plt.ylabel(\"Log Likelyhood Scores\")\n",
    "\n",
    "plt.show()"
   ]
  },
  {
   "cell_type": "markdown",
   "metadata": {},
   "source": [
    "##  <a id='vwp'>16. Visualization with  pyLDAvis </a> \n",
    "\n",
    "The pyLDAvis offers the best visualization to view the topics-keywords distribution.\n",
    "\n"
   ]
  },
  {
   "cell_type": "code",
   "execution_count": 59,
   "metadata": {},
   "outputs": [],
   "source": [
    "import warnings\n",
    "warnings.filterwarnings(\"ignore\", category=FutureWarning)\n"
   ]
  },
  {
   "cell_type": "code",
   "execution_count": 60,
   "metadata": {},
   "outputs": [
    {
     "data": {
      "text/html": [
       "\n",
       "<link rel=\"stylesheet\" type=\"text/css\" href=\"https://cdn.rawgit.com/bmabey/pyLDAvis/files/ldavis.v1.0.0.css\">\n",
       "\n",
       "\n",
       "<div id=\"ldavis_el258591124012618162564423836\"></div>\n",
       "<script type=\"text/javascript\">\n",
       "\n",
       "var ldavis_el258591124012618162564423836_data = {\"mdsDat\": {\"x\": [247.08106994628906, 8.546670913696289, 185.86669921875, -199.41517639160156, -49.165103912353516], \"y\": [-128.42759704589844, -158.86227416992188, 112.70420837402344, -38.10253143310547, 160.1746826171875], \"topics\": [1, 2, 3, 4, 5], \"cluster\": [1, 1, 1, 1, 1], \"Freq\": [27.774943850922977, 24.449890826703943, 19.0806291311602, 16.270904064346215, 12.423632126866657]}, \"tinfo\": {\"Category\": [\"Default\", \"Default\", \"Default\", \"Default\", \"Default\", \"Default\", \"Default\", \"Default\", \"Default\", \"Default\", \"Default\", \"Default\", \"Default\", \"Default\", \"Default\", \"Default\", \"Default\", \"Default\", \"Default\", \"Default\", \"Default\", \"Default\", \"Default\", \"Default\", \"Default\", \"Default\", \"Default\", \"Default\", \"Default\", \"Default\", \"Topic1\", \"Topic1\", \"Topic1\", \"Topic1\", \"Topic1\", \"Topic1\", \"Topic1\", \"Topic1\", \"Topic1\", \"Topic1\", \"Topic1\", \"Topic1\", \"Topic1\", \"Topic1\", \"Topic1\", \"Topic1\", \"Topic1\", \"Topic1\", \"Topic1\", \"Topic1\", \"Topic1\", \"Topic1\", \"Topic1\", \"Topic1\", \"Topic1\", \"Topic1\", \"Topic1\", \"Topic1\", \"Topic1\", \"Topic1\", \"Topic1\", \"Topic1\", \"Topic1\", \"Topic1\", \"Topic1\", \"Topic1\", \"Topic1\", \"Topic1\", \"Topic1\", \"Topic1\", \"Topic1\", \"Topic1\", \"Topic1\", \"Topic1\", \"Topic1\", \"Topic1\", \"Topic1\", \"Topic1\", \"Topic1\", \"Topic1\", \"Topic1\", \"Topic1\", \"Topic1\", \"Topic1\", \"Topic1\", \"Topic1\", \"Topic1\", \"Topic1\", \"Topic1\", \"Topic1\", \"Topic1\", \"Topic1\", \"Topic1\", \"Topic1\", \"Topic1\", \"Topic1\", \"Topic1\", \"Topic1\", \"Topic1\", \"Topic1\", \"Topic1\", \"Topic1\", \"Topic1\", \"Topic1\", \"Topic1\", \"Topic1\", \"Topic1\", \"Topic1\", \"Topic1\", \"Topic1\", \"Topic1\", \"Topic1\", \"Topic1\", \"Topic1\", \"Topic1\", \"Topic1\", \"Topic1\", \"Topic1\", \"Topic1\", \"Topic1\", \"Topic1\", \"Topic1\", \"Topic1\", \"Topic1\", \"Topic1\", \"Topic1\", \"Topic1\", \"Topic1\", \"Topic1\", \"Topic1\", \"Topic1\", \"Topic1\", \"Topic1\", \"Topic1\", \"Topic1\", \"Topic1\", \"Topic1\", \"Topic1\", \"Topic1\", \"Topic1\", \"Topic2\", \"Topic2\", \"Topic2\", \"Topic2\", \"Topic2\", \"Topic2\", \"Topic2\", \"Topic2\", \"Topic2\", \"Topic2\", \"Topic2\", \"Topic2\", \"Topic2\", \"Topic2\", \"Topic2\", \"Topic2\", \"Topic2\", \"Topic2\", \"Topic2\", \"Topic2\", \"Topic2\", \"Topic2\", \"Topic2\", \"Topic2\", \"Topic2\", \"Topic2\", \"Topic2\", \"Topic2\", \"Topic2\", \"Topic2\", \"Topic2\", \"Topic2\", \"Topic2\", \"Topic2\", \"Topic2\", \"Topic2\", \"Topic2\", \"Topic2\", \"Topic2\", \"Topic2\", \"Topic2\", \"Topic2\", \"Topic2\", \"Topic2\", \"Topic2\", \"Topic2\", \"Topic2\", \"Topic2\", \"Topic2\", \"Topic2\", \"Topic2\", \"Topic2\", \"Topic2\", \"Topic2\", \"Topic2\", \"Topic2\", \"Topic2\", \"Topic2\", \"Topic2\", \"Topic2\", \"Topic2\", \"Topic2\", \"Topic2\", \"Topic2\", \"Topic2\", \"Topic2\", \"Topic2\", \"Topic2\", \"Topic2\", \"Topic2\", \"Topic2\", \"Topic2\", \"Topic2\", \"Topic2\", \"Topic2\", \"Topic2\", \"Topic2\", \"Topic2\", \"Topic2\", \"Topic2\", \"Topic2\", \"Topic2\", \"Topic2\", \"Topic2\", \"Topic2\", \"Topic2\", \"Topic2\", \"Topic2\", \"Topic2\", \"Topic2\", \"Topic2\", \"Topic2\", \"Topic2\", \"Topic2\", \"Topic2\", \"Topic2\", \"Topic2\", \"Topic2\", \"Topic2\", \"Topic2\", \"Topic2\", \"Topic2\", \"Topic2\", \"Topic2\", \"Topic2\", \"Topic2\", \"Topic2\", \"Topic2\", \"Topic2\", \"Topic2\", \"Topic3\", \"Topic3\", \"Topic3\", \"Topic3\", \"Topic3\", \"Topic3\", \"Topic3\", \"Topic3\", \"Topic3\", \"Topic3\", \"Topic3\", \"Topic3\", \"Topic3\", \"Topic3\", \"Topic3\", \"Topic3\", \"Topic3\", \"Topic3\", \"Topic3\", \"Topic3\", \"Topic3\", \"Topic3\", \"Topic3\", \"Topic3\", \"Topic3\", \"Topic3\", \"Topic3\", \"Topic3\", \"Topic3\", \"Topic3\", \"Topic3\", \"Topic3\", \"Topic3\", \"Topic3\", \"Topic3\", \"Topic3\", \"Topic3\", \"Topic3\", \"Topic3\", \"Topic3\", \"Topic3\", \"Topic3\", \"Topic3\", \"Topic3\", \"Topic3\", \"Topic3\", \"Topic3\", \"Topic3\", \"Topic3\", \"Topic3\", \"Topic3\", \"Topic3\", \"Topic3\", \"Topic3\", \"Topic3\", \"Topic3\", \"Topic3\", \"Topic3\", \"Topic3\", \"Topic3\", \"Topic3\", \"Topic3\", \"Topic3\", \"Topic3\", \"Topic3\", \"Topic3\", \"Topic3\", \"Topic3\", \"Topic3\", \"Topic3\", \"Topic3\", \"Topic3\", \"Topic3\", \"Topic3\", \"Topic3\", \"Topic3\", \"Topic3\", \"Topic3\", \"Topic3\", \"Topic3\", \"Topic3\", \"Topic3\", \"Topic3\", \"Topic3\", \"Topic3\", \"Topic3\", \"Topic3\", \"Topic3\", \"Topic3\", \"Topic3\", \"Topic3\", \"Topic3\", \"Topic3\", \"Topic3\", \"Topic3\", \"Topic3\", \"Topic3\", \"Topic3\", \"Topic3\", \"Topic3\", \"Topic3\", \"Topic3\", \"Topic3\", \"Topic3\", \"Topic3\", \"Topic3\", \"Topic3\", \"Topic3\", \"Topic3\", \"Topic3\", \"Topic3\", \"Topic4\", \"Topic4\", \"Topic4\", \"Topic4\", \"Topic4\", \"Topic4\", \"Topic4\", \"Topic4\", \"Topic4\", \"Topic4\", \"Topic4\", \"Topic4\", \"Topic4\", \"Topic4\", \"Topic4\", \"Topic4\", \"Topic4\", \"Topic4\", \"Topic4\", \"Topic4\", \"Topic4\", \"Topic4\", \"Topic4\", \"Topic4\", \"Topic4\", \"Topic4\", \"Topic4\", \"Topic4\", \"Topic4\", \"Topic4\", \"Topic4\", \"Topic4\", \"Topic4\", \"Topic4\", \"Topic4\", \"Topic4\", \"Topic4\", \"Topic4\", \"Topic4\", \"Topic4\", \"Topic4\", \"Topic4\", \"Topic4\", \"Topic4\", \"Topic4\", \"Topic4\", \"Topic4\", \"Topic4\", \"Topic4\", \"Topic4\", \"Topic4\", \"Topic4\", \"Topic4\", \"Topic4\", \"Topic4\", \"Topic4\", \"Topic4\", \"Topic4\", \"Topic4\", \"Topic4\", \"Topic4\", \"Topic4\", \"Topic4\", \"Topic4\", \"Topic4\", \"Topic4\", \"Topic4\", \"Topic4\", \"Topic4\", \"Topic4\", \"Topic4\", \"Topic4\", \"Topic4\", \"Topic4\", \"Topic4\", \"Topic4\", \"Topic4\", \"Topic4\", \"Topic4\", \"Topic4\", \"Topic4\", \"Topic4\", \"Topic4\", \"Topic4\", \"Topic4\", \"Topic4\", \"Topic4\", \"Topic4\", \"Topic4\", \"Topic4\", \"Topic4\", \"Topic4\", \"Topic4\", \"Topic4\", \"Topic4\", \"Topic4\", \"Topic4\", \"Topic4\", \"Topic4\", \"Topic4\", \"Topic4\", \"Topic4\", \"Topic4\", \"Topic5\", \"Topic5\", \"Topic5\", \"Topic5\", \"Topic5\", \"Topic5\", \"Topic5\", \"Topic5\", \"Topic5\", \"Topic5\", \"Topic5\", \"Topic5\", \"Topic5\", \"Topic5\", \"Topic5\", \"Topic5\", \"Topic5\", \"Topic5\", \"Topic5\", \"Topic5\", \"Topic5\", \"Topic5\", \"Topic5\", \"Topic5\", \"Topic5\", \"Topic5\", \"Topic5\", \"Topic5\", \"Topic5\", \"Topic5\", \"Topic5\", \"Topic5\", \"Topic5\", \"Topic5\", \"Topic5\", \"Topic5\", \"Topic5\", \"Topic5\", \"Topic5\", \"Topic5\", \"Topic5\", \"Topic5\", \"Topic5\", \"Topic5\", \"Topic5\", \"Topic5\", \"Topic5\", \"Topic5\", \"Topic5\", \"Topic5\", \"Topic5\", \"Topic5\", \"Topic5\", \"Topic5\", \"Topic5\", \"Topic5\", \"Topic5\", \"Topic5\", \"Topic5\", \"Topic5\", \"Topic5\", \"Topic5\", \"Topic5\", \"Topic5\", \"Topic5\", \"Topic5\", \"Topic5\", \"Topic5\", \"Topic5\", \"Topic5\", \"Topic5\", \"Topic5\", \"Topic5\", \"Topic5\", \"Topic5\", \"Topic5\", \"Topic5\", \"Topic5\", \"Topic5\", \"Topic5\", \"Topic5\", \"Topic5\", \"Topic5\", \"Topic5\", \"Topic5\", \"Topic5\", \"Topic5\", \"Topic5\", \"Topic5\", \"Topic5\", \"Topic5\", \"Topic5\", \"Topic5\", \"Topic5\", \"Topic5\", \"Topic5\", \"Topic5\", \"Topic5\", \"Topic5\", \"Topic5\", \"Topic5\", \"Topic5\", \"Topic5\", \"Topic5\"], \"Freq\": [36834.0, 102271.0, 62840.0, 336207.0, 46155.0, 22206.0, 31336.0, 26975.0, 37155.0, 43485.0, 57157.0, 33243.0, 63015.0, 198257.0, 61350.0, 55373.0, 66693.0, 134802.0, 27152.0, 29322.0, 34304.0, 13660.0, 9282.0, 21556.0, 77601.0, 104464.0, 109878.0, 26183.0, 49731.0, 23710.0, 1013.7788768956242, 398.71419874347043, 344.1649185105791, 675.3877443262053, 1044.9331478489007, 423.0201735824076, 223.24968911542578, 520.378215371618, 186.56733871448068, 216.12319709065065, 160.78800288883073, 392.590456330633, 578.0235499716765, 191.33200739158775, 851.0554195181642, 800.7428149579519, 160.7385960046063, 250.47105221895058, 199.18253750908755, 147.90679247733368, 144.91727463014178, 137.9965509544413, 436.56138643586655, 133.02958264386373, 1128.2506722508087, 129.07579297367303, 293.498284167467, 132.91735754058587, 166.38216124551906, 114.19972466057098, 6375.462657267612, 3500.4763109411215, 5945.346332354533, 1372.661917299241, 4199.656955244593, 1767.2144799152445, 1298.7054381796374, 1296.9412327432556, 1224.244407814813, 1566.5964553924753, 801.0921361929146, 1525.956786481636, 581.44632133977, 315.8323915129088, 744.8595216158656, 1896.8581539599525, 1833.0783755281504, 374.1821985613918, 5146.144622832989, 3397.973155585404, 2458.6899572897437, 12870.79194706394, 13761.667520090323, 5485.7435272915, 3230.6299346066103, 1301.545961973659, 2983.2602854798374, 11433.628461676768, 10035.564419041906, 8185.1716973891425, 2644.948780652518, 11786.00048385464, 16013.390425421472, 7629.36636593354, 3998.9956666606026, 34727.08838757035, 4469.259338781734, 13842.027961778445, 7061.50528579404, 20191.982504210526, 8004.761450826335, 5595.619634920609, 3708.2861705695573, 11318.466276717287, 9869.435638107414, 59303.00934381609, 8814.50228560147, 32813.96275481779, 6159.399594520951, 25064.1012998779, 66172.37815695508, 14183.288162649187, 69451.66825585597, 58651.895685172414, 110907.24599629686, 21548.194577082377, 38924.82429258914, 80076.9359855142, 45467.262407312766, 41722.988494364276, 16299.137807347062, 18008.529854233617, 18030.581063626974, 41133.64912030944, 44661.34523286864, 20549.703796144033, 31072.378361366784, 31575.105511334412, 18561.31366483103, 36067.036390120906, 25715.571367840792, 23021.520909796825, 31316.173053618702, 23427.132927541432, 21013.624521758622, 25084.59587853381, 24690.056113142484, 20459.86350393622, 20440.932525520035, 20133.3287180584, 296.45722098766015, 495.05525836013396, 190.677266102084, 211.6821017379036, 144.3192631357022, 116.03010463689357, 144.9180859319294, 99.92182460838009, 71.76653463794912, 65.7000751638598, 63.694451845912255, 84.52853395807182, 59.665011998003855, 72.53260936861535, 160.95403407210352, 123.18109211346007, 64.55990877879287, 54.61796080925574, 50.596972868966525, 49.59115491600806, 45.56141818586343, 44.553134844218384, 44.55187418367478, 80.14821671563473, 77.08251342553673, 101.72055229654468, 55.29152225810366, 52.331413435316506, 49.33967662835138, 37.483127870192824, 441.6758580536069, 508.5634006882838, 740.3169962385758, 93.58321327815504, 338.1694082819168, 81.81871444975302, 831.6089719699406, 873.339074276156, 1229.547565799947, 560.2075518051989, 239.48117216589742, 332.60752002025856, 221.94917707901266, 181.48261578183048, 146.80330497289663, 300.49499974719754, 283.79069059668086, 183.95454782223334, 3255.6273665543767, 2076.261469718941, 9146.71104498182, 2911.3899775487725, 810.7614534833506, 458.1656371714741, 614.852477337843, 5582.6137996080815, 1380.7583925538252, 5944.708588276534, 1010.2930223840954, 18556.7800936633, 1497.3981635771704, 2723.807316667559, 897.0671562584295, 5066.273026672193, 5068.228553927898, 26622.38932928614, 3082.5110403995564, 1906.5877889696058, 2294.284473179476, 2727.3286221963667, 4239.759667300404, 16974.597280631526, 25734.81634062007, 12292.811750894123, 69587.4097603838, 28145.415244352997, 14724.144817928885, 30188.589923646272, 3748.021856531867, 74740.67514404774, 13358.884490078188, 43903.38859865059, 12015.239544402875, 8635.274922147466, 48129.93737140465, 22046.116679742798, 35583.79242894976, 17282.562081622156, 11093.49944465481, 43936.61758911316, 36489.75626421653, 21970.858713430425, 17029.66758376368, 31280.490002960112, 64499.10148316793, 40439.436817291346, 23132.639223901395, 19259.39237717265, 19433.227077452873, 24267.46485499877, 20415.50147712962, 24120.56161413157, 20962.36886707242, 22719.407025544668, 16800.756370863543, 22551.1332426946, 22301.82225470736, 19387.019391318154, 18866.15385217972, 18584.417791196047, 3289.8899752927937, 274.8077947397295, 186.03140876789857, 219.74556015682592, 156.05562494679495, 145.0510693908653, 142.06365931341867, 135.07511021679704, 134.07759946456218, 167.79195236111627, 162.72852022324864, 115.09435704131566, 105.09939986133485, 148.69028172605996, 101.10676452353648, 104.060715141221, 148.65795397106467, 98.11034693235075, 97.11061286163105, 94.11144869671905, 114.90222395265688, 95.07642560145943, 93.09242026332893, 189.1591514551506, 95.06753814682644, 88.11622219583973, 83.12134644266202, 85.09761737465678, 115.77113362305836, 79.12473933591768, 2145.623387164247, 756.7154062260538, 1250.0116914506714, 314.35738697278913, 346.11513106842256, 467.6807321697125, 153.0308407894305, 150.05098983936824, 144.16338984080116, 901.9702283891751, 903.640737247185, 443.58708507731376, 267.53594991324934, 717.306062645642, 153.87142833908575, 2678.1342369356166, 2993.414109802481, 295.5341399541471, 915.1260068722908, 2847.0523419256983, 1545.3060144987717, 7598.359835361173, 931.5978020180406, 2646.61728260068, 9435.432009281942, 2615.1846385162976, 2330.5342956909903, 3450.609548467538, 2143.6473774772003, 413.82653261358223, 736.1839714413566, 2013.3939032593776, 3152.8781219349166, 2431.302533549013, 1423.5143082101474, 6515.936663686576, 2522.7102791061347, 2280.474474014569, 3220.2684213358616, 18148.50569448019, 5743.538049505563, 7948.662441639439, 6539.417771371837, 22202.705012051694, 5407.0019210635855, 24229.18355664818, 6092.617755253369, 4202.497917162691, 53203.74604083148, 61058.6127380947, 36752.651842547515, 13318.672813499246, 4721.117163335978, 22657.9006035987, 16462.65376067247, 12299.997566892971, 26391.01339527781, 14980.755246051876, 30818.094676016175, 31808.023358331284, 10061.111782226682, 46050.68113082313, 23923.844874719314, 16594.681584814814, 19754.071529787965, 27663.311777962426, 15777.362933916262, 12788.887881777066, 27013.302485000637, 14759.549853384466, 17623.622711516036, 21817.66895206793, 14343.25512158728, 13889.98177946472, 18643.73303689681, 15197.838132599727, 17068.135772920294, 18352.38072116374, 14975.226285467756, 14202.122702118835, 14642.066306072904, 920.8843376846281, 241.3743092952101, 258.26544090503614, 171.25406397425147, 140.3030014551607, 129.28154960777923, 100.27317934217216, 100.27173894650387, 91.25982515259305, 82.2593185244215, 77.25483960228375, 64.24454568329072, 59.24099569361519, 59.229683430241984, 338.2533720831609, 59.16722546727435, 128.12547342015006, 61.05812650247079, 57.10554194351435, 52.1612197649029, 42.228009611043625, 39.22712010002381, 38.22090681908667, 97.99956294343525, 38.20599047986782, 86.18566506484015, 84.19739951602357, 172.18359795256927, 35.21986635382186, 35.19229256338182, 1145.9561184337215, 1024.9344145613059, 154.18085848339683, 96.23818609827836, 1447.3972643015875, 337.1365487493414, 857.6367299566039, 253.41716808752605, 200.6231310195823, 227.0797372422269, 3002.3236573051377, 664.187547902962, 897.1200336250755, 408.49302872815633, 458.72993795993034, 3938.5720047550185, 691.6034860879838, 1176.8414358954396, 315.0352975156872, 2466.364703497366, 758.0911893284047, 8779.865475131057, 3478.9184815090944, 1454.9072126578808, 3625.146014432419, 7241.458716670276, 9287.198853397344, 15991.927223200551, 17874.632329427543, 3033.4561068189582, 8589.247351310958, 3768.1551258377076, 14517.15476958429, 10322.937674649798, 6288.074667530888, 1740.1335172259744, 4829.651850421936, 21333.185738221742, 11555.401664990948, 4257.237900456773, 23452.323829375604, 15301.431242407212, 25030.45655192224, 35437.402513329835, 6543.314667236369, 9560.043673378865, 76251.98590955847, 29498.84070409056, 28865.076563208782, 17800.5960321177, 35092.86051695711, 35728.840145485105, 25301.880673378095, 28893.539752364053, 8886.20664439396, 16349.92952089275, 17390.172451528855, 11644.528909244442, 24186.663880485445, 18847.327951762065, 17588.592300769094, 22605.04959554857, 17011.90758344965, 12760.532916824097, 14494.81226809972, 22243.879072092303, 12581.61567357656, 13645.357805882979, 17689.449752760633, 15768.42760517013, 15518.39423809119, 13774.905562238764, 13829.940964433552, 274.42682947878814, 241.94038503611532, 110.47520273615868, 267.860011273878, 116.2061974400643, 87.6304088774352, 126.9319533442639, 75.6559565101793, 214.10986505790365, 62.791920233283996, 62.78892861561875, 64.68263565702341, 144.99803926345618, 54.83521738281324, 52.83133646980265, 51.84871312230756, 45.900972153233575, 45.889831521395166, 44.909003443709445, 50.76301626433648, 232.16362021852083, 45.80475978933663, 50.65212192270283, 35.92686921132731, 374.72168792507273, 32.98373265324143, 32.976254750473494, 666.9096283691248, 38.77615224291357, 496.8918617958522, 1138.7967412594794, 400.59376722254717, 219.78309948942814, 796.1030067901553, 526.6133518454121, 223.79557358018604, 2452.6926696146547, 675.9585381298892, 865.1201792058934, 99.22746268566866, 7993.113980148339, 2552.0407620909523, 202.71669433350903, 144.0744215680287, 5948.091249230407, 2058.3421558990262, 357.32227870799653, 190.93234798427588, 4707.443040262712, 1778.923837161575, 27198.33235782827, 358.5743749446951, 3414.8755055032166, 634.3787412728324, 3965.0134984373462, 2184.27576475127, 8423.81940746281, 12299.713518198978, 4571.002382669357, 3437.4930794331704, 2494.6488389623187, 2764.9401636540265, 2328.2434740212334, 1819.9993057447625, 12456.455167038797, 4303.468134043082, 11244.961564600295, 1549.0608717686582, 8901.363092311954, 19696.05504911614, 5253.5862706667185, 7624.339354762741, 8633.629101396056, 16748.872871134557, 11656.561873312043, 4734.798609265105, 20711.187227656428, 4950.69642363794, 11609.723549464183, 38498.78580208322, 5269.951313590053, 9136.901531640586, 22657.598601432655, 8652.888995805624, 20615.950056972273, 16141.391175647914, 21906.540428339365, 17655.228712178847, 13636.602718157666, 8691.874178212754, 7981.022875891406, 18924.853231171433, 14503.176641653376, 13338.97342381824, 11185.91290883328, 14361.345363909688, 12585.873898487891, 12547.586557334846, 11444.71555718621, 11172.87766043259, 10392.039826645678, 10126.499377858332, 10120.914650511339, 9592.28266459307], \"Term\": [\"energy\", \"eu\", \"market\", \"european\", \"directive\", \"transport\", \"woman\", \"consumer\", \"budget\", \"financial\", \"amendment\", \"fund\", \"economic\", \"commission\", \"agreement\", \"social\", \"committee\", \"report\", \"crisis\", \"trade\", \"sector\", \"climate\", \"emission\", \"safety\", \"proposal\", \"policy\", \"need\", \"strategy\", \"human\", \"industry\", \"saddam\", \"dalai\", \"junta\", \"jerusalem\", \"hamas\", \"sudanese\", \"abbas\", \"chad\", \"tehran\", \"karabakh\", \"venezuelan\", \"lebanese\", \"quartet\", \"nagorno\", \"hussein\", \"tibetan\", \"buddhist\", \"duma\", \"tamil\", \"hizbollah\", \"kivu\", \"ch\\u00e1vez\", \"lama\", \"khartoum\", \"tibet\", \"shalit\", \"myanmar\", \"auschwitz\", \"timorese\", \"warlord\", \"palestinian\", \"israeli\", \"israel\", \"syria\", \"iran\", \"gaza\", \"lebanon\", \"sudan\", \"iranian\", \"troop\", \"darfur\", \"iraqi\", \"burmese\", \"minsk\", \"mugabe\", \"arab\", \"burma\", \"syrian\", \"iraq\", \"belarus\", \"prisoner\", \"turkey\", \"peace\", \"kosovo\", \"nato\", \"solana\", \"peaceful\", \"russia\", \"war\", \"military\", \"civilian\", \"election\", \"democracy\", \"constitution\", \"turkish\", \"human\", \"russian\", \"democratic\", \"east\", \"presidency\", \"terrorism\", \"humanitarian\", \"balkan\", \"foreign\", \"nation\", \"right\", \"conflict\", \"political\", \"minority\", \"government\", \"union\", \"freedom\", \"president\", \"country\", \"european\", \"international\", \"people\", \"mr\", \"council\", \"europe\", \"united\", \"resolution\", \"security\", \"parliament\", \"state\", \"situation\", \"eu\", \"like\", \"world\", \"member\", \"time\", \"issue\", \"commission\", \"year\", \"group\", \"need\", \"policy\", \"make\", \"new\", \"important\", \"pvc\", \"byrne\", \"implant\", \"phthalates\", \"nistic\\u00f2\", \"nanomaterials\", \"herbal\", \"genetics\", \"mrls\", \"allergen\", \"fl\\u00e9chard\", \"genome\", \"oie\", \"trentin\", \"paulsen\", \"retardant\", \"dami\\u00e3o\", \"bst\", \"prion\", \"malliori\", \"isd\", \"silicone\", \"ether\", \"karlsson\", \"seguro\", \"fmd\", \"supernumerary\", \"cerdeira\", \"lund\", \"pcb\", \"behrendt\", \"dioxin\", \"embryo\", \"allergenic\", \"therapeutic\", \"boetticher\", \"additive\", \"cloning\", \"medicinal\", \"chocolate\", \"busquin\", \"cloned\", \"vitamin\", \"salmonella\", \"carcinogen\", \"whitehead\", \"carcinogenic\", \"smet\", \"patient\", \"c5\", \"animal\", \"a5\", \"biotechnology\", \"gene\", \"cosmetic\", \"disease\", \"olaf\", \"2001\", \"toy\", \"health\", \"alcohol\", \"medicine\", \"mouth\", \"substance\", \"drug\", \"directive\", \"sport\", \"europol\", \"chemical\", \"labelling\", \"2002\", \"information\", \"amendment\", \"legislation\", \"commission\", \"committee\", \"legal\", \"proposal\", \"2003\", \"mr\", \"procedure\", \"parliament\", \"consumer\", \"article\", \"member\", \"question\", \"council\", \"public\", \"product\", \"state\", \"report\", \"work\", \"case\", \"like\", \"european\", \"president\", \"issue\", \"commissioner\", \"point\", \"time\", \"make\", \"right\", \"year\", \"need\", \"say\", \"country\", \"union\", \"people\", \"new\", \"important\", \"ecu\", \"tomlinson\", \"tillich\", \"nafo\", \"macartney\", \"mathies\", \"papoutsis\", \"hemp\", \"magp\", \"decentralized\", \"giansily\", \"viola\", \"teverson\", \"wulf\", \"cassidy\", \"four\\u00e7ans\", \"privatization\", \"hallam\", \"philoxenia\", \"fantuzzi\", \"industrialized\", \"sarlis\", \"ca\\u00f1ete\", \"silguy\", \"chanterie\", \"decentralization\", \"larive\", \"rex\", \"ecus\", \"rehder\", \"a4\", \"liberalization\", \"c4\", \"starch\", \"globalization\", \"realize\", \"goepel\", \"bloch\", \"samland\", \"recognize\", \"harmonization\", \"emphasized\", \"cunha\", \"recognized\", \"grubbing\", \"97\", \"organization\", \"burton\", \"organized\", \"98\", \"emu\", \"fishing\", \"emphasize\", \"wine\", \"fishery\", \"fisherman\", \"fleet\", \"fish\", \"96\", \"modulation\", \"phare\", \"milk\", \"auditor\", \"vessel\", \"b4\", \"minute\", \"1997\", \"1996\", \"quota\", \"budget\", \"farmer\", \"agricultural\", \"structural\", \"amendment\", \"monetary\", \"committee\", \"agriculture\", \"sitting\", \"commission\", \"mr\", \"report\", \"sector\", \"rural\", \"proposal\", \"community\", \"fund\", \"policy\", \"programme\", \"parliament\", \"president\", \"aid\", \"european\", \"like\", \"point\", \"year\", \"member\", \"problem\", \"vote\", \"state\", \"market\", \"time\", \"union\", \"question\", \"commissioner\", \"council\", \"support\", \"need\", \"country\", \"make\", \"area\", \"new\", \"egf\", \"eit\", \"volunteering\", \"mff\", \"microfinance\", \"dci\", \"nace\", \"pittsburgh\", \"z\\u00e1borsk\\u00e1\", \"j\\u00e1r\\u00f3ka\", \"xynthia\", \"eqf\", \"ftt\", \"lehman\", \"flexicurity\", \"feio\", \"estrela\", \"chi\\u015fin\\u0103u\", \"paliadeli\", \"peterle\", \"sba\", \"esm\", \"billstr\\u00f6m\", \"larosi\\u00e8re\", \"j\\u0119drzejewska\", \"grech\", \"andor\", \"fp7\", \"geringer\", \"cottigny\", \"frontex\", \"g20\", \"haitian\", \"mdg\", \"rating\", \"eeas\", \"eurozone\", \"semester\", \"paternity\", \"mundus\", \"rom\", \"maternity\", \"mobilisation\", \"hedge\", \"childcare\", \"gender\", \"haiti\", \"lifelong\", \"eurobonds\", \"2013\", \"danube\", \"writing\", \"2020\", \"demographic\", \"governance\", \"cohesion\", \"lisbon\", \"crisis\", \"woman\", \"debt\", \"education\", \"2009\", \"strategy\", \"growth\", \"poverty\", \"2011\", \"innovation\", \"financial\", \"voted\", \"equality\", \"social\", \"fund\", \"economic\", \"eu\", \"labour\", \"economy\", \"european\", \"policy\", \"need\", \"development\", \"member\", \"state\", \"europe\", \"report\", \"job\", \"area\", \"support\", \"budget\", \"union\", \"people\", \"new\", \"country\", \"important\", \"programme\", \"market\", \"commission\", \"level\", \"work\", \"mr\", \"parliament\", \"president\", \"year\", \"like\", \"acta\", \"unbundling\", \"khadraoui\", \"biogas\", \"laperrouze\", \"cfr\", \"ertms\", \"nama\", \"ets\", \"cramer\", \"cariforum\", \"flegt\", \"cc\", \"sa\\u00effi\", \"pascual\", \"cancian\", \"desertec\", \"groote\", \"lehtinen\", \"borloo\", \"fta\", \"lng\", \"pm2\", \"szczecin\", \"hydrogen\", \"cizelj\", \"jadot\", \"pnr\", \"z\\u012ble\", \"renewables\", \"biofuels\", \"scanner\", \"opel\", \"mercury\", \"epa\", \"cyanide\", \"co2\", \"timber\", \"arctic\", \"shale\", \"emission\", \"aviation\", \"eurovignette\", \"easa\", \"gas\", \"carbon\", \"bali\", \"oettinger\", \"passenger\", \"greenhouse\", \"energy\", \"deforestation\", \"renewable\", \"fossil\", \"car\", \"airline\", \"climate\", \"transport\", \"air\", \"vehicle\", \"rail\", \"fuel\", \"trading\", \"electricity\", \"trade\", \"supply\", \"consumer\", \"textile\", \"safety\", \"market\", \"nuclear\", \"environmental\", \"industry\", \"agreement\", \"service\", \"road\", \"eu\", \"technology\", \"directive\", \"european\", \"data\", \"sector\", \"state\", \"change\", \"member\", \"need\", \"commission\", \"country\", \"important\", \"regulation\", \"protection\", \"mr\", \"report\", \"like\", \"new\", \"president\", \"parliament\", \"union\", \"right\", \"europe\", \"time\", \"issue\", \"proposal\", \"make\"], \"Total\": [36834.0, 102271.0, 62840.0, 336207.0, 46155.0, 22206.0, 31336.0, 26975.0, 37155.0, 43485.0, 57157.0, 33243.0, 63015.0, 198257.0, 61350.0, 55373.0, 66693.0, 134802.0, 27152.0, 29322.0, 34304.0, 13660.0, 9282.0, 21556.0, 77601.0, 104464.0, 109878.0, 26183.0, 49731.0, 23710.0, 1015.1846604164983, 399.5312953907639, 345.00614545712455, 677.1262265211154, 1047.9092590713653, 424.3176416670974, 224.057930465473, 522.4650637743033, 187.37708200457448, 217.12007263727807, 161.60144945080356, 394.58495566841754, 580.9699564338611, 192.33577343690638, 855.6134549933328, 805.0342191969977, 161.60220623560335, 251.82273511458172, 200.26740585176518, 148.7134519566156, 145.73947404773227, 138.79967185291855, 439.2004028088107, 133.84285411669472, 1135.1739109211933, 129.87728834627188, 295.4453457616473, 133.84376587977383, 167.55560881195564, 115.00673095097218, 6476.002328245419, 3549.793009255171, 6076.6211213090055, 1385.0636095324446, 4296.228269086564, 1792.6425748837435, 1316.6854931728005, 1315.6117481383408, 1244.3181961898654, 1598.4896572409455, 812.00498867276, 1556.8680437473963, 587.9378031535913, 318.2533127346938, 758.5676388623381, 1970.4942464841192, 1908.0252730015236, 377.74192174275726, 5531.595675570489, 3610.2086204907446, 2591.266882172106, 14292.787140184802, 15616.542494256408, 6004.188783518779, 3478.630438194901, 1357.1018546143857, 3239.5063899420356, 13365.3410363288, 11669.153908130827, 9495.865873683626, 2882.075773181451, 14130.598999199847, 19825.257841686405, 9020.639253210456, 4512.630671482933, 49731.65693683223, 5192.9234767294865, 18624.340318220875, 8749.334456315208, 29347.232895440324, 10279.430832912052, 6874.276278910114, 4289.701513325885, 15804.760347201951, 13502.561724173112, 115229.3145804318, 11931.211842308983, 57827.12128183385, 7792.897586279773, 43267.47255494236, 147026.11980155067, 22330.647953251802, 171578.8680334795, 139815.68795675816, 336207.80032192956, 40608.73902452795, 92320.61709063462, 252490.52685158871, 116366.11054595656, 107551.99575577583, 28460.52025726624, 33978.13520333143, 34448.49831385279, 144209.43389863422, 173997.7040539002, 48096.24086631549, 102271.35107267638, 113948.35477726563, 41274.24846284624, 167569.09611341736, 90918.97858278493, 74569.03853298722, 198257.74835526562, 86277.21189670512, 62646.932865511175, 109878.60641585547, 104464.93466282073, 76702.09621917139, 82723.65789337504, 83257.59929565374, 297.37067978118023, 496.959819138782, 191.5234821750311, 212.69178119200706, 145.1522871149534, 116.92544838562155, 146.1545840981146, 100.79643418074828, 72.57158749923336, 66.5229701830295, 64.50695628258065, 85.67086336766765, 60.474650701147795, 73.57567862545987, 163.2735635531151, 124.97492855189186, 65.51259606580024, 55.43419165292966, 51.40209559590107, 50.394038735121235, 46.36178330774747, 45.35370644233817, 45.35369380063822, 81.63810208071088, 78.60790675759695, 103.80035197025717, 56.43670527629247, 53.41573440953854, 50.389896681508205, 38.29707982369697, 452.5134260006002, 522.9846560842346, 766.8022262168744, 95.74505336300587, 350.64026430255245, 83.64321385598552, 873.5087690774769, 918.7291974294154, 1305.8258878458532, 586.3404256832491, 247.85615279076302, 346.61550330634094, 229.7294710792754, 187.43236852386875, 151.15854821951694, 315.38814604513834, 303.1647784631125, 193.4388609467485, 3866.1684870741333, 2434.2049238131494, 11627.017047063293, 3511.3282276531345, 927.2258578665837, 505.6129797456622, 693.5398966395378, 7472.9811815401845, 1666.7010490040277, 8033.582618773501, 1200.9139143479154, 29164.52367974744, 1861.091631688523, 3600.3070491429658, 1063.4045288233285, 7168.235885813219, 7272.260408700917, 46155.89046716827, 4221.555394191269, 2466.4612742772515, 3103.057588753096, 3811.349058921625, 6483.714397503753, 33650.141096805295, 57157.12036937095, 24495.06623784732, 198257.74835526562, 66693.97013736497, 31139.211618548157, 77601.6362948748, 6041.505189182487, 252490.52685158871, 30334.42676011058, 144209.43389863422, 26975.036274175745, 17694.591198942602, 167569.09611341736, 61237.46740381902, 116366.11054595656, 44882.518035903006, 25352.727453628682, 173997.7040539002, 134802.17465003178, 67302.6753302789, 47076.02353860502, 113948.35477726563, 336207.80032192956, 171578.8680334795, 74569.03853298722, 57370.40269615337, 62139.4924660682, 90918.97858278493, 76702.09621917139, 115229.3145804318, 86277.21189670512, 109878.60641585547, 56907.87737921318, 139815.68795675816, 147026.11980155067, 92320.61709063462, 82723.65789337504, 83257.59929565374, 3295.1134007938763, 275.75521383177545, 186.8339349873666, 220.8024521081717, 156.86049715567077, 145.8703517930878, 142.87292810115613, 135.8790770945046, 134.87995716659685, 168.85171707809664, 163.85705787135478, 115.8967748347566, 105.90567658909012, 149.86996197406535, 101.90917608331613, 104.90691494191688, 149.8700614552878, 98.91183192233039, 97.91270817533524, 94.9153836936748, 115.89654228447309, 95.91480639920329, 93.91645321507883, 190.83815587360218, 95.91488105401685, 88.92070697049066, 83.92512473243559, 85.92339169266099, 116.89877935880138, 79.92867528227167, 2168.2365688138348, 768.295198377911, 1283.1035572119358, 318.7442350288109, 351.721594880427, 477.58384095710045, 154.8704395977095, 151.87394293546737, 145.86620090236542, 930.3088452386901, 938.3996321725508, 456.6155468455303, 272.7957858023906, 746.4731494531874, 155.85217579140647, 2929.9025543555194, 3289.9684232631453, 303.724887909771, 976.006437057994, 3158.829529809383, 1712.6377715711126, 9103.475363476742, 1016.9924550930075, 3060.747271028349, 11681.05924850441, 3047.501927895791, 2768.1761302039467, 4251.500605584941, 2553.1584466979352, 442.64230574223217, 822.5094144292723, 2465.3631478697775, 4254.015668563577, 3211.579505670206, 1771.7778330316512, 9860.32140250289, 3400.407893278495, 3061.973891753935, 4711.231091195774, 37155.6821230968, 9838.838913840624, 14715.696008038234, 11603.084301453348, 57157.12036937095, 9429.257121396213, 66693.97013736497, 11128.075206324182, 6955.200264903092, 198257.74835526562, 252490.52685158871, 134802.17465003178, 34304.41637375302, 8142.455509075378, 77601.6362948748, 49723.989389205744, 33243.455057116145, 104464.93466282073, 45411.59087085586, 144209.43389863422, 171578.8680334795, 27063.628209691044, 336207.80032192956, 113948.35477726563, 62139.4924660682, 86277.21189670512, 167569.09611341736, 61850.99672553283, 42759.04319991592, 173997.7040539002, 62840.9310702289, 90918.97858278493, 147026.11980155067, 61237.46740381902, 57370.40269615337, 116366.11054595656, 73531.37349068394, 109878.60641585547, 139815.68795675816, 76702.09621917139, 63034.477050440415, 82723.65789337504, 921.6860354707875, 242.17864221821202, 259.19051051131584, 172.1258511010145, 141.1031957057586, 130.09488751764502, 101.07330366699357, 101.07328920873886, 92.06656229944078, 83.0598508053155, 78.05610853197663, 65.04640207832234, 60.0426632012277, 60.04262872461553, 343.2235006766885, 60.04252523081271, 130.1033800971509, 62.04242327397391, 58.04009259781285, 53.03789696295822, 43.02995470432954, 40.02771608681219, 39.026954994397144, 100.07047377491394, 39.02693311076123, 88.05996418089416, 86.05214029439627, 176.10754062153075, 36.02473583296834, 36.02464928527437, 1174.6122442403425, 1067.4800503148933, 158.08655907397127, 99.05735010730078, 1550.921152428177, 357.08358938607194, 930.1849474793787, 267.1716653334317, 211.22663810440764, 240.06821391893246, 3490.4935748202442, 730.9818750103009, 1007.2325414545038, 445.2374707826155, 502.6404368185265, 4745.788717185798, 773.8103279347112, 1372.7595078631875, 343.30274802861345, 3118.0890132446875, 883.949728889539, 12314.140797501916, 4582.5633042216, 1796.295542173177, 5017.636246248015, 11083.072023941104, 14787.232141556977, 27152.310830428592, 31336.062870346243, 4338.535972714665, 14311.445499384323, 5623.694496513791, 26183.653361176795, 17730.619808232208, 10230.007628804762, 2342.270824576523, 7720.984340443515, 43485.65507085873, 21330.14005448453, 6714.211296887828, 55373.69686611914, 33243.455057116145, 63015.14111139807, 102271.35107267638, 12575.188915594246, 21269.164789383547, 336207.80032192956, 104464.93466282073, 109878.60641585547, 59088.84109477363, 167569.09611341736, 173997.7040539002, 107551.99575577583, 134802.17465003178, 22145.455141312574, 63034.477050440415, 73531.37349068394, 37155.6821230968, 147026.11980155067, 92320.61709063462, 82723.65789337504, 139815.68795675816, 83257.59929565374, 45411.59087085586, 62840.9310702289, 198257.74835526562, 44855.83141993719, 67302.6753302789, 252490.52685158871, 144209.43389863422, 171578.8680334795, 86277.21189670512, 113948.35477726563, 275.2402771839936, 243.44876208667856, 111.29149445052504, 270.2811122141266, 117.25663781354427, 88.43802287853066, 128.18476176269328, 76.51430696006946, 216.62828699750295, 63.597237032897624, 63.59727630341229, 65.58431446829341, 147.0694401836766, 55.64825743230944, 53.6609231090568, 52.66735067529443, 46.70553581751674, 46.70565664247908, 45.71191729330037, 51.67343322977868, 236.4818258721626, 46.706214925017896, 51.67526172450251, 36.76951555873315, 383.6122098069566, 33.788365842138404, 33.78842845851713, 683.6338207368387, 39.75110217969939, 509.8209279479242, 1172.7366031928395, 413.51897303957685, 225.59437230293645, 831.1472680865995, 548.6058473088722, 231.53736998915818, 2677.2555931254633, 720.6149257209036, 929.1603855875948, 102.35592437140515, 9282.627665442229, 2889.357074119896, 212.68108230134885, 150.07227878229375, 6960.309499770943, 2364.313000971829, 385.62000695082315, 200.76999629749133, 5702.62083626889, 2064.666120828964, 36834.11747973576, 388.6593977588355, 4520.6765140070365, 729.9380826077547, 5611.3497066344335, 2900.216081801214, 13660.302145539958, 22206.037820166464, 7515.811256201318, 5396.891030454441, 3818.5041011943554, 4329.051976572668, 3618.1738960521143, 2731.086414040633, 29322.7952066843, 8091.566865507248, 26975.036274175745, 2281.879423537084, 21556.77973076034, 62840.9310702289, 11182.082895840824, 19021.353376122326, 23710.675014957058, 61350.27512980989, 37704.50186738491, 10513.700935924127, 102271.35107267638, 11445.8669078864, 46155.89046716827, 336207.80032192956, 13230.075422540074, 34304.41637375302, 173997.7040539002, 32768.0840284134, 167569.09611341736, 109878.60641585547, 198257.74835526562, 139815.68795675816, 83257.59929565374, 36912.11992621339, 31915.684156972715, 252490.52685158871, 134802.17465003178, 113948.35477726563, 82723.65789337504, 171578.8680334795, 144209.43389863422, 147026.11980155067, 115229.3145804318, 107551.99575577583, 90918.97858278493, 74569.03853298722, 77601.6362948748, 76702.09621917139], \"loglift\": [30.0, 29.0, 28.0, 27.0, 26.0, 25.0, 24.0, 23.0, 22.0, 21.0, 20.0, 19.0, 18.0, 17.0, 16.0, 15.0, 14.0, 13.0, 12.0, 11.0, 10.0, 9.0, 8.0, 7.0, 6.0, 5.0, 4.0, 3.0, 2.0, 1.0, 1.2797, 1.279, 1.2786, 1.2785, 1.2782, 1.278, 1.2774, 1.277, 1.2767, 1.2764, 1.276, 1.276, 1.276, 1.2758, 1.2757, 1.2757, 1.2757, 1.2757, 1.2756, 1.2756, 1.2754, 1.2752, 1.275, 1.2749, 1.2749, 1.2748, 1.2744, 1.2741, 1.274, 1.274, 1.2654, 1.267, 1.2592, 1.272, 1.2583, 1.2667, 1.2673, 1.2667, 1.2648, 1.2609, 1.2675, 1.261, 1.2699, 1.2734, 1.2628, 1.243, 1.241, 1.2716, 1.2088, 1.2204, 1.2285, 1.1762, 1.1546, 1.1907, 1.2071, 1.2392, 1.1986, 1.1249, 1.1302, 1.1325, 1.1952, 1.0996, 1.0675, 1.1135, 1.1602, 0.9219, 1.131, 0.9843, 1.0667, 0.9071, 1.0309, 1.0752, 1.1354, 0.9472, 0.9676, 0.6168, 0.9783, 0.7144, 1.0458, 0.7351, 0.4827, 0.8271, 0.3766, 0.4123, 0.172, 0.6473, 0.4174, 0.1327, 0.3413, 0.3341, 0.7236, 0.6462, 0.6336, 0.0266, -0.0789, 0.4307, 0.0897, -0.0023, 0.4819, -0.255, 0.0182, 0.1057, -0.5644, -0.0226, 0.1887, -0.1961, -0.1614, -0.0404, -0.1169, -0.1385, 1.4055, 1.4047, 1.4041, 1.4038, 1.4028, 1.4009, 1.4, 1.3998, 1.3974, 1.3961, 1.3959, 1.3951, 1.3951, 1.3943, 1.3942, 1.3941, 1.3939, 1.3937, 1.3928, 1.3925, 1.3911, 1.3907, 1.3907, 1.3901, 1.3889, 1.3883, 1.388, 1.388, 1.3875, 1.3871, 1.3843, 1.3806, 1.3734, 1.3857, 1.3723, 1.3865, 1.3594, 1.3579, 1.3484, 1.363, 1.3742, 1.3673, 1.3741, 1.3763, 1.3793, 1.3602, 1.3425, 1.3583, 1.2367, 1.2495, 1.1686, 1.2212, 1.2743, 1.31, 1.2881, 1.1169, 1.2203, 1.1074, 1.2357, 0.9564, 1.1911, 1.1296, 1.2384, 1.0615, 1.0475, 0.8583, 1.0941, 1.1511, 1.1066, 1.0739, 0.9838, 0.7242, 0.6106, 0.7191, 0.3616, 0.5458, 0.6596, 0.4644, 0.9311, 0.1912, 0.5884, 0.2193, 0.5998, 0.6911, 0.1611, 0.3869, 0.2237, 0.4542, 0.582, 0.0323, 0.1018, 0.2891, 0.3917, 0.1158, -0.2425, -0.0367, 0.2381, 0.317, 0.2461, 0.0877, 0.0849, -0.1553, -0.0063, -0.1676, 0.1885, -0.416, -0.4774, -0.1521, -0.0696, -0.0911, 1.6549, 1.6531, 1.6522, 1.6517, 1.6514, 1.6509, 1.6508, 1.6506, 1.6505, 1.6502, 1.6496, 1.6495, 1.6489, 1.6486, 1.6486, 1.6484, 1.6484, 1.6484, 1.6483, 1.648, 1.6479, 1.6477, 1.6477, 1.6477, 1.6476, 1.6474, 1.6469, 1.6468, 1.6468, 1.6464, 1.646, 1.6413, 1.6304, 1.6426, 1.6404, 1.6355, 1.6445, 1.6444, 1.6448, 1.6256, 1.6188, 1.6275, 1.637, 1.6166, 1.6437, 1.5666, 1.562, 1.6292, 1.5921, 1.5526, 1.5537, 1.4758, 1.5688, 1.5111, 1.443, 1.5035, 1.4844, 1.4478, 1.4817, 1.5892, 1.5456, 1.454, 1.3569, 1.3782, 1.4376, 1.2422, 1.3579, 1.3618, 1.276, 0.94, 1.1182, 1.0406, 1.0831, 0.7109, 1.1004, 0.6439, 1.0541, 1.1527, 0.3411, 0.237, 0.3569, 0.7104, 1.1115, 0.4254, 0.5511, 0.6622, 0.2807, 0.5475, 0.1133, -0.0288, 0.667, -0.3315, 0.0956, 0.3362, 0.1823, -0.1448, 0.2903, 0.4495, -0.2062, 0.2078, 0.0158, -0.2514, 0.205, 0.2381, -0.1747, 0.0799, -0.2057, -0.3741, 0.023, 0.1662, -0.0751, 1.8149, 1.8125, 1.8122, 1.8107, 1.8101, 1.8095, 1.8078, 1.8078, 1.807, 1.8061, 1.8055, 1.8034, 1.8024, 1.8022, 1.8012, 1.8011, 1.8005, 1.7998, 1.7996, 1.7991, 1.797, 1.7956, 1.7949, 1.7949, 1.7945, 1.7943, 1.794, 1.7933, 1.7932, 1.7924, 1.7911, 1.7751, 1.7908, 1.7869, 1.7467, 1.7583, 1.7346, 1.7629, 1.7643, 1.7602, 1.6651, 1.72, 1.7, 1.7297, 1.7244, 1.6294, 1.7035, 1.6618, 1.7299, 1.5813, 1.6622, 1.4775, 1.5403, 1.605, 1.4907, 1.3902, 1.3507, 1.2864, 1.2544, 1.458, 1.3052, 1.4154, 1.226, 1.2749, 1.3291, 1.5186, 1.3466, 1.1036, 1.2028, 1.3602, 0.9567, 1.0399, 0.8925, 0.7559, 1.1625, 1.0161, 0.3321, 0.5513, 0.479, 0.616, 0.2524, 0.2327, 0.3687, 0.2756, 0.9027, 0.4663, 0.374, 0.6555, 0.011, 0.2269, 0.2675, -0.0064, 0.2278, 0.5464, 0.349, -0.3717, 0.5446, 0.22, -0.8426, -0.3975, -0.5872, -0.0189, -0.2931, 2.0826, 2.0794, 2.0782, 2.0766, 2.0766, 2.0764, 2.0757, 2.0743, 2.0739, 2.0728, 2.0728, 2.0717, 2.0714, 2.0709, 2.07, 2.0699, 2.0682, 2.0679, 2.0678, 2.0678, 2.0671, 2.0661, 2.0656, 2.0624, 2.0621, 2.0615, 2.0612, 2.0608, 2.0607, 2.0599, 2.0562, 2.0538, 2.0595, 2.0425, 2.0447, 2.0516, 1.998, 2.0216, 2.0142, 2.0545, 1.936, 1.9614, 2.0376, 2.0448, 1.9284, 1.947, 2.0094, 2.0353, 1.8938, 1.9366, 1.7823, 2.005, 1.805, 1.9453, 1.7383, 1.8021, 1.6021, 1.4948, 1.5883, 1.6345, 1.6599, 1.6372, 1.6447, 1.6797, 1.2294, 1.4542, 1.2106, 1.6982, 1.2011, 0.9254, 1.3302, 1.1714, 1.0753, 0.7873, 0.9117, 1.2878, 0.4886, 1.2475, 0.7054, -0.0815, 1.1651, 0.7626, 0.047, 0.754, -0.0098, 0.1676, -0.1172, 0.0163, 0.2764, 0.6394, 0.6995, -0.5053, -0.1439, -0.0595, 0.0847, -0.3949, -0.3531, -0.3755, -0.2238, -0.1789, -0.0834, 0.089, 0.0486, 0.0066], \"logprob\": [30.0, 29.0, 28.0, 27.0, 26.0, 25.0, 24.0, 23.0, 22.0, 21.0, 20.0, 19.0, 18.0, 17.0, 16.0, 15.0, 14.0, 13.0, 12.0, 11.0, 10.0, 9.0, 8.0, 7.0, 6.0, 5.0, 4.0, 3.0, 2.0, 1.0, -8.8395, -9.7727, -9.9198, -9.2456, -8.8092, -9.7135, -10.3526, -9.5064, -10.5321, -10.3851, -10.6808, -9.7882, -9.4013, -10.5069, -9.0144, -9.0754, -10.6811, -10.2376, -10.4667, -10.7643, -10.7848, -10.8337, -9.682, -10.8704, -8.7325, -10.9005, -10.0791, -10.8712, -10.6466, -11.023, -7.0007, -7.6003, -7.0706, -8.5364, -7.4182, -8.2838, -8.5918, -8.5932, -8.6508, -8.4043, -9.0749, -8.4305, -9.3954, -10.0057, -9.1477, -8.213, -8.2472, -9.8362, -7.2149, -7.63, -7.9535, -6.2982, -6.2313, -7.151, -7.6805, -8.5896, -7.7602, -6.4166, -6.547, -6.7508, -7.8805, -6.3863, -6.0797, -6.8212, -7.4671, -5.3056, -7.3559, -6.2255, -6.8985, -5.8479, -6.7731, -7.1312, -7.5426, -6.4267, -6.5637, -4.7705, -6.6768, -5.3623, -7.0352, -5.6317, -4.6609, -6.2011, -4.6125, -4.7815, -4.1445, -5.7829, -5.1915, -4.4702, -5.0362, -5.1221, -6.0621, -5.9623, -5.9611, -5.1363, -5.0541, -5.8303, -5.4168, -5.4008, -5.9321, -5.2678, -5.6061, -5.7167, -5.409, -5.6993, -5.808, -5.6309, -5.6468, -5.8347, -5.8356, -5.8508, -9.9415, -9.4287, -10.3828, -10.2783, -10.6614, -10.8796, -10.6572, -11.029, -11.36, -11.4483, -11.4793, -11.1963, -11.5447, -11.3494, -10.5523, -10.8198, -11.4658, -11.6331, -11.7095, -11.7296, -11.8144, -11.8367, -11.8368, -11.2495, -11.2885, -11.0112, -11.6208, -11.6758, -11.7347, -12.0095, -9.5428, -9.4018, -9.0263, -11.0946, -9.8099, -11.2289, -8.9101, -8.8611, -8.519, -9.3051, -10.1549, -9.8265, -10.231, -10.4323, -10.6443, -9.928, -9.9852, -10.4187, -7.5453, -7.9951, -6.5123, -7.657, -8.9354, -9.5062, -9.212, -7.006, -8.403, -6.9432, -8.7154, -5.8048, -8.3219, -7.7236, -8.8343, -7.1031, -7.1027, -5.4439, -7.5999, -8.0803, -7.8952, -7.7223, -7.2812, -5.8939, -5.4778, -6.2166, -4.4831, -5.3883, -6.0362, -5.3182, -7.4044, -4.4116, -6.1335, -4.9437, -6.2395, -6.5698, -4.8518, -5.6325, -5.1538, -5.876, -6.3193, -4.9429, -5.1286, -5.6359, -5.8907, -5.2827, -4.559, -5.0259, -5.5844, -5.7677, -5.7587, -5.5365, -5.7094, -5.5426, -5.6829, -5.6024, -5.9042, -5.6099, -5.621, -5.7611, -5.7883, -5.8033, -7.2869, -9.7694, -10.1595, -9.993, -10.3352, -10.4084, -10.4292, -10.4796, -10.487, -10.2627, -10.2934, -10.6397, -10.7306, -10.3836, -10.7693, -10.7405, -10.3838, -10.7994, -10.8096, -10.841, -10.6414, -10.8308, -10.8519, -10.1429, -10.8309, -10.9068, -10.9652, -10.9417, -10.6338, -11.0144, -7.7143, -8.7565, -8.2546, -9.6349, -9.5387, -9.2377, -10.3548, -10.3745, -10.4145, -8.5809, -8.579, -9.2906, -9.7962, -8.81, -10.3493, -7.4926, -7.3813, -9.6967, -8.5664, -7.4314, -8.0425, -6.4498, -8.5486, -7.5044, -6.2332, -7.5164, -7.6316, -7.2392, -7.7152, -9.36, -8.784, -7.7779, -7.3294, -7.5893, -8.1246, -6.6035, -7.5524, -7.6533, -7.3082, -5.5791, -6.7296, -6.4047, -6.5999, -5.3775, -6.79, -5.2901, -6.6706, -7.042, -4.5036, -4.3659, -4.8735, -5.8885, -6.9257, -5.3572, -5.6766, -5.9681, -5.2047, -5.7709, -5.0496, -5.018, -6.169, -4.648, -5.3028, -5.6686, -5.4943, -5.1576, -5.7191, -5.9291, -5.1814, -5.7858, -5.6085, -5.395, -5.8144, -5.8465, -5.5522, -5.7566, -5.6405, -5.5679, -5.7713, -5.8243, -5.7938, -8.4008, -9.7398, -9.6722, -10.083, -10.2824, -10.3642, -10.6183, -10.6183, -10.7125, -10.8163, -10.8791, -11.0635, -11.1446, -11.1447, -9.4024, -11.1458, -10.3732, -11.1143, -11.1813, -11.2718, -11.4831, -11.5568, -11.5828, -10.6412, -11.5832, -10.7697, -10.793, -10.0776, -11.6646, -11.6653, -8.1822, -8.2938, -10.188, -10.6593, -7.9486, -9.4057, -8.472, -9.6911, -9.9247, -9.8009, -7.219, -8.7276, -8.427, -9.2137, -9.0977, -6.9476, -8.6872, -8.1556, -9.4735, -7.4157, -8.5954, -6.146, -7.0717, -7.9435, -7.0305, -6.3386, -6.0898, -5.5463, -5.435, -7.2087, -6.1679, -6.9918, -5.6431, -5.984, -6.4798, -7.7644, -6.7436, -5.2581, -5.8713, -6.8698, -5.1634, -5.5905, -5.0983, -4.7506, -6.44, -6.0608, -3.9844, -4.9341, -4.9558, -5.4392, -4.7604, -4.7425, -5.0875, -4.9548, -6.1339, -5.5242, -5.4625, -5.8636, -5.1326, -5.382, -5.4512, -5.2002, -5.4845, -5.7721, -5.6446, -5.2163, -5.7862, -5.705, -5.4454, -5.5604, -5.5764, -5.6956, -5.6916, -9.3417, -9.4677, -10.2516, -9.3659, -10.201, -10.4833, -10.1127, -10.6302, -9.5899, -10.8166, -10.8166, -10.7869, -9.9797, -10.9521, -10.9893, -11.0081, -11.1299, -11.1301, -11.1518, -11.0292, -9.5089, -11.132, -11.0314, -11.3749, -9.0302, -11.4604, -11.4606, -8.4537, -11.2986, -8.748, -7.9187, -8.9634, -9.5637, -8.2767, -8.6899, -9.5457, -7.1514, -8.4403, -8.1935, -10.359, -5.9701, -7.1117, -9.6446, -9.9861, -6.2656, -7.3267, -9.0778, -9.7045, -6.4995, -7.4726, -4.7455, -9.0743, -6.8205, -8.5037, -6.6711, -7.2673, -5.9176, -5.5391, -6.5289, -6.8139, -7.1345, -7.0316, -7.2035, -7.4498, -5.5264, -6.5892, -5.6287, -7.611, -5.8624, -5.0682, -6.3897, -6.0173, -5.893, -5.2303, -5.5928, -6.4937, -5.018, -6.4491, -5.5968, -4.398, -6.3866, -5.8363, -4.9281, -5.8907, -5.0226, -5.2672, -4.9618, -5.1776, -5.4359, -5.8862, -5.9716, -5.1082, -5.3743, -5.4579, -5.634, -5.3841, -5.5161, -5.5191, -5.6111, -5.6351, -5.7076, -5.7335, -5.734, -5.7877]}, \"token.table\": {\"Topic\": [1, 2, 3, 4, 5, 1, 2, 3, 4, 5, 1, 2, 3, 4, 5, 1, 2, 3, 4, 5, 1, 2, 3, 4, 5, 1, 2, 3, 4, 5, 1, 2, 3, 4, 5, 1, 2, 3, 4, 5, 2, 3, 4, 5, 1, 2, 3, 5, 1, 2, 3, 5, 1, 2, 3, 4, 5, 1, 2, 3, 1, 2, 3, 1, 5, 2, 3, 5, 1, 2, 3, 4, 5, 1, 2, 3, 4, 5, 1, 2, 3, 4, 5, 1, 2, 3, 4, 5, 1, 2, 3, 4, 5, 1, 2, 3, 4, 5, 1, 2, 3, 4, 5, 2, 2, 4, 5, 1, 2, 3, 4, 5, 1, 4, 1, 2, 3, 4, 5, 1, 2, 3, 4, 5, 1, 2, 3, 4, 5, 1, 2, 3, 4, 5, 1, 2, 3, 4, 5, 1, 2, 3, 4, 5, 1, 1, 2, 3, 4, 5, 1, 2, 3, 1, 2, 4, 5, 1, 2, 3, 4, 5, 1, 2, 3, 1, 2, 3, 4, 5, 4, 1, 2, 3, 4, 5, 3, 5, 1, 2, 3, 4, 5, 2, 3, 1, 2, 5, 2, 1, 1, 2, 3, 4, 5, 1, 2, 3, 5, 1, 3, 1, 2, 3, 1, 2, 3, 2, 3, 1, 2, 3, 1, 2, 3, 5, 1, 2, 3, 4, 5, 1, 2, 3, 4, 5, 2, 4, 5, 2, 3, 4, 5, 5, 1, 2, 3, 4, 5, 3, 3, 3, 5, 2, 5, 1, 5, 1, 2, 3, 4, 5, 3, 1, 2, 3, 4, 5, 1, 2, 3, 4, 5, 4, 1, 2, 3, 1, 1, 2, 3, 4, 5, 5, 1, 2, 3, 4, 5, 2, 4, 5, 1, 2, 3, 1, 2, 3, 4, 5, 1, 2, 3, 4, 5, 1, 2, 3, 4, 5, 1, 2, 3, 4, 5, 1, 2, 3, 4, 5, 1, 2, 3, 4, 5, 1, 2, 3, 4, 5, 1, 2, 3, 4, 5, 1, 2, 3, 4, 5, 1, 2, 3, 4, 5, 4, 1, 2, 3, 4, 5, 1, 2, 3, 4, 5, 5, 1, 2, 3, 4, 5, 2, 3, 1, 3, 4, 5, 1, 2, 1, 2, 3, 4, 5, 1, 4, 5, 1, 2, 3, 4, 5, 4, 1, 2, 3, 4, 5, 3, 3, 1, 3, 4, 5, 1, 2, 3, 4, 5, 1, 2, 3, 4, 5, 1, 2, 3, 4, 5, 5, 1, 2, 3, 4, 5, 1, 2, 3, 5, 1, 2, 3, 4, 5, 1, 2, 3, 4, 5, 1, 2, 3, 4, 5, 1, 3, 4, 5, 1, 2, 3, 4, 5, 1, 2, 3, 4, 5, 1, 2, 3, 4, 5, 1, 2, 3, 2, 3, 1, 2, 3, 4, 5, 1, 4, 4, 4, 1, 2, 3, 4, 5, 1, 2, 3, 4, 5, 1, 2, 3, 4, 5, 1, 2, 3, 4, 5, 1, 2, 3, 4, 5, 1, 2, 3, 1, 2, 3, 4, 1, 2, 3, 4, 5, 1, 2, 3, 4, 5, 1, 4, 5, 4, 1, 2, 3, 4, 5, 5, 4, 2, 4, 2, 4, 5, 1, 2, 3, 4, 5, 2, 3, 4, 1, 2, 3, 4, 5, 1, 2, 3, 4, 5, 1, 2, 3, 4, 5, 1, 3, 4, 5, 1, 2, 4, 5, 3, 1, 2, 3, 4, 5, 4, 1, 2, 3, 4, 5, 1, 2, 3, 4, 5, 1, 2, 3, 4, 5, 1, 2, 3, 4, 5, 1, 2, 3, 4, 5, 1, 2, 3, 4, 5, 5, 1, 4, 5, 2, 1, 2, 1, 2, 3, 4, 5, 1, 2, 3, 4, 5, 3, 4, 5, 1, 2, 3, 4, 5, 1, 4, 1, 5, 4, 1, 2, 3, 4, 5, 1, 2, 3, 4, 5, 1, 4, 5, 1, 2, 3, 4, 5, 1, 4, 1, 2, 3, 4, 5, 1, 2, 3, 4, 2, 1, 2, 4, 2, 3, 1, 2, 3, 2, 3, 1, 2, 3, 4, 5, 1, 2, 3, 4, 5, 3, 4, 5, 1, 2, 3, 4, 5, 5, 1, 2, 3, 4, 5, 1, 2, 3, 4, 5, 1, 3, 1, 4, 5, 1, 4, 3, 1, 4, 1, 2, 3, 1, 2, 3, 4, 5, 2, 3, 4, 5, 3, 2, 5, 1, 1, 2, 3, 4, 5, 1, 2, 3, 4, 5, 1, 2, 4, 5, 1, 2, 4, 5, 2, 1, 2, 3, 4, 5, 3, 1, 2, 3, 4, 5, 1, 2, 3, 4, 5, 1, 2, 3, 4, 5, 1, 2, 3, 4, 5, 1, 2, 3, 4, 5, 1, 2, 4, 5, 1, 2, 3, 4, 5, 1, 2, 3, 4, 5, 2, 1, 2, 3, 4, 5, 1, 2, 3, 4, 5, 1, 2, 3, 4, 5, 5, 1, 4, 1, 2, 3, 4, 5, 1, 4, 4, 1, 2, 3, 5, 1, 1, 1, 2, 3, 4, 5, 1, 2, 3, 4, 5, 1, 2, 3, 4, 5, 1, 3, 5, 3, 3, 4, 1, 4, 1, 2, 3, 4, 5, 1, 2, 3, 4, 5, 1, 2, 3, 4, 5, 4, 5, 1, 2, 3, 4, 5, 1, 2, 3, 5, 1, 2, 3, 4, 5, 1, 2, 3, 4, 5, 1, 2, 3, 4, 5, 5, 2, 3, 3, 1, 2, 3, 4, 5, 2, 1, 2, 3, 4, 5, 2, 3, 4, 5, 3, 4, 5, 2, 3, 4, 5, 1, 2, 3, 4, 5, 1, 2, 3, 4, 5, 2, 4, 5, 4, 4, 1, 2, 3, 4, 5, 1, 2, 3, 4, 5, 1, 2, 3, 4, 5, 1, 2, 4, 5, 1, 2, 3, 4, 5, 1, 2, 3, 4, 5, 3, 4, 5, 1, 2, 3, 4, 5, 1, 2, 3, 4, 5, 1, 2, 3, 4, 5, 2, 1, 2, 4, 1, 4, 1, 3, 5, 4, 3, 1, 5, 2, 1, 2, 3, 4, 5, 1, 2, 3, 4, 5, 1, 2, 3, 4, 5, 1, 2, 3, 4, 5, 2, 1, 2, 3, 4, 5, 1, 4, 5, 2, 1, 2, 3, 4, 5, 4, 5, 1, 2, 3, 4, 5, 1, 2, 3, 1, 2, 3, 4, 5, 4, 3, 1, 2, 3, 4, 5, 5, 1, 2, 3, 4, 5, 2, 4, 1, 2, 3, 4, 5, 1, 2, 2, 1, 2, 3, 4, 5, 1, 2, 3, 4, 5, 1, 2, 3, 4, 5, 4, 1, 2, 3, 3, 2, 4, 5, 1, 4, 5, 1, 2, 3, 4, 5, 1, 2, 3, 4, 5, 1, 2, 3, 4, 5, 1, 2, 3, 4, 5, 1, 2, 3, 4, 5, 1, 2, 3, 4, 5, 2, 1, 2, 3, 4, 5, 2, 3, 1, 2, 3, 4, 5, 1, 2, 3, 4, 5, 1, 2, 3, 4, 5, 1, 2, 3, 4, 5, 1, 2, 3, 4, 5, 1, 2, 3, 4, 5, 1, 2, 3, 4, 5, 2, 1, 2, 5, 1, 2, 3, 4, 5, 1, 2, 3, 4, 5, 1, 2, 3, 4, 5, 1, 2, 3, 4, 5, 1, 2, 3, 5, 1, 2, 3, 5, 1, 2, 3, 1, 2, 3, 4, 5, 3, 1, 2, 3, 4, 5, 1, 2, 3, 4, 5, 1, 2, 3, 4, 5, 1, 2, 3, 4, 5, 1, 2, 3, 1, 2, 3, 4, 5, 1, 2, 3, 4, 5, 1, 2, 4, 1, 2, 3, 4, 5, 1, 2, 3, 4, 5, 1, 2, 3, 4, 5, 1, 2, 1, 2, 3, 4, 5, 2, 3, 4, 5, 1, 3, 3, 1, 2, 3, 4, 5, 5, 4, 2, 4, 5, 1, 2, 3, 4, 5, 1, 2, 3, 4, 5, 1, 2, 1, 2, 4, 1, 2, 3, 4, 5, 1, 4, 5, 1, 2, 3, 2, 1, 2, 3, 4, 5, 1, 2, 3, 4, 5, 1, 2, 3, 1, 2, 3, 4, 5, 1, 2, 5, 1, 2, 3, 4, 5, 2, 3, 1, 2, 3, 4, 5, 1, 2, 3, 4, 5, 1, 2, 3, 4, 5, 1, 2, 3, 4, 5, 1, 4, 5, 1, 5, 1, 2, 1, 2, 3, 4, 5, 1, 2, 3, 4, 5, 1, 2, 4, 5, 1, 4, 5, 5, 1, 1, 2, 3, 4, 5, 1, 1, 2, 3, 4, 5, 3, 1, 2, 3, 4, 5, 1, 2, 4, 1, 2, 3, 4, 5, 1, 3, 4, 3, 1, 3, 4, 5, 1, 2, 3, 4, 5, 1, 2, 3, 1, 2, 4, 5, 1, 2, 3, 4, 5, 1, 2, 3, 4, 5, 1, 2, 3, 4, 5, 2, 1, 2, 3, 4, 5, 1, 2, 3, 4, 5, 1, 2, 3, 4, 5, 4, 5, 1, 2, 3, 4, 5, 1, 2, 3, 4, 5, 1, 2, 3, 4, 5, 1, 1, 2, 3, 4, 5, 3, 2, 5, 4, 1, 2, 3, 4, 5, 1, 2, 3, 4, 5, 1, 2, 3, 4, 5, 1, 2, 3, 1, 2, 3, 4, 5, 1, 2, 3, 4, 5, 1, 2, 3, 4, 5, 1, 2, 3, 4, 5, 1, 2, 3, 4, 5, 2, 3, 4, 1, 2, 3, 4, 5, 4, 5], \"Freq\": [0.0535602215426007, 0.18844053554927198, 0.744617714128839, 0.0029392804505085747, 0.010450774935141599, 0.05646381434989661, 0.19732926785823243, 0.7419698104416101, 0.001176329465622846, 0.0029408236640571152, 0.16580398350385775, 0.7400185299778036, 0.07344170440486192, 0.002862981697138685, 0.018049232438483016, 0.18060635126847013, 0.6539461395203359, 0.09223108288517945, 0.032851539556092345, 0.04025470339971879, 0.2256060298417845, 0.6203752016485754, 0.059587799518006176, 0.030787029750969856, 0.06372584115120104, 0.11700493339528022, 0.004801114288256179, 0.028806685729537075, 0.6700221717833068, 0.17924160009489734, 0.06617509741983985, 0.0021346805619303173, 0.008965658360107332, 0.7428688355517504, 0.17974010331453272, 0.018921845960582287, 0.00032070925356919133, 0.03142950684978075, 0.7908690193016258, 0.1584303712631805, 0.0004364369605451031, 0.0004364369605451031, 0.7591820928682068, 0.23982210981953417, 0.06893422546008661, 0.08381775141169623, 0.839744201059237, 0.007441762975804805, 0.010239248385719435, 0.06996819730241613, 0.9140235725652215, 0.005460932472383698, 0.029124711900977974, 0.05603341311383806, 0.9012832041530902, 0.0006331459108908255, 0.013296064128707336, 0.0009224085732924102, 0.009224085732924102, 0.9897443991427561, 0.08942484998329765, 0.8290310136986607, 0.08145065953892716, 0.9952783172491365, 0.9954938383412377, 0.9524804208647901, 0.02404097216125071, 0.022896163963095916, 0.2957443949780087, 0.14433513103672108, 0.22477486809671188, 0.06215131051869197, 0.2730061106419019, 0.03900597020259598, 0.09235037196050164, 0.5401715281192255, 0.2453162934344451, 0.08317649395118028, 0.026150074887580036, 0.15779907732848983, 0.5475340422337635, 0.16444892455076104, 0.10397125994821341, 0.2938630378151648, 0.0910447032788339, 0.371753555068323, 0.19217674584140226, 0.05117569563359779, 0.058410194859241545, 0.19545461559960325, 0.129859567614168, 0.0081162229758855, 0.6081845118487315, 0.024480934522611363, 0.09344131345954478, 0.12861110671738082, 0.0003448018946846671, 0.753047337991313, 0.02310471943876678, 0.8043666279031132, 0.11982214964755795, 0.022030081325335765, 0.030089867176068364, 0.992138502210731, 0.9817739580091965, 0.010444403808608473, 0.010444403808608473, 0.06662337037610122, 0.4502501146609677, 0.38845553898649565, 0.033136728858281436, 0.06154963681279519, 0.01162086145189256, 0.9761523619589749, 0.0064504936817774096, 0.7867022094295728, 0.12582763008587133, 0.04523946235486556, 0.0357787382882587, 0.9627026333036738, 0.003552408240972966, 0.0005074868915675665, 0.025881831469945896, 0.007612303373513499, 0.03982089698820021, 0.004304961836562185, 0.016143606887108194, 0.00860992367312437, 0.9309479971565725, 0.19579761072855237, 0.2094568023374718, 0.22530527204398806, 0.2593818615631041, 0.11006674957338326, 0.15518866579772106, 0.48800223203325616, 0.2440293732390967, 0.06278754832529793, 0.049958769324539486, 0.008697664250139805, 0.18359123727997803, 0.7411820373159677, 0.05547699359548632, 0.011048384317745158, 0.993695889575225, 0.011421225952161647, 0.0491458813699077, 0.05295295668729491, 0.003114879805134995, 0.8832414736338341, 0.19415526799507868, 0.0022576193952916126, 0.8037125047238141, 0.0414916231305406, 0.012966132228293938, 0.01815258511961151, 0.9257818411001871, 0.8643958066735322, 0.06107651061177601, 0.0053616784124841535, 0.05804599672645888, 0.01095647327768501, 0.004419758365351457, 0.9767665987426719, 0.017679033461405827, 0.9412198454997045, 0.004985861453500494, 0.004708869150528245, 0.030469153326947468, 0.01883547660211298, 0.9736860076697099, 0.000852706393982626, 0.005116238363895756, 0.011937889515756764, 0.011085183121774138, 0.971232582746211, 0.007399703159485028, 0.9915602233709937, 0.017255774161447298, 0.8746520528083599, 0.0862788708072365, 0.011863344735995016, 0.011863344735995016, 0.006584407968027202, 0.9876611952040804, 0.011955542522813282, 0.9803544868706892, 0.9869675152648733, 0.9921674396255634, 0.9962735271403078, 0.04066672750062981, 0.1525473272492189, 0.4884582643341697, 0.31341101372920854, 0.004925222457058408, 0.9606790989285477, 0.0026205103625983298, 0.036163043003856955, 0.000524102072519666, 0.988199766852245, 0.010205161103465525, 0.01316981307500984, 0.00987735980625738, 0.9745661675507281, 0.028242187741489354, 0.9642689814594223, 0.004034598248784193, 0.996056383105221, 0.002012235117384285, 0.002338080962474081, 0.02338080962474081, 0.9742004010308671, 0.057924457641440226, 0.8528452061250348, 0.08873533936561055, 0.9873289492116513, 0.02887005951677963, 0.12831137563013167, 0.12599464245903208, 0.01015798390405209, 0.7066036171853779, 0.005075470123908092, 0.027915085681494502, 0.020301880495632366, 0.07613205185862137, 0.8704431262502377, 0.9724888319681545, 0.00661557028549765, 0.0132311405709953, 0.9367842842421605, 0.006597072424240567, 0.0032985362121202835, 0.052776579393924536, 0.9906084609573091, 0.24566645886129362, 0.3617552783750826, 0.18162111744609255, 0.09359329163362384, 0.11738459590726404, 0.9910785650688332, 0.9902418246888002, 0.00679950912134492, 0.9859288225950134, 0.9734959291454444, 0.9950471204095971, 0.9952818591227983, 0.0019140035752361507, 0.22924745900572946, 0.13403285941868529, 0.1563716693217995, 0.21627752156198146, 0.2640679263547094, 0.9904615316834766, 0.022880658179640807, 0.7392708431562818, 0.02739233725731646, 0.02545876050974118, 0.18465657939343919, 0.0019894937349838417, 0.07759025566436983, 0.005968481204951525, 0.9131776243575833, 0.0019894937349838417, 0.983198217945636, 0.025582408005589658, 0.9550765655420139, 0.017054938670393104, 0.9942386617904548, 0.917741311527091, 0.015613746320876786, 0.008327331371134287, 0.04024876829381571, 0.018389523444588215, 0.976667535629817, 0.11456554791586124, 0.006588434065448889, 0.02064376007173985, 0.2415027109101765, 0.616677428526016, 0.9607187123009109, 0.017310247068484882, 0.02308032942464651, 0.03156534056078916, 0.9502255968816875, 0.017415360309400916, 0.002988134573531956, 0.008217370077212878, 0.06275082604417108, 0.009711437363978857, 0.916236763609236, 0.0329331072839322, 0.024632159694557513, 0.280698347288529, 0.6533387118985016, 0.008300947589374693, 0.15795599546446812, 0.3509925870604785, 0.26835773351295067, 0.11219738035226814, 0.11049757289053849, 0.18805864161597374, 0.3356957437095225, 0.2421109029609672, 0.08884372011461843, 0.14526654177658033, 0.08636462918816386, 0.4220021681425125, 0.36328621538194833, 0.05040935474489703, 0.07793808029862426, 0.25026149657053437, 0.26345432377643846, 0.3310876742237791, 0.09673399216524191, 0.05846272665787073, 0.7388184969393755, 0.10711401464418853, 0.055400910547581075, 0.06805679177705876, 0.030675844569462443, 0.8457272024579444, 0.08846379703256516, 0.0027714222127996607, 0.05110502560402574, 0.011972543959294533, 0.00359591731458993, 0.44541181994637125, 0.11188122119002483, 0.022242787512927402, 0.4168669093047811, 0.05911700278334448, 0.8867550417501672, 0.005767512466667755, 0.03893070915000734, 0.008651268700001631, 0.9715569948464922, 0.3907237234851437, 0.3057934980644282, 0.1602184683541254, 0.07944752949656132, 0.06381583061562622, 0.4194951286020188, 0.16129091326986508, 0.13125851804037797, 0.16167713602347125, 0.12627338360957244, 0.9906090726458968, 0.1804266322154014, 0.0474361098782276, 0.09704514714994544, 0.5889738114694222, 0.08610685162678271, 0.018328728888876347, 0.9824198684437722, 0.012956871714231167, 0.012956871714231167, 0.008637914476154111, 0.9674464213292605, 0.9986702033185054, 0.9921756105454073, 0.019231862903964274, 0.007919002372220582, 0.027150865276184856, 0.8575148283061717, 0.0871090260944264, 0.9864471415492806, 0.00738911716516315, 0.006157597637635959, 0.047543190791518315, 0.36348999128205334, 0.04875255653502275, 0.1419493041438337, 0.398334841766775, 0.9915839312479016, 0.09542389474322051, 0.07237464480524454, 0.12792333715576662, 0.6990837506188111, 0.005301327485734472, 0.9896457529201134, 0.9949558281500761, 0.010291787675958923, 0.04631304454181515, 0.020583575351917845, 0.9236879439173132, 0.8077070234279424, 0.08020072236622922, 0.030415745652098248, 0.06168898330433857, 0.01992407882683053, 0.7432209551313806, 0.10491646773058212, 0.05761277885103102, 0.06996220954603301, 0.02426931597452565, 0.08406189096106013, 0.047876308759279285, 0.05010311381785041, 0.8100003400552483, 0.007793817704998953, 0.984893957318607, 0.22078618836127267, 0.1084299485536313, 0.23508668883385245, 0.30125823539928065, 0.13444162811144797, 0.0019121019868677271, 0.9732599113156731, 0.0019121019868677271, 0.022945223842412724, 0.015295989154454594, 0.5767844522236405, 0.10733191256539384, 0.049051160687939376, 0.2515388584748128, 0.03786975948756151, 0.7470914036009042, 0.03439055896926964, 0.1612475624823732, 0.019537049064254346, 0.1502971481456133, 0.6968947363238501, 0.07975511978449745, 0.02131386821827087, 0.051703319032708694, 0.992761832589292, 0.0333172791175736, 0.006663455823514721, 0.9595376385861198, 0.8071471076183055, 0.04960377296889615, 0.0753200147154437, 0.027202069047459178, 0.040917397978951206, 0.18209909233900645, 0.10343545828894503, 0.22481898397966923, 0.397206124727262, 0.09243810133984424, 0.12440544921259647, 0.09436195637554086, 0.14655018336948722, 0.4494769820379525, 0.1851976811974367, 0.0003034796920066771, 0.0012139187680267084, 0.9984481867019678, 0.00855440925461391, 0.9923114735352135, 0.11557183375160496, 0.17901755627062388, 0.09565770278473228, 0.6001490206121736, 0.009572757692847569, 0.05320882999038515, 0.9437566161452523, 0.9992556733590554, 0.9951331702605302, 0.8340764606417173, 0.07430682875223173, 0.03764879323446407, 0.04047952956788242, 0.01344599758373717, 0.05345857943176302, 0.10801562282445268, 0.15451726383701367, 0.01794157802846841, 0.6664014696288266, 0.01695352407117714, 0.9650467548208527, 0.0052164689449775824, 0.009128820653710769, 0.0026082344724887912, 0.008079608781381297, 0.06560642330481613, 0.052463593020435885, 0.012819645933124992, 0.861070839861076, 0.032448618310528206, 0.023598995134929607, 0.9164276444064331, 0.012782789031420204, 0.014749371959331004, 0.010950130880435097, 0.015330183232609138, 0.9723716221826366, 0.007590630205518745, 0.0811613537359312, 0.9021172051943431, 0.009342314099099995, 0.07731962090762248, 0.013302884215145723, 0.07216135968134149, 0.09879427685492916, 0.7383915201704763, 0.05125818235541148, 0.22895321452083794, 0.2471958701898921, 0.07170888280285258, 0.40081269977195605, 0.007291209198045511, 0.0328104413912048, 0.9606168118424961, 0.983912990651468, 0.14908675877745814, 0.1718742453838029, 0.038574895627733925, 0.6340283038118275, 0.006255388480173069, 0.9907573899861309, 0.9743248881704047, 0.007686195387493232, 0.9838330095991337, 0.9922014334225354, 0.009232404630624502, 0.9878672954768217, 0.30381919935642115, 0.08286778175031119, 0.06429953189263084, 0.34649977367383805, 0.2025102805699935, 0.032041689334462234, 0.04951897442598709, 0.9175574673050549, 0.387933294094725, 0.16389282110604983, 0.1090356335797723, 0.23525365403218204, 0.1038846366493388, 0.32987634401641797, 0.1918426637878127, 0.13697183692913942, 0.22680021084277732, 0.11450953833651686, 0.12649701953720136, 0.7731724880046249, 0.060410435612317306, 0.03811128152723374, 0.002027195825916688, 0.0094037512803616, 0.023509378200904, 0.014105626920542399, 0.9544807549567024, 0.002150110045770589, 0.07525385160197062, 0.9223972096355827, 0.0010750550228852945, 0.9903557920955252, 0.017176823554074256, 0.1705485794303941, 0.5838087248201334, 0.17583375590857078, 0.05275012677257124, 0.9826368856605368, 0.07671495334643288, 0.12680043547728745, 0.24090702975336656, 0.4905755694662628, 0.06498694788879476, 0.019052096545298658, 0.05433375681437024, 0.811713397257107, 0.08349992930346943, 0.031283072105243476, 0.039048375625529444, 0.036751412353439476, 0.8580798509307521, 0.05709594419195062, 0.008859715478061303, 0.035270773928550235, 0.03372981778604076, 0.8077178446987172, 0.10855179937233422, 0.014724692028423886, 0.024715835548114167, 0.025594620812047116, 0.8346263044203175, 0.10754134667379453, 0.00746967474343006, 0.02492615959191744, 0.03215113338667611, 0.8420706957791239, 0.04660108097619347, 0.05418730346069008, 0.991090636945273, 0.0029135534077020715, 0.9847810518033001, 0.011654213630808286, 0.9921410602546513, 0.009633878700975299, 0.9826556274994805, 0.7161133577076808, 0.08048208084504065, 0.06978909997805018, 0.08459476579388313, 0.04903585900542964, 0.013699792130689089, 0.017809729769895814, 0.057539126948894175, 0.04246935560513618, 0.8685668210856882, 0.9913550508808785, 0.9766759526194385, 0.017035045685222763, 0.6351360708247905, 0.19076920691769073, 0.023510289584926673, 0.08736871424798465, 0.06323148360745993, 0.023837653776637116, 0.9756411152866477, 0.016914619063210044, 0.9810479056661826, 0.9826346276857624, 0.0766911558920219, 0.09332297283246038, 0.16654916686189095, 0.02471672795315164, 0.638707970004339, 0.04849074794513372, 0.07884258707456296, 0.36999764250939504, 0.460271051059858, 0.04238428278827135, 0.006557499597238456, 0.9602052981670597, 0.03278749798619228, 0.0886454833682762, 0.015516551383750129, 0.023274827075625195, 0.018102643281041816, 0.8545597002828312, 0.9856956566562599, 0.01394589214284465, 0.06426750497667788, 0.09545304837519697, 0.007374959587487625, 0.8299990232889645, 0.003160696966066125, 0.005933391981964319, 0.9058311759132195, 0.0791118930928576, 0.0098889866366072, 0.9920985877405136, 0.011672579926133929, 0.992169293721384, 0.9715546607275731, 0.006102880235925549, 0.9947694784558645, 0.0028431578116207648, 0.011372631246483059, 0.9837326028207846, 0.006457010147305024, 0.9879225525376687, 0.15266152475137745, 0.04783128712836892, 0.0057796138613445775, 0.7224517326680722, 0.07134833663315031, 0.5792804275353262, 0.15094480020081452, 0.12265565069142897, 0.10257127902177535, 0.044560032887332776, 0.011355898327936908, 0.9766072562025742, 0.011355898327936908, 0.024216990580503635, 0.03341944700109502, 0.04940266078422742, 0.0319664275662648, 0.8616405248543194, 0.984891409452163, 0.3354354162096381, 0.26052352850278404, 0.2026276374495644, 0.107523220880752, 0.09387530611634538, 0.07625226949890807, 0.13513345985161518, 0.13220068025550333, 0.5822131494358195, 0.07422188362467678, 0.0064163364734696185, 0.9881158169143213, 0.10338450794979549, 0.894275993765731, 0.002584612698744887, 0.018976945399869518, 0.9741498638599686, 0.990781366550299, 0.997223749054433, 0.00190856219914724, 0.004262576265870156, 0.031969321994026176, 0.9633422360866554, 0.027602028026914485, 0.6362867504291331, 0.061307361629966584, 0.18635654947364003, 0.08842935438684778, 0.0022459924548629104, 0.0651337811910244, 0.9163649215840675, 0.015721947184040373, 0.9935304455012364, 0.992100253952079, 0.00684207071691089, 0.9952025055754625, 0.6982876127394925, 0.1538456683580458, 0.028191298789436707, 0.08129630599550114, 0.03838601240302045, 0.814049330133589, 0.04087703033730138, 0.032876188100463034, 0.0986285643013891, 0.01352869687319939, 0.9946080149085913, 0.0035062562217694168, 0.001168752073923139, 0.001168752073923139, 0.005213598391475732, 0.010427196782951464, 0.005213598391475732, 0.9775496984016997, 0.9972667467764987, 0.24181576421037876, 0.22321085591246603, 0.16684362890013268, 0.2043296965552557, 0.16379285633223736, 0.9922642879002164, 0.022858902146737622, 0.23947019628999303, 0.2926529926129379, 0.08089183453402723, 0.3641397806917576, 0.09173809973394365, 0.5044555370857445, 0.15738418405926968, 0.09524477150867813, 0.15120293211736485, 0.01839143737880488, 0.07045733756387221, 0.07952353908863519, 0.6255679052086448, 0.20606180894139833, 0.5306247009291488, 0.09138427070484831, 0.1069966737301444, 0.11664976834515398, 0.15432638763332912, 0.97760168616296, 0.0006982869186878286, 0.0011638115311463808, 0.010241541474088152, 0.010241541474088152, 0.983671221515461, 0.002410958876263385, 0.006429223670035693, 0.0072328766287901546, 0.9302921438612337, 0.05712637338906915, 0.0018077966262363657, 0.005604169541332733, 0.005061830553461824, 0.9801729864831084, 0.014130934274330527, 0.0012846303885755024, 0.0012846303885755024, 0.003211575971438756, 0.9921965187286699, 0.978339751865153, 0.009709343206062914, 0.004278693616231115, 0.0044432587553169265, 0.00312673764263043, 0.9859729823329562, 0.010141436389710407, 0.0011268262655233785, 0.0011268262655233785, 0.0016902393982850678, 0.30873403295679774, 0.31022258641254463, 0.11185607544490705, 0.13339316418301048, 0.13579362426029598, 0.9766657256792779, 0.9968599259077006, 0.0014768295198632601, 0.07965517027054639, 0.13050081750673417, 0.27956074781459905, 0.4012561468390449, 0.10900656521150735, 0.9970836883041854, 0.9872399144106375, 0.9736865536462546, 0.9948412294465778, 0.9799345888872897, 0.01224918236109112, 0.9883953894509057, 0.9937026588213678, 0.9949260551915394, 0.9136954545897719, 0.045468257218922295, 0.0261484116606989, 0.010159573957341612, 0.004496860604069238, 0.011282094433031629, 0.7154946864855175, 0.06008371221312193, 0.010757345854751087, 0.20202820263800822, 0.10433242862642123, 0.1531587328768958, 0.16126994302925476, 0.5203102747733797, 0.060913597810852635, 0.9949899799846756, 0.0045537298855133895, 0.989283013422724, 0.9889767845399693, 0.009992957585563905, 0.9793098433852626, 0.995983233406016, 0.00253430848194915, 0.9865681719252606, 0.0007594828113358434, 0.00455689686801506, 0.00455689686801506, 0.0030379312453433734, 0.15369689055162866, 0.47284434109531565, 0.16111519011648998, 0.10225050136155155, 0.11008628098850462, 0.07381078223852523, 0.5018561648551939, 0.10516403487081913, 0.09565191525711537, 0.22347357410049065, 0.9826351919167708, 0.9844260023325535, 0.12558010456353477, 0.23898787873621385, 0.1964516033044325, 0.2804986464793883, 0.15848552518057316, 0.0039047491203040843, 0.0039047491203040843, 0.9852983613567307, 0.006507915200506808, 0.010926895726512743, 0.09615668239331214, 0.034966066324840776, 0.8573970846736999, 0.0007284597151008495, 0.27709921798975967, 0.27451032585018786, 0.20995476456649279, 0.1213707738653484, 0.11706180423643402, 0.23959859195305433, 0.05883453993766787, 0.0014877699754352795, 0.628041807357611, 0.07195396608468807, 0.9848796369786836, 0.9724171555601093, 0.99451425201836, 0.9934759975827248, 0.2667462951929872, 0.2661726472463356, 0.1952358636615339, 0.1467886870761409, 0.1250552523700456, 0.9921808462863562, 0.036902699570258816, 0.1841315811675139, 0.23487876052480386, 0.2306617638080645, 0.31342629182225856, 0.08618544748337599, 0.002736045951853206, 0.9083672560152645, 0.002736045951853206, 0.9940333879887919, 0.9691355552718804, 0.020190324068164175, 0.9419326201512678, 0.0007657988781717623, 0.04977692708116455, 0.007657988781717624, 0.026108884247074485, 0.7566021349896904, 0.007777114456575378, 0.12332281495426671, 0.08638152128553367, 0.21523658500603499, 0.2872247992996496, 0.16508413926919194, 0.20942405738255984, 0.12302984546772443, 0.0372978426210384, 0.0036094686407456516, 0.9577123460111795, 0.993459139961761, 0.9921816391170964, 0.8619540449369135, 0.035067892115331976, 0.03422542023268136, 0.04243952108852488, 0.026221937347500484, 0.004867437079348219, 0.06327668203152684, 0.8165125700606637, 0.10343303793614964, 0.011357353185145844, 0.7903350367190217, 0.06942218783325065, 0.02194305752215501, 0.11138347327035408, 0.006801064612129915, 0.9929197508885879, 0.0031421511104069233, 0.0031421511104069233, 0.0031421511104069233, 0.18904049106622958, 0.11054406398186173, 0.6608303861521202, 0.015313902441523964, 0.02423856081804124, 0.047655330844141655, 0.018863568459139404, 0.01787074906655312, 0.8905589951498971, 0.02482048481465711, 0.9352924350640093, 0.06099733272156582, 0.0022591604711691042, 0.021952948926410122, 0.1973644345509625, 0.5734279944207707, 0.1995915453116128, 0.007529755428865308, 0.0733493208706832, 0.8435171900128567, 0.05642255451591015, 0.017867142263371546, 0.009403759085985026, 0.3171485322578792, 0.29601506611743883, 0.24182689450321374, 0.07005807394270047, 0.07495330710416678, 0.9921238115503619, 0.9821141343668626, 0.007909644035169363, 0.010546192046892484, 0.049985792804924295, 0.9455645805598178, 0.9917231873958168, 0.003384720776094938, 0.003384720776094938, 0.9893809381107223, 0.9963657463922612, 0.9930549922511188, 0.9932782902897119, 0.9920851414435512, 0.730898343707025, 0.06206229729724257, 0.06783897890724845, 0.08872390472803891, 0.05043487405658973, 0.928813812621211, 0.02874694560882733, 0.005174450209588919, 0.03162164016971006, 0.0057493891217654655, 0.22829739854054282, 0.2067645444465853, 0.15533506072513392, 0.26269899975574124, 0.14689847756997815, 0.2470998082114189, 0.22806051473590472, 0.17699894290062107, 0.21262357647036087, 0.13522129321720716, 0.9920615297364151, 0.3405447836034542, 0.03344636267533925, 0.13128144493956692, 0.024771771286280678, 0.46985879544447173, 0.00996164784023055, 0.0398465913609222, 0.9513373687420175, 0.9921512452631862, 0.014399702942733314, 0.8285829068297794, 0.11759757403232207, 0.037799220224674954, 0.0017999628678416642, 0.02216367345053189, 0.9752016318234032, 0.041337782769692605, 0.037690331348837376, 0.9097351752183086, 0.001823725710427615, 0.009422582837209344, 0.040983336258081676, 0.02151625153549288, 0.9374938169036183, 0.9844035991455883, 0.010345888806706574, 0.0026250762643882353, 0.001389746257617301, 0.0012353300067709343, 0.9820797564018351, 0.9938901784070802, 0.2852379271449978, 0.3044391674878893, 0.21370307868805713, 0.10934097426027921, 0.08727584360983473, 0.9876833444010349, 0.014379353345478768, 0.04541771361559757, 0.11293053115229666, 0.0017535796762778986, 0.8254099536240068, 0.04734251366088154, 0.951584524583719, 0.008018274450180624, 0.8421774712834874, 0.0018105781016536891, 0.07397504815327931, 0.07397504815327931, 0.006124690232994679, 0.9860751275121432, 0.9661311037377222, 0.8812450006178713, 0.03400240483418759, 0.0566066400629413, 0.02343668581791461, 0.004674530231441985, 0.920819298045396, 0.024386431292519706, 0.024695120296222485, 0.022534297270303018, 0.007408536088866746, 0.42162846422252426, 0.20999642995201226, 0.10621679435237182, 0.20414724894545702, 0.05801521013168503, 0.9804310309723802, 0.037689538206089064, 0.06565274397189708, 0.8948225845058565, 0.9906783481700779, 0.9967474944817799, 0.9893810796389314, 0.9869325920766004, 0.016090485383160106, 0.007313856992345503, 0.97566852277889, 0.23456902239681712, 0.31273187515349526, 0.26706043679165614, 0.08625754391101398, 0.09938928940194446, 0.23634724972251592, 0.15551629886561336, 0.2526302254931923, 0.28238183554331703, 0.07312501582139729, 0.567450000494982, 0.16350459421832308, 0.11259422664785845, 0.10555600667463186, 0.050910367570464646, 0.233724165881131, 0.06871940134438942, 0.03401756994003914, 0.6146622982269142, 0.04887581887936659, 0.6880376106306509, 0.17879028045656822, 0.034211061859804555, 0.05908563871006085, 0.03986747248602722, 0.404781782255657, 0.23568753229045258, 0.1853841347979603, 0.09044237310722923, 0.0836991184555303, 0.9921774474126083, 0.9489566732465494, 0.03318839930833804, 0.00463093943837275, 0.010805525356203084, 0.002701381339050771, 0.006672446720109871, 0.9941945612963708, 0.22840375657468112, 0.266770155268793, 0.25508077210156044, 0.1554057413602205, 0.09432345974776596, 0.12536910718882946, 0.4403907186262353, 0.2652761518665555, 0.08999675588364565, 0.07898616377187362, 0.01128083755576623, 0.4375466119094923, 0.19181368193598314, 0.08874784790375531, 0.27058232738656063, 0.10746155125633078, 0.25627818309860195, 0.32989374987112524, 0.2810075523733682, 0.025389993565276513, 0.07372267226764448, 0.3890253020604648, 0.2919783793463186, 0.1148558255412542, 0.13042250760720675, 0.1183744011696083, 0.37658600520315566, 0.08791915555371119, 0.16706519508638207, 0.25006513915686707, 0.12737698886294177, 0.38507197805111465, 0.15545028009388573, 0.18559564758235175, 0.14651584375768847, 0.9953906693753775, 0.9948879345636195, 0.0017212594023592032, 0.0017212594023592032, 0.25423977607259857, 0.3600083565608907, 0.23421935308685726, 0.06752402042907027, 0.08400086120607919, 0.028442671863499906, 0.03650850418299988, 0.6834731597049978, 0.16216568137099946, 0.0891486730049997, 0.0091658929969599, 0.02671203101971171, 0.3053551781272927, 0.00549953579817594, 0.6533972293547129, 0.0012895562078502373, 0.0025791124157004746, 0.05287180452185973, 0.9329939163796468, 0.010316449662801899, 0.008375492755332366, 0.010469365944165459, 0.9799326523738869, 0.0020938731888330915, 0.004299647391801071, 0.02257314880695562, 0.9695704868511416, 0.003224735543850803, 0.009377430394017115, 0.02947192409548236, 0.9605167989300388, 0.02820211903518245, 0.3565495567935026, 0.24799442617488968, 0.13177243706736544, 0.23547821196331015, 0.9883812001263375, 0.00884823319608525, 0.013051143964225742, 0.1771858697516071, 0.0453471951299369, 0.7554179091157781, 0.001961473029412683, 0.003922946058825366, 0.009807365147063414, 0.009807365147063414, 0.9748520956181034, 0.13473818243032118, 0.27069296244466334, 0.27264396954586767, 0.21434372312622915, 0.10758728512839003, 0.530017315318537, 0.09102912745184269, 0.12705229331057386, 0.17581894839874176, 0.07610776708388788, 0.00800160489457517, 0.9841974020327459, 0.9892533142085003, 0.5146520242347324, 0.2093304129060247, 0.0620935742441278, 0.11460625317511554, 0.09932368374899268, 0.17548530353339648, 0.1702540343223738, 0.16473742315438628, 0.039186962089842466, 0.45036472207622347, 0.13121353475735487, 0.008594773019040712, 0.8600502867720073, 0.023211671195420756, 0.06238904215488753, 0.5798005275850867, 0.30347110859198245, 0.03107170800233572, 0.8554963146036337, 0.012345363994192721, 0.006509373742392526, 0.01399141252675175, 0.11163201866263964, 0.860594233677132, 0.031196300258602677, 0.028692893447727155, 0.007510220432626571, 0.07182851849665925, 0.9988330591835259, 0.0009850424646780335, 0.029364311734221778, 0.38535440375383934, 0.13995596919770475, 0.03237960440835198, 0.412909539883583, 0.9656816558712504, 0.010670515534488955, 0.0053352577672444775, 0.01600577330173343, 0.006855597758862201, 0.9872060772761571, 0.9904623026042945, 0.32246853766334804, 0.29523153513606404, 0.22684030040303854, 0.07652719097182066, 0.07893459055003867, 0.9883508044596367, 0.9760642391699773, 0.026600955983093956, 0.0024182687257358142, 0.9697257590200615, 0.03162858065208638, 0.10922791862061537, 0.38825904673284656, 0.20452177129496596, 0.2663505450858187, 0.5234190424129225, 0.12700118188434006, 0.04209182028166699, 0.14006416059244362, 0.16740932935474037, 0.01272136660608071, 0.9795452286682147, 0.026200383155391728, 0.022457471276050054, 0.9469567054734439, 0.11828826212017887, 0.21994721026068237, 0.1832141961269497, 0.16936969549315298, 0.30916732545626124, 0.009769830189520195, 0.01953966037904039, 0.9672131887624994, 0.9932452520572118, 0.005240042251625665, 0.9903679855572507, 0.9922011568605122, 0.2209857288733893, 0.1429146483410208, 0.6041522659245164, 0.015384172406930808, 0.01653439090464526, 0.42726831930834586, 0.15365026178533703, 0.18269619084002117, 0.1613431706974581, 0.07505784100745151, 0.015508776185493905, 0.9512049393769595, 0.03101755237098781, 0.13614767347442175, 0.19507456809533144, 0.1907042620891224, 0.4235223820562593, 0.05455658861470064, 0.9593974067406734, 0.03979067585560397, 0.0007368643676963697, 0.11986103527061151, 0.7302995488918879, 0.007106385490352461, 0.13786387851283774, 0.004974469843246723, 0.00941193493187048, 0.9851158562024437, 0.25667580065404266, 0.25251482620937, 0.15524917496401008, 0.20534178996368846, 0.13022010907098583, 0.16414821647359415, 0.10609672995896803, 0.0649641964219599, 0.5544298879821234, 0.11037420791267732, 0.05041762903736946, 0.09083791624852548, 0.5635570534621519, 0.28276964251557124, 0.012410493301506328, 0.07058919489541819, 0.7067289749806098, 0.07784342045779319, 0.023855241753194686, 0.12108976515656718, 0.985853160581245, 0.0015202053362856514, 0.012921745358428037, 0.9968946809236577, 0.002356725014003919, 0.017718964902440414, 0.9745430696342228, 0.12049582191012133, 0.08045413339845024, 0.1649865869230892, 0.10220517407145675, 0.5317882273633354, 0.27006159489888915, 0.1714914246991133, 0.20668728569207961, 0.23649769036618398, 0.11527052464311532, 0.9912902126303665, 0.0014439770031032288, 0.006497896513964529, 0.0014439770031032288, 0.9900939728227848, 0.005294620175522913, 0.0026473100877614565, 0.9790719146814982, 0.9936714322214605, 0.03922813392934276, 0.20479008002311677, 0.16136829257794227, 0.16215460261216072, 0.4325578866017283, 0.9979875767060709, 0.7787396141010143, 0.12802265236189067, 0.0003891266029236799, 0.04980820517423103, 0.043095771273797545, 0.9914482715350178, 0.05609411201999026, 0.010517646003748174, 0.1862499813163739, 0.06792646377420695, 0.6788264024919134, 0.022815406028490623, 0.9639509047037288, 0.011407703014245311, 0.9936803419703579, 0.0008809222889808138, 0.003523689155923255, 0.0008809222889808138, 0.0017618445779616276, 0.9949887606007336, 0.0024843664434475244, 0.0024843664434475244, 0.9955364908017219, 0.002775407403613239, 0.05550814807226478, 0.004163111105419858, 0.9380877024212748, 0.2828452365045509, 0.266907969911959, 0.1938429167893998, 0.14210454408301437, 0.11429956827482085, 0.9907158654790156, 0.005968167864331419, 0.9972612890205, 0.004163495767900193, 0.841026145115839, 0.0066615932286403085, 0.14822044933724685, 0.24295091752971912, 0.10036560223048334, 0.14616614718309603, 0.08570124308705561, 0.4247889709082231, 0.14758826284791385, 0.06550265598306289, 0.09120622984983441, 0.05223629527763243, 0.6434184942133773, 0.017787954933647813, 0.10726812316949137, 0.30500713611543456, 0.016076708636233592, 0.5539034067946028, 0.9921756939763969, 0.9803003684770174, 0.010635039096432224, 0.001251181070168497, 0.006255905350842484, 0.0018767716052527454, 0.900524150661463, 0.04498772658498335, 0.006716674575674031, 0.020359919807511905, 0.02735645582383902, 0.8861793244617235, 0.0824352859964394, 0.005540005779330605, 0.006648006935196726, 0.01905761988089728, 0.00410764052126893, 0.994049006147081, 0.45006968890504645, 0.1516873330405662, 0.14839540096310078, 0.16450818421003383, 0.08534537956205832, 0.5726880553365398, 0.15994085697846058, 0.10228203749215703, 0.05688581885943052, 0.1081849513700967, 0.03057315759553261, 0.1636127161021533, 0.1574980845830468, 0.011488095581351648, 0.636848137308155, 0.9962781927213675, 0.05698130769514012, 0.08344803531310138, 0.7569484098736919, 0.056047187896859134, 0.04639461664795561, 0.992262296892772, 0.9663540291850142, 0.03047062254186982, 0.9954068128923113, 0.26282159653240555, 0.24731610458535225, 0.29909462520492386, 0.10379090989596154, 0.08697575347072577, 0.1065628258508371, 0.0911386420827221, 0.09638942804633571, 0.5417217125853158, 0.16418082539799012, 0.8600452165608271, 0.06761415662280716, 0.026737156991528305, 0.03410701436739829, 0.0115689621597959, 0.9912463301700023, 0.9512088636237584, 0.044389746969108725, 0.014048856763516077, 0.029404583923638303, 0.8648214849541176, 0.025157255134668325, 0.06665039022691348, 0.19970600728919374, 0.17832489113646766, 0.050676436493326885, 0.5704290316865354, 0.0008935391825019854, 0.2127404286640364, 0.3264506186742243, 0.1572894383180255, 0.2027408261713072, 0.10078351219640724, 0.4496992844511274, 0.11801547408875823, 0.10287286039434766, 0.18505485343665273, 0.1443515078260771, 0.042309082587856366, 0.0094200644533423, 0.011287835853573963, 0.7130014301753913, 0.22397015312343158, 0.006672451149170557, 0.994195221226413, 0.9864698797846938, 0.2715317229774165, 0.24296102689429314, 0.2289596472316509, 0.15965977222921895, 0.09688537466889592, 0.9884153130865053, 0.9811048716006932], \"Term\": [\"1996\", \"1996\", \"1996\", \"1996\", \"1996\", \"1997\", \"1997\", \"1997\", \"1997\", \"1997\", \"2001\", \"2001\", \"2001\", \"2001\", \"2001\", \"2002\", \"2002\", \"2002\", \"2002\", \"2002\", \"2003\", \"2003\", \"2003\", \"2003\", \"2003\", \"2009\", \"2009\", \"2009\", \"2009\", \"2009\", \"2011\", \"2011\", \"2011\", \"2011\", \"2011\", \"2013\", \"2013\", \"2013\", \"2013\", \"2013\", \"2020\", \"2020\", \"2020\", \"2020\", \"96\", \"96\", \"96\", \"96\", \"97\", \"97\", \"97\", \"97\", \"98\", \"98\", \"98\", \"98\", \"98\", \"a4\", \"a4\", \"a4\", \"a5\", \"a5\", \"a5\", \"abbas\", \"acta\", \"additive\", \"additive\", \"additive\", \"agreement\", \"agreement\", \"agreement\", \"agreement\", \"agreement\", \"agricultural\", \"agricultural\", \"agricultural\", \"agricultural\", \"agricultural\", \"agriculture\", \"agriculture\", \"agriculture\", \"agriculture\", \"agriculture\", \"aid\", \"aid\", \"aid\", \"aid\", \"aid\", \"air\", \"air\", \"air\", \"air\", \"air\", \"airline\", \"airline\", \"airline\", \"airline\", \"airline\", \"alcohol\", \"alcohol\", \"alcohol\", \"alcohol\", \"alcohol\", \"allergen\", \"allergenic\", \"allergenic\", \"allergenic\", \"amendment\", \"amendment\", \"amendment\", \"amendment\", \"amendment\", \"andor\", \"andor\", \"animal\", \"animal\", \"animal\", \"animal\", \"animal\", \"arab\", \"arab\", \"arab\", \"arab\", \"arab\", \"arctic\", \"arctic\", \"arctic\", \"arctic\", \"arctic\", \"area\", \"area\", \"area\", \"area\", \"area\", \"article\", \"article\", \"article\", \"article\", \"article\", \"auditor\", \"auditor\", \"auditor\", \"auditor\", \"auditor\", \"auschwitz\", \"aviation\", \"aviation\", \"aviation\", \"aviation\", \"aviation\", \"b4\", \"b4\", \"b4\", \"bali\", \"bali\", \"bali\", \"bali\", \"balkan\", \"balkan\", \"balkan\", \"balkan\", \"balkan\", \"behrendt\", \"behrendt\", \"behrendt\", \"belarus\", \"belarus\", \"belarus\", \"belarus\", \"belarus\", \"billstr\\u00f6m\", \"biofuels\", \"biofuels\", \"biofuels\", \"biofuels\", \"biofuels\", \"biogas\", \"biogas\", \"biotechnology\", \"biotechnology\", \"biotechnology\", \"biotechnology\", \"biotechnology\", \"bloch\", \"bloch\", \"boetticher\", \"boetticher\", \"borloo\", \"bst\", \"buddhist\", \"budget\", \"budget\", \"budget\", \"budget\", \"budget\", \"burma\", \"burma\", \"burma\", \"burma\", \"burmese\", \"burmese\", \"burton\", \"burton\", \"burton\", \"busquin\", \"busquin\", \"busquin\", \"byrne\", \"byrne\", \"c4\", \"c4\", \"c4\", \"c5\", \"c5\", \"c5\", \"cancian\", \"car\", \"car\", \"car\", \"car\", \"car\", \"carbon\", \"carbon\", \"carbon\", \"carbon\", \"carbon\", \"carcinogen\", \"carcinogen\", \"carcinogen\", \"carcinogenic\", \"carcinogenic\", \"carcinogenic\", \"carcinogenic\", \"cariforum\", \"case\", \"case\", \"case\", \"case\", \"case\", \"cassidy\", \"ca\\u00f1ete\", \"cc\", \"cc\", \"cerdeira\", \"cfr\", \"chad\", \"chad\", \"change\", \"change\", \"change\", \"change\", \"change\", \"chanterie\", \"chemical\", \"chemical\", \"chemical\", \"chemical\", \"chemical\", \"childcare\", \"childcare\", \"childcare\", \"childcare\", \"childcare\", \"chi\\u015fin\\u0103u\", \"chocolate\", \"chocolate\", \"chocolate\", \"ch\\u00e1vez\", \"civilian\", \"civilian\", \"civilian\", \"civilian\", \"civilian\", \"cizelj\", \"climate\", \"climate\", \"climate\", \"climate\", \"climate\", \"cloned\", \"cloned\", \"cloned\", \"cloning\", \"cloning\", \"cloning\", \"co2\", \"co2\", \"co2\", \"co2\", \"co2\", \"cohesion\", \"cohesion\", \"cohesion\", \"cohesion\", \"cohesion\", \"commission\", \"commission\", \"commission\", \"commission\", \"commission\", \"commissioner\", \"commissioner\", \"commissioner\", \"commissioner\", \"commissioner\", \"committee\", \"committee\", \"committee\", \"committee\", \"committee\", \"community\", \"community\", \"community\", \"community\", \"community\", \"conflict\", \"conflict\", \"conflict\", \"conflict\", \"conflict\", \"constitution\", \"constitution\", \"constitution\", \"constitution\", \"constitution\", \"consumer\", \"consumer\", \"consumer\", \"consumer\", \"consumer\", \"cosmetic\", \"cosmetic\", \"cosmetic\", \"cosmetic\", \"cosmetic\", \"cottigny\", \"council\", \"council\", \"council\", \"council\", \"council\", \"country\", \"country\", \"country\", \"country\", \"country\", \"cramer\", \"crisis\", \"crisis\", \"crisis\", \"crisis\", \"crisis\", \"cunha\", \"cunha\", \"cyanide\", \"cyanide\", \"cyanide\", \"cyanide\", \"dalai\", \"dami\\u00e3o\", \"danube\", \"danube\", \"danube\", \"danube\", \"danube\", \"darfur\", \"darfur\", \"darfur\", \"data\", \"data\", \"data\", \"data\", \"data\", \"dci\", \"debt\", \"debt\", \"debt\", \"debt\", \"debt\", \"decentralization\", \"decentralized\", \"deforestation\", \"deforestation\", \"deforestation\", \"deforestation\", \"democracy\", \"democracy\", \"democracy\", \"democracy\", \"democracy\", \"democratic\", \"democratic\", \"democratic\", \"democratic\", \"democratic\", \"demographic\", \"demographic\", \"demographic\", \"demographic\", \"demographic\", \"desertec\", \"development\", \"development\", \"development\", \"development\", \"development\", \"dioxin\", \"dioxin\", \"dioxin\", \"dioxin\", \"directive\", \"directive\", \"directive\", \"directive\", \"directive\", \"disease\", \"disease\", \"disease\", \"disease\", \"disease\", \"drug\", \"drug\", \"drug\", \"drug\", \"drug\", \"duma\", \"easa\", \"easa\", \"easa\", \"east\", \"east\", \"east\", \"east\", \"east\", \"economic\", \"economic\", \"economic\", \"economic\", \"economic\", \"economy\", \"economy\", \"economy\", \"economy\", \"economy\", \"ecu\", \"ecu\", \"ecu\", \"ecus\", \"ecus\", \"education\", \"education\", \"education\", \"education\", \"education\", \"eeas\", \"eeas\", \"egf\", \"eit\", \"election\", \"election\", \"election\", \"election\", \"election\", \"electricity\", \"electricity\", \"electricity\", \"electricity\", \"electricity\", \"embryo\", \"embryo\", \"embryo\", \"embryo\", \"embryo\", \"emission\", \"emission\", \"emission\", \"emission\", \"emission\", \"emphasize\", \"emphasize\", \"emphasize\", \"emphasize\", \"emphasize\", \"emphasized\", \"emphasized\", \"emphasized\", \"emu\", \"emu\", \"emu\", \"emu\", \"energy\", \"energy\", \"energy\", \"energy\", \"energy\", \"environmental\", \"environmental\", \"environmental\", \"environmental\", \"environmental\", \"epa\", \"epa\", \"epa\", \"eqf\", \"equality\", \"equality\", \"equality\", \"equality\", \"equality\", \"ertms\", \"esm\", \"estrela\", \"estrela\", \"ether\", \"ets\", \"ets\", \"eu\", \"eu\", \"eu\", \"eu\", \"eu\", \"eurobonds\", \"eurobonds\", \"eurobonds\", \"europe\", \"europe\", \"europe\", \"europe\", \"europe\", \"european\", \"european\", \"european\", \"european\", \"european\", \"europol\", \"europol\", \"europol\", \"europol\", \"europol\", \"eurovignette\", \"eurovignette\", \"eurovignette\", \"eurovignette\", \"eurozone\", \"eurozone\", \"eurozone\", \"eurozone\", \"fantuzzi\", \"farmer\", \"farmer\", \"farmer\", \"farmer\", \"farmer\", \"feio\", \"financial\", \"financial\", \"financial\", \"financial\", \"financial\", \"fish\", \"fish\", \"fish\", \"fish\", \"fish\", \"fisherman\", \"fisherman\", \"fisherman\", \"fisherman\", \"fisherman\", \"fishery\", \"fishery\", \"fishery\", \"fishery\", \"fishery\", \"fishing\", \"fishing\", \"fishing\", \"fishing\", \"fishing\", \"fleet\", \"fleet\", \"fleet\", \"fleet\", \"fleet\", \"flegt\", \"flexicurity\", \"flexicurity\", \"flexicurity\", \"fl\\u00e9chard\", \"fmd\", \"fmd\", \"foreign\", \"foreign\", \"foreign\", \"foreign\", \"foreign\", \"fossil\", \"fossil\", \"fossil\", \"fossil\", \"fossil\", \"four\\u00e7ans\", \"fp7\", \"fp7\", \"freedom\", \"freedom\", \"freedom\", \"freedom\", \"freedom\", \"frontex\", \"frontex\", \"fta\", \"fta\", \"ftt\", \"fuel\", \"fuel\", \"fuel\", \"fuel\", \"fuel\", \"fund\", \"fund\", \"fund\", \"fund\", \"fund\", \"g20\", \"g20\", \"g20\", \"gas\", \"gas\", \"gas\", \"gas\", \"gas\", \"gaza\", \"gaza\", \"gender\", \"gender\", \"gender\", \"gender\", \"gender\", \"gene\", \"gene\", \"gene\", \"gene\", \"genetics\", \"genome\", \"genome\", \"geringer\", \"giansily\", \"giansily\", \"globalization\", \"globalization\", \"globalization\", \"goepel\", \"goepel\", \"governance\", \"governance\", \"governance\", \"governance\", \"governance\", \"government\", \"government\", \"government\", \"government\", \"government\", \"grech\", \"grech\", \"grech\", \"greenhouse\", \"greenhouse\", \"greenhouse\", \"greenhouse\", \"greenhouse\", \"groote\", \"group\", \"group\", \"group\", \"group\", \"group\", \"growth\", \"growth\", \"growth\", \"growth\", \"growth\", \"grubbing\", \"grubbing\", \"haiti\", \"haiti\", \"haiti\", \"haitian\", \"haitian\", \"hallam\", \"hamas\", \"hamas\", \"harmonization\", \"harmonization\", \"harmonization\", \"health\", \"health\", \"health\", \"health\", \"health\", \"hedge\", \"hedge\", \"hedge\", \"hedge\", \"hemp\", \"herbal\", \"herbal\", \"hizbollah\", \"human\", \"human\", \"human\", \"human\", \"human\", \"humanitarian\", \"humanitarian\", \"humanitarian\", \"humanitarian\", \"humanitarian\", \"hussein\", \"hussein\", \"hussein\", \"hussein\", \"hydrogen\", \"hydrogen\", \"hydrogen\", \"hydrogen\", \"implant\", \"important\", \"important\", \"important\", \"important\", \"important\", \"industrialized\", \"industry\", \"industry\", \"industry\", \"industry\", \"industry\", \"information\", \"information\", \"information\", \"information\", \"information\", \"innovation\", \"innovation\", \"innovation\", \"innovation\", \"innovation\", \"international\", \"international\", \"international\", \"international\", \"international\", \"iran\", \"iran\", \"iran\", \"iran\", \"iran\", \"iranian\", \"iranian\", \"iranian\", \"iranian\", \"iraq\", \"iraq\", \"iraq\", \"iraq\", \"iraq\", \"iraqi\", \"iraqi\", \"iraqi\", \"iraqi\", \"iraqi\", \"isd\", \"israel\", \"israel\", \"israel\", \"israel\", \"israel\", \"israeli\", \"israeli\", \"israeli\", \"israeli\", \"israeli\", \"issue\", \"issue\", \"issue\", \"issue\", \"issue\", \"jadot\", \"jerusalem\", \"jerusalem\", \"job\", \"job\", \"job\", \"job\", \"job\", \"junta\", \"j\\u00e1r\\u00f3ka\", \"j\\u0119drzejewska\", \"karabakh\", \"karlsson\", \"karlsson\", \"khadraoui\", \"khartoum\", \"kivu\", \"kosovo\", \"kosovo\", \"kosovo\", \"kosovo\", \"kosovo\", \"labelling\", \"labelling\", \"labelling\", \"labelling\", \"labelling\", \"labour\", \"labour\", \"labour\", \"labour\", \"labour\", \"lama\", \"lama\", \"laperrouze\", \"larive\", \"larosi\\u00e8re\", \"larosi\\u00e8re\", \"lebanese\", \"lebanese\", \"lebanon\", \"lebanon\", \"lebanon\", \"lebanon\", \"lebanon\", \"legal\", \"legal\", \"legal\", \"legal\", \"legal\", \"legislation\", \"legislation\", \"legislation\", \"legislation\", \"legislation\", \"lehman\", \"lehtinen\", \"level\", \"level\", \"level\", \"level\", \"level\", \"liberalization\", \"liberalization\", \"liberalization\", \"liberalization\", \"lifelong\", \"lifelong\", \"lifelong\", \"lifelong\", \"lifelong\", \"like\", \"like\", \"like\", \"like\", \"like\", \"lisbon\", \"lisbon\", \"lisbon\", \"lisbon\", \"lisbon\", \"lng\", \"lund\", \"macartney\", \"magp\", \"make\", \"make\", \"make\", \"make\", \"make\", \"malliori\", \"market\", \"market\", \"market\", \"market\", \"market\", \"maternity\", \"maternity\", \"maternity\", \"maternity\", \"mathies\", \"mdg\", \"mdg\", \"medicinal\", \"medicinal\", \"medicinal\", \"medicinal\", \"medicine\", \"medicine\", \"medicine\", \"medicine\", \"medicine\", \"member\", \"member\", \"member\", \"member\", \"member\", \"mercury\", \"mercury\", \"mercury\", \"mff\", \"microfinance\", \"military\", \"military\", \"military\", \"military\", \"military\", \"milk\", \"milk\", \"milk\", \"milk\", \"milk\", \"minority\", \"minority\", \"minority\", \"minority\", \"minority\", \"minsk\", \"minsk\", \"minsk\", \"minsk\", \"minute\", \"minute\", \"minute\", \"minute\", \"minute\", \"mobilisation\", \"mobilisation\", \"mobilisation\", \"mobilisation\", \"mobilisation\", \"modulation\", \"modulation\", \"modulation\", \"monetary\", \"monetary\", \"monetary\", \"monetary\", \"monetary\", \"mouth\", \"mouth\", \"mouth\", \"mouth\", \"mouth\", \"mr\", \"mr\", \"mr\", \"mr\", \"mr\", \"mrls\", \"mugabe\", \"mugabe\", \"mugabe\", \"mundus\", \"mundus\", \"myanmar\", \"myanmar\", \"myanmar\", \"nace\", \"nafo\", \"nagorno\", \"nama\", \"nanomaterials\", \"nation\", \"nation\", \"nation\", \"nation\", \"nation\", \"nato\", \"nato\", \"nato\", \"nato\", \"nato\", \"need\", \"need\", \"need\", \"need\", \"need\", \"new\", \"new\", \"new\", \"new\", \"new\", \"nistic\\u00f2\", \"nuclear\", \"nuclear\", \"nuclear\", \"nuclear\", \"nuclear\", \"oettinger\", \"oettinger\", \"oettinger\", \"oie\", \"olaf\", \"olaf\", \"olaf\", \"olaf\", \"olaf\", \"opel\", \"opel\", \"organization\", \"organization\", \"organization\", \"organization\", \"organization\", \"organized\", \"organized\", \"organized\", \"palestinian\", \"palestinian\", \"palestinian\", \"palestinian\", \"palestinian\", \"paliadeli\", \"papoutsis\", \"parliament\", \"parliament\", \"parliament\", \"parliament\", \"parliament\", \"pascual\", \"passenger\", \"passenger\", \"passenger\", \"passenger\", \"passenger\", \"paternity\", \"paternity\", \"patient\", \"patient\", \"patient\", \"patient\", \"patient\", \"paulsen\", \"paulsen\", \"pcb\", \"peace\", \"peace\", \"peace\", \"peace\", \"peace\", \"peaceful\", \"peaceful\", \"peaceful\", \"peaceful\", \"peaceful\", \"people\", \"people\", \"people\", \"people\", \"people\", \"peterle\", \"phare\", \"phare\", \"phare\", \"philoxenia\", \"phthalates\", \"pittsburgh\", \"pm2\", \"pnr\", \"pnr\", \"pnr\", \"point\", \"point\", \"point\", \"point\", \"point\", \"policy\", \"policy\", \"policy\", \"policy\", \"policy\", \"political\", \"political\", \"political\", \"political\", \"political\", \"poverty\", \"poverty\", \"poverty\", \"poverty\", \"poverty\", \"presidency\", \"presidency\", \"presidency\", \"presidency\", \"presidency\", \"president\", \"president\", \"president\", \"president\", \"president\", \"prion\", \"prisoner\", \"prisoner\", \"prisoner\", \"prisoner\", \"prisoner\", \"privatization\", \"privatization\", \"problem\", \"problem\", \"problem\", \"problem\", \"problem\", \"procedure\", \"procedure\", \"procedure\", \"procedure\", \"procedure\", \"product\", \"product\", \"product\", \"product\", \"product\", \"programme\", \"programme\", \"programme\", \"programme\", \"programme\", \"proposal\", \"proposal\", \"proposal\", \"proposal\", \"proposal\", \"protection\", \"protection\", \"protection\", \"protection\", \"protection\", \"public\", \"public\", \"public\", \"public\", \"public\", \"pvc\", \"quartet\", \"quartet\", \"quartet\", \"question\", \"question\", \"question\", \"question\", \"question\", \"quota\", \"quota\", \"quota\", \"quota\", \"quota\", \"rail\", \"rail\", \"rail\", \"rail\", \"rail\", \"rating\", \"rating\", \"rating\", \"rating\", \"rating\", \"realize\", \"realize\", \"realize\", \"realize\", \"recognize\", \"recognize\", \"recognize\", \"recognize\", \"recognized\", \"recognized\", \"recognized\", \"regulation\", \"regulation\", \"regulation\", \"regulation\", \"regulation\", \"rehder\", \"renewable\", \"renewable\", \"renewable\", \"renewable\", \"renewable\", \"renewables\", \"renewables\", \"renewables\", \"renewables\", \"renewables\", \"report\", \"report\", \"report\", \"report\", \"report\", \"resolution\", \"resolution\", \"resolution\", \"resolution\", \"resolution\", \"retardant\", \"retardant\", \"rex\", \"right\", \"right\", \"right\", \"right\", \"right\", \"road\", \"road\", \"road\", \"road\", \"road\", \"rom\", \"rom\", \"rom\", \"rural\", \"rural\", \"rural\", \"rural\", \"rural\", \"russia\", \"russia\", \"russia\", \"russia\", \"russia\", \"russian\", \"russian\", \"russian\", \"russian\", \"russian\", \"saddam\", \"saddam\", \"safety\", \"safety\", \"safety\", \"safety\", \"safety\", \"salmonella\", \"salmonella\", \"salmonella\", \"salmonella\", \"samland\", \"samland\", \"sarlis\", \"say\", \"say\", \"say\", \"say\", \"say\", \"sa\\u00effi\", \"sba\", \"scanner\", \"scanner\", \"scanner\", \"sector\", \"sector\", \"sector\", \"sector\", \"sector\", \"security\", \"security\", \"security\", \"security\", \"security\", \"seguro\", \"seguro\", \"semester\", \"semester\", \"semester\", \"service\", \"service\", \"service\", \"service\", \"service\", \"shale\", \"shale\", \"shale\", \"shalit\", \"silguy\", \"silguy\", \"silicone\", \"sitting\", \"sitting\", \"sitting\", \"sitting\", \"sitting\", \"situation\", \"situation\", \"situation\", \"situation\", \"situation\", \"smet\", \"smet\", \"smet\", \"social\", \"social\", \"social\", \"social\", \"social\", \"solana\", \"solana\", \"solana\", \"sport\", \"sport\", \"sport\", \"sport\", \"sport\", \"starch\", \"starch\", \"state\", \"state\", \"state\", \"state\", \"state\", \"strategy\", \"strategy\", \"strategy\", \"strategy\", \"strategy\", \"structural\", \"structural\", \"structural\", \"structural\", \"structural\", \"substance\", \"substance\", \"substance\", \"substance\", \"substance\", \"sudan\", \"sudan\", \"sudan\", \"sudanese\", \"sudanese\", \"supernumerary\", \"supernumerary\", \"supply\", \"supply\", \"supply\", \"supply\", \"supply\", \"support\", \"support\", \"support\", \"support\", \"support\", \"syria\", \"syria\", \"syria\", \"syria\", \"syrian\", \"syrian\", \"syrian\", \"szczecin\", \"tamil\", \"technology\", \"technology\", \"technology\", \"technology\", \"technology\", \"tehran\", \"terrorism\", \"terrorism\", \"terrorism\", \"terrorism\", \"terrorism\", \"teverson\", \"textile\", \"textile\", \"textile\", \"textile\", \"textile\", \"therapeutic\", \"therapeutic\", \"therapeutic\", \"tibet\", \"tibet\", \"tibet\", \"tibet\", \"tibet\", \"tibetan\", \"tibetan\", \"tibetan\", \"tillich\", \"timber\", \"timber\", \"timber\", \"timber\", \"time\", \"time\", \"time\", \"time\", \"time\", \"timorese\", \"timorese\", \"tomlinson\", \"toy\", \"toy\", \"toy\", \"toy\", \"trade\", \"trade\", \"trade\", \"trade\", \"trade\", \"trading\", \"trading\", \"trading\", \"trading\", \"trading\", \"transport\", \"transport\", \"transport\", \"transport\", \"transport\", \"trentin\", \"troop\", \"troop\", \"troop\", \"troop\", \"troop\", \"turkey\", \"turkey\", \"turkey\", \"turkey\", \"turkey\", \"turkish\", \"turkish\", \"turkish\", \"turkish\", \"turkish\", \"unbundling\", \"unbundling\", \"union\", \"union\", \"union\", \"union\", \"union\", \"united\", \"united\", \"united\", \"united\", \"united\", \"vehicle\", \"vehicle\", \"vehicle\", \"vehicle\", \"vehicle\", \"venezuelan\", \"vessel\", \"vessel\", \"vessel\", \"vessel\", \"vessel\", \"viola\", \"vitamin\", \"vitamin\", \"volunteering\", \"vote\", \"vote\", \"vote\", \"vote\", \"vote\", \"voted\", \"voted\", \"voted\", \"voted\", \"voted\", \"war\", \"war\", \"war\", \"war\", \"war\", \"warlord\", \"whitehead\", \"whitehead\", \"wine\", \"wine\", \"wine\", \"wine\", \"wine\", \"woman\", \"woman\", \"woman\", \"woman\", \"woman\", \"work\", \"work\", \"work\", \"work\", \"work\", \"world\", \"world\", \"world\", \"world\", \"world\", \"writing\", \"writing\", \"writing\", \"writing\", \"writing\", \"wulf\", \"wulf\", \"xynthia\", \"year\", \"year\", \"year\", \"year\", \"year\", \"z\\u00e1borsk\\u00e1\", \"z\\u012ble\"]}, \"R\": 30, \"lambda.step\": 0.01, \"plot.opts\": {\"xlab\": \"PC1\", \"ylab\": \"PC2\"}, \"topic.order\": [4, 1, 2, 5, 3]};\n",
       "\n",
       "function LDAvis_load_lib(url, callback){\n",
       "  var s = document.createElement('script');\n",
       "  s.src = url;\n",
       "  s.async = true;\n",
       "  s.onreadystatechange = s.onload = callback;\n",
       "  s.onerror = function(){console.warn(\"failed to load library \" + url);};\n",
       "  document.getElementsByTagName(\"head\")[0].appendChild(s);\n",
       "}\n",
       "\n",
       "if(typeof(LDAvis) !== \"undefined\"){\n",
       "   // already loaded: just create the visualization\n",
       "   !function(LDAvis){\n",
       "       new LDAvis(\"#\" + \"ldavis_el258591124012618162564423836\", ldavis_el258591124012618162564423836_data);\n",
       "   }(LDAvis);\n",
       "}else if(typeof define === \"function\" && define.amd){\n",
       "   // require.js is available: use it to load d3/LDAvis\n",
       "   require.config({paths: {d3: \"https://cdnjs.cloudflare.com/ajax/libs/d3/3.5.5/d3.min\"}});\n",
       "   require([\"d3\"], function(d3){\n",
       "      window.d3 = d3;\n",
       "      LDAvis_load_lib(\"https://cdn.rawgit.com/bmabey/pyLDAvis/files/ldavis.v1.0.0.js\", function(){\n",
       "        new LDAvis(\"#\" + \"ldavis_el258591124012618162564423836\", ldavis_el258591124012618162564423836_data);\n",
       "      });\n",
       "    });\n",
       "}else{\n",
       "    // require.js not available: dynamically load d3 & LDAvis\n",
       "    LDAvis_load_lib(\"https://cdnjs.cloudflare.com/ajax/libs/d3/3.5.5/d3.min.js\", function(){\n",
       "         LDAvis_load_lib(\"https://cdn.rawgit.com/bmabey/pyLDAvis/files/ldavis.v1.0.0.js\", function(){\n",
       "                 new LDAvis(\"#\" + \"ldavis_el258591124012618162564423836\", ldavis_el258591124012618162564423836_data);\n",
       "            })\n",
       "         });\n",
       "}\n",
       "</script>"
      ],
      "text/plain": [
       "PreparedData(topic_coordinates=                x           y  topics  cluster       Freq\n",
       "topic                                                    \n",
       "3      247.081070 -128.427597       1        1  27.774944\n",
       "0        8.546671 -158.862274       2        1  24.449891\n",
       "1      185.866699  112.704208       3        1  19.080629\n",
       "4     -199.415176  -38.102531       4        1  16.270904\n",
       "2      -49.165104  160.174683       5        1  12.423632, topic_info=      Category           Freq        Term          Total  loglift  logprob\n",
       "11255  Default   36834.000000      energy   36834.000000  30.0000  30.0000\n",
       "11719  Default  102271.000000          eu  102271.000000  29.0000  29.0000\n",
       "19047  Default   62840.000000      market   62840.000000  28.0000  28.0000\n",
       "11786  Default  336207.000000    european  336207.000000  27.0000  27.0000\n",
       "9715   Default   46155.000000   directive   46155.000000  26.0000  26.0000\n",
       "30158  Default   22206.000000   transport   22206.000000  25.0000  25.0000\n",
       "32455  Default   31336.000000       woman   31336.000000  24.0000  24.0000\n",
       "7805   Default   26975.000000    consumer   26975.000000  23.0000  23.0000\n",
       "5657   Default   37155.000000      budget   37155.000000  22.0000  22.0000\n",
       "12738  Default   43485.000000   financial   43485.000000  21.0000  21.0000\n",
       "3171   Default   57157.000000   amendment   57157.000000  20.0000  20.0000\n",
       "13481  Default   33243.000000        fund   33243.000000  19.0000  19.0000\n",
       "10737  Default   63015.000000    economic   63015.000000  18.0000  18.0000\n",
       "7239   Default  198257.000000  commission  198257.000000  17.0000  17.0000\n",
       "2823   Default   61350.000000   agreement   61350.000000  16.0000  16.0000\n",
       "27646  Default   55373.000000      social   55373.000000  15.0000  15.0000\n",
       "7252   Default   66693.000000   committee   66693.000000  14.0000  14.0000\n",
       "25247  Default  134802.000000      report  134802.000000  13.0000  13.0000\n",
       "8344   Default   27152.000000      crisis   27152.000000  12.0000  12.0000\n",
       "30020  Default   29322.000000       trade   29322.000000  11.0000  11.0000\n",
       "26672  Default   34304.000000      sector   34304.000000  10.0000  10.0000\n",
       "6867   Default   13660.000000     climate   13660.000000   9.0000   9.0000\n",
       "11099  Default    9282.000000    emission    9282.000000   8.0000   8.0000\n",
       "26191  Default   21556.000000      safety   21556.000000   7.0000   7.0000\n",
       "23700  Default   77601.000000    proposal   77601.000000   6.0000   6.0000\n",
       "22910  Default  104464.000000      policy  104464.000000   5.0000   5.0000\n",
       "20546  Default  109878.000000        need  109878.000000   4.0000   4.0000\n",
       "28435  Default   26183.000000    strategy   26183.000000   3.0000   3.0000\n",
       "15287  Default   49731.000000       human   49731.000000   2.0000   2.0000\n",
       "16094  Default   23710.000000    industry   23710.000000   1.0000   1.0000\n",
       "...        ...            ...         ...            ...      ...      ...\n",
       "26868   Topic5   11656.561873     service   37704.501867   0.9117  -5.5928\n",
       "25848   Topic5    4734.798609        road   10513.700936   1.2878  -6.4937\n",
       "11719   Topic5   20711.187228          eu  102271.351073   0.4886  -5.0180\n",
       "29365   Topic5    4950.696424  technology   11445.866908   1.2475  -6.4491\n",
       "9715    Topic5   11609.723549   directive   46155.890467   0.7054  -5.5968\n",
       "11786   Topic5   38498.785802    european  336207.800322  -0.0815  -4.3980\n",
       "8690    Topic5    5269.951314        data   13230.075423   1.1651  -6.3866\n",
       "26672   Topic5    9136.901532      sector   34304.416374   0.7626  -5.8363\n",
       "28187   Topic5   22657.598601       state  173997.704054   0.0470  -4.9281\n",
       "6458    Topic5    8652.888996      change   32768.084028   0.7540  -5.8907\n",
       "19384   Topic5   20615.950057      member  167569.096113  -0.0098  -5.0226\n",
       "20546   Topic5   16141.391176        need  109878.606416   0.1676  -5.2672\n",
       "7239    Topic5   21906.540428  commission  198257.748355  -0.1172  -4.9618\n",
       "8183    Topic5   17655.228712     country  139815.687957   0.0163  -5.1776\n",
       "15744   Topic5   13636.602718   important   83257.599296   0.2764  -5.4359\n",
       "24876   Topic5    8691.874178  regulation   36912.119926   0.6394  -5.8862\n",
       "23748   Topic5    7981.022876  protection   31915.684157   0.6995  -5.9716\n",
       "20197   Topic5   18924.853231          mr  252490.526852  -0.5053  -5.1082\n",
       "25247   Topic5   14503.176642      report  134802.174650  -0.1439  -5.3743\n",
       "18277   Topic5   13338.973424        like  113948.354777  -0.0595  -5.4579\n",
       "20643   Topic5   11185.912909         new   82723.657893   0.0847  -5.6340\n",
       "23338   Topic5   14361.345364   president  171578.868033  -0.3949  -5.3841\n",
       "21973   Topic5   12585.873898  parliament  144209.433899  -0.3531  -5.5161\n",
       "31006   Topic5   12547.586557       union  147026.119802  -0.3755  -5.5191\n",
       "25772   Topic5   11444.715557       right  115229.314580  -0.2238  -5.6111\n",
       "11783   Topic5   11172.877660      europe  107551.995756  -0.1789  -5.6351\n",
       "29764   Topic5   10392.039827        time   90918.978583  -0.0834  -5.7076\n",
       "16990   Topic5   10126.499378       issue   74569.038533   0.0890  -5.7335\n",
       "23700   Topic5   10120.914651    proposal   77601.636295   0.0486  -5.7340\n",
       "18824   Topic5    9592.282665        make   76702.096219   0.0066  -5.7877\n",
       "\n",
       "[568 rows x 6 columns], token_table=       Topic      Freq      Term\n",
       "term                            \n",
       "1216       1  0.053560      1996\n",
       "1216       2  0.188441      1996\n",
       "1216       3  0.744618      1996\n",
       "1216       4  0.002939      1996\n",
       "1216       5  0.010451      1996\n",
       "1218       1  0.056464      1997\n",
       "1218       2  0.197329      1997\n",
       "1218       3  0.741970      1997\n",
       "1218       4  0.001176      1997\n",
       "1218       5  0.002941      1997\n",
       "1236       1  0.165804      2001\n",
       "1236       2  0.740019      2001\n",
       "1236       3  0.073442      2001\n",
       "1236       4  0.002863      2001\n",
       "1236       5  0.018049      2001\n",
       "1238       1  0.180606      2002\n",
       "1238       2  0.653946      2002\n",
       "1238       3  0.092231      2002\n",
       "1238       4  0.032852      2002\n",
       "1238       5  0.040255      2002\n",
       "1240       1  0.225606      2003\n",
       "1240       2  0.620375      2003\n",
       "1240       3  0.059588      2003\n",
       "1240       4  0.030787      2003\n",
       "1240       5  0.063726      2003\n",
       "1246       1  0.117005      2009\n",
       "1246       2  0.004801      2009\n",
       "1246       3  0.028807      2009\n",
       "1246       4  0.670022      2009\n",
       "1246       5  0.179242      2009\n",
       "...      ...       ...       ...\n",
       "32455      1  0.199706     woman\n",
       "32455      2  0.178325     woman\n",
       "32455      3  0.050676     woman\n",
       "32455      4  0.570429     woman\n",
       "32455      5  0.000894     woman\n",
       "32481      1  0.212740      work\n",
       "32481      2  0.326451      work\n",
       "32481      3  0.157289      work\n",
       "32481      4  0.202741      work\n",
       "32481      5  0.100784      work\n",
       "32496      1  0.449699     world\n",
       "32496      2  0.118015     world\n",
       "32496      3  0.102873     world\n",
       "32496      4  0.185055     world\n",
       "32496      5  0.144352     world\n",
       "32565      1  0.042309   writing\n",
       "32565      2  0.009420   writing\n",
       "32565      3  0.011288   writing\n",
       "32565      4  0.713001   writing\n",
       "32565      5  0.223970   writing\n",
       "32582      2  0.006672      wulf\n",
       "32582      3  0.994195      wulf\n",
       "32618      4  0.986470   xynthia\n",
       "32642      1  0.271532      year\n",
       "32642      2  0.242961      year\n",
       "32642      3  0.228960      year\n",
       "32642      4  0.159660      year\n",
       "32642      5  0.096885      year\n",
       "32769      4  0.988415  záborská\n",
       "32770      5  0.981105      zīle\n",
       "\n",
       "[1517 rows x 3 columns], R=30, lambda_step=0.01, plot_opts={'xlab': 'PC1', 'ylab': 'PC2'}, topic_order=[4, 1, 2, 5, 3])"
      ]
     },
     "execution_count": 60,
     "metadata": {},
     "output_type": "execute_result"
    }
   ],
   "source": [
    "#start_time = time.clock()\n",
    "##########################################\n",
    "\n",
    "\n",
    "pyLDAvis.enable_notebook()\n",
    "panel = pyLDAvis.sklearn.prepare(best_lda_model, tf, tf_vectorizer, mds='tsne')\n",
    "#panel = pyLDAvis.sklearn.prepare(lda_model, tf, tf_vectorizer, mds='tsne')\n",
    "panel\n",
    "\n",
    "##########################################\n",
    "#print((time.clock() - start_time)/60, \"seconds\")"
   ]
  },
  {
   "cell_type": "markdown",
   "metadata": {},
   "source": [
    "## <a id='tg'>17. Topics generation  </a> "
   ]
  },
  {
   "cell_type": "code",
   "execution_count": 69,
   "metadata": {},
   "outputs": [
    {
     "name": "stdout",
     "output_type": "stream",
     "text": [
      "\n",
      "Topic #0:mr commission european member state parliament president report council like proposal committee directive amendment time\n",
      "========================================================================================================================\n",
      "\n",
      "Topic #1:mr commission european report president parliament member state policy committee like proposal amendment union year\n",
      "========================================================================================================================\n",
      "\n",
      "Topic #2:european energy state commission eu member market mr country agreement need report president important like\n",
      "========================================================================================================================\n",
      "\n",
      "Topic #3:european mr president union right country council state europe parliament people member human political like\n",
      "========================================================================================================================\n",
      "\n",
      "Topic #4:european state eu member policy report need europe economic union social country commission financial people\n",
      "========================================================================================================================\n"
     ]
    }
   ],
   "source": [
    "def print_top_words(model, feature_names, n_top_words):\n",
    "    for index, topic in enumerate(model.components_):\n",
    "        message = \"\\nTopic #{}:\".format(index )\n",
    "        message += \" \".join([feature_names[i] for i in topic.argsort()[:-n_top_words - 1  :-1]])\n",
    "        print(message)\n",
    "        print(\"=\"*120)\n",
    "        \n",
    "n_top_words = 15\n",
    "\n",
    "tf_feature_names = tf_vectorizer.get_feature_names()\n",
    "print_top_words(best_lda_model, tf_feature_names, n_top_words)        \n",
    "#print_top_words(best_lda_model, tf_feature_names, n_top_words)        "
   ]
  },
  {
   "cell_type": "markdown",
   "metadata": {},
   "source": [
    "## <a id='wcvt'>18. Word Cloud visualizations of the topics  </a> "
   ]
  },
  {
   "cell_type": "code",
   "execution_count": 70,
   "metadata": {},
   "outputs": [
    {
     "name": "stdout",
     "output_type": "stream",
     "text": [
      "====================================================================================================\n",
      "Topic 0\n",
      "====================================================================================================\n"
     ]
    },
    {
     "data": {
      "image/png": "[encoded data removed]",
      "text/plain": [
       "<Figure size 720x720 with 1 Axes>"
      ]
     },
     "metadata": {
      "needs_background": "light"
     },
     "output_type": "display_data"
    },
    {
     "name": "stdout",
     "output_type": "stream",
     "text": [
      "====================================================================================================\n",
      "Topic 1\n",
      "====================================================================================================\n"
     ]
    },
    {
     "data": {
      "image/png": "[encoded data removed]",
      "text/plain": [
       "<Figure size 720x720 with 1 Axes>"
      ]
     },
     "metadata": {
      "needs_background": "light"
     },
     "output_type": "display_data"
    },
    {
     "name": "stdout",
     "output_type": "stream",
     "text": [
      "====================================================================================================\n",
      "Topic 2\n",
      "====================================================================================================\n"
     ]
    },
    {
     "data": {
      "image/png": "[encoded data removed]",
      "text/plain": [
       "<Figure size 720x720 with 1 Axes>"
      ]
     },
     "metadata": {
      "needs_background": "light"
     },
     "output_type": "display_data"
    },
    {
     "name": "stdout",
     "output_type": "stream",
     "text": [
      "====================================================================================================\n",
      "Topic 3\n",
      "====================================================================================================\n"
     ]
    },
    {
     "data": {
      "image/png": "[encoded data removed]",
      "text/plain": [
       "<Figure size 720x720 with 1 Axes>"
      ]
     },
     "metadata": {
      "needs_background": "light"
     },
     "output_type": "display_data"
    },
    {
     "name": "stdout",
     "output_type": "stream",
     "text": [
      "====================================================================================================\n",
      "Topic 4\n",
      "====================================================================================================\n"
     ]
    },
    {
     "data": {
      "image/png": "[encoded data removed]",
      "text/plain": [
       "<Figure size 720x720 with 1 Axes>"
      ]
     },
     "metadata": {
      "needs_background": "light"
     },
     "output_type": "display_data"
    }
   ],
   "source": [
    "def world_cloud():\n",
    "    for i in range(model.best_params_[\"n_components\"]):\n",
    "        topic = best_lda_model.components_[i]\n",
    "        topic_words = [tf_feature_names[j] for j in topic.argsort()[:-50 - 1 :-1]]\n",
    "        cloud = WordCloud(stopwords=STOPWORDS,\n",
    "                       background_color='black',\n",
    "                       width=2500,\n",
    "                       height=1800\n",
    "                     ).generate(\" \".join(topic_words))\n",
    "        print(\"=\"*100)\n",
    "        print(\"Topic \" + str(i))\n",
    "        print(\"=\"*100)\n",
    "        plt.figure(figsize=(10,10))\n",
    "        plt.imshow(cloud)\n",
    "        plt.axis('off')\n",
    "        plt.show()\n",
    "        plt.pause(0.05)\n",
    "        \n",
    "\n",
    "        \n",
    "\n",
    "        \n",
    "world_cloud()        "
   ]
  },
  {
   "cell_type": "markdown",
   "metadata": {},
   "source": [
    "## <a id='wotied'>19. the weights of  topics in each document   </a> "
   ]
  },
  {
   "cell_type": "markdown",
   "metadata": {},
   "source": [
    "In the table below, I’ve greened out all major topics in a document and assigned the most dominant topic in its own column."
   ]
  },
  {
   "cell_type": "code",
   "execution_count": 57,
   "metadata": {},
   "outputs": [
    {
     "data": {
      "text/html": [
       "<style  type=\"text/css\" >\n",
       "    #T_e49e7aaa_2361_11ea_8a6b_3035adc8b1b6row0_col0 {\n",
       "            color:  black;\n",
       "            font-weight:  400;\n",
       "        }    #T_e49e7aaa_2361_11ea_8a6b_3035adc8b1b6row0_col1 {\n",
       "            color:  green;\n",
       "            font-weight:  700;\n",
       "        }    #T_e49e7aaa_2361_11ea_8a6b_3035adc8b1b6row0_col2 {\n",
       "            color:  black;\n",
       "            font-weight:  400;\n",
       "        }    #T_e49e7aaa_2361_11ea_8a6b_3035adc8b1b6row0_col3 {\n",
       "            color:  black;\n",
       "            font-weight:  400;\n",
       "        }    #T_e49e7aaa_2361_11ea_8a6b_3035adc8b1b6row0_col4 {\n",
       "            color:  green;\n",
       "            font-weight:  700;\n",
       "        }    #T_e49e7aaa_2361_11ea_8a6b_3035adc8b1b6row0_col5 {\n",
       "            color:  green;\n",
       "            font-weight:  700;\n",
       "        }    #T_e49e7aaa_2361_11ea_8a6b_3035adc8b1b6row1_col0 {\n",
       "            color:  green;\n",
       "            font-weight:  700;\n",
       "        }    #T_e49e7aaa_2361_11ea_8a6b_3035adc8b1b6row1_col1 {\n",
       "            color:  green;\n",
       "            font-weight:  700;\n",
       "        }    #T_e49e7aaa_2361_11ea_8a6b_3035adc8b1b6row1_col2 {\n",
       "            color:  black;\n",
       "            font-weight:  400;\n",
       "        }    #T_e49e7aaa_2361_11ea_8a6b_3035adc8b1b6row1_col3 {\n",
       "            color:  black;\n",
       "            font-weight:  400;\n",
       "        }    #T_e49e7aaa_2361_11ea_8a6b_3035adc8b1b6row1_col4 {\n",
       "            color:  black;\n",
       "            font-weight:  400;\n",
       "        }    #T_e49e7aaa_2361_11ea_8a6b_3035adc8b1b6row1_col5 {\n",
       "            color:  green;\n",
       "            font-weight:  700;\n",
       "        }    #T_e49e7aaa_2361_11ea_8a6b_3035adc8b1b6row2_col0 {\n",
       "            color:  green;\n",
       "            font-weight:  700;\n",
       "        }    #T_e49e7aaa_2361_11ea_8a6b_3035adc8b1b6row2_col1 {\n",
       "            color:  green;\n",
       "            font-weight:  700;\n",
       "        }    #T_e49e7aaa_2361_11ea_8a6b_3035adc8b1b6row2_col2 {\n",
       "            color:  black;\n",
       "            font-weight:  400;\n",
       "        }    #T_e49e7aaa_2361_11ea_8a6b_3035adc8b1b6row2_col3 {\n",
       "            color:  green;\n",
       "            font-weight:  700;\n",
       "        }    #T_e49e7aaa_2361_11ea_8a6b_3035adc8b1b6row2_col4 {\n",
       "            color:  black;\n",
       "            font-weight:  400;\n",
       "        }    #T_e49e7aaa_2361_11ea_8a6b_3035adc8b1b6row2_col5 {\n",
       "            color:  green;\n",
       "            font-weight:  700;\n",
       "        }    #T_e49e7aaa_2361_11ea_8a6b_3035adc8b1b6row3_col0 {\n",
       "            color:  black;\n",
       "            font-weight:  400;\n",
       "        }    #T_e49e7aaa_2361_11ea_8a6b_3035adc8b1b6row3_col1 {\n",
       "            color:  green;\n",
       "            font-weight:  700;\n",
       "        }    #T_e49e7aaa_2361_11ea_8a6b_3035adc8b1b6row3_col2 {\n",
       "            color:  black;\n",
       "            font-weight:  400;\n",
       "        }    #T_e49e7aaa_2361_11ea_8a6b_3035adc8b1b6row3_col3 {\n",
       "            color:  green;\n",
       "            font-weight:  700;\n",
       "        }    #T_e49e7aaa_2361_11ea_8a6b_3035adc8b1b6row3_col4 {\n",
       "            color:  black;\n",
       "            font-weight:  400;\n",
       "        }    #T_e49e7aaa_2361_11ea_8a6b_3035adc8b1b6row3_col5 {\n",
       "            color:  green;\n",
       "            font-weight:  700;\n",
       "        }    #T_e49e7aaa_2361_11ea_8a6b_3035adc8b1b6row4_col0 {\n",
       "            color:  green;\n",
       "            font-weight:  700;\n",
       "        }    #T_e49e7aaa_2361_11ea_8a6b_3035adc8b1b6row4_col1 {\n",
       "            color:  black;\n",
       "            font-weight:  400;\n",
       "        }    #T_e49e7aaa_2361_11ea_8a6b_3035adc8b1b6row4_col2 {\n",
       "            color:  black;\n",
       "            font-weight:  400;\n",
       "        }    #T_e49e7aaa_2361_11ea_8a6b_3035adc8b1b6row4_col3 {\n",
       "            color:  green;\n",
       "            font-weight:  700;\n",
       "        }    #T_e49e7aaa_2361_11ea_8a6b_3035adc8b1b6row4_col4 {\n",
       "            color:  black;\n",
       "            font-weight:  400;\n",
       "        }    #T_e49e7aaa_2361_11ea_8a6b_3035adc8b1b6row4_col5 {\n",
       "            color:  black;\n",
       "            font-weight:  400;\n",
       "        }    #T_e49e7aaa_2361_11ea_8a6b_3035adc8b1b6row5_col0 {\n",
       "            color:  green;\n",
       "            font-weight:  700;\n",
       "        }    #T_e49e7aaa_2361_11ea_8a6b_3035adc8b1b6row5_col1 {\n",
       "            color:  black;\n",
       "            font-weight:  400;\n",
       "        }    #T_e49e7aaa_2361_11ea_8a6b_3035adc8b1b6row5_col2 {\n",
       "            color:  green;\n",
       "            font-weight:  700;\n",
       "        }    #T_e49e7aaa_2361_11ea_8a6b_3035adc8b1b6row5_col3 {\n",
       "            color:  green;\n",
       "            font-weight:  700;\n",
       "        }    #T_e49e7aaa_2361_11ea_8a6b_3035adc8b1b6row5_col4 {\n",
       "            color:  black;\n",
       "            font-weight:  400;\n",
       "        }    #T_e49e7aaa_2361_11ea_8a6b_3035adc8b1b6row5_col5 {\n",
       "            color:  black;\n",
       "            font-weight:  400;\n",
       "        }    #T_e49e7aaa_2361_11ea_8a6b_3035adc8b1b6row6_col0 {\n",
       "            color:  black;\n",
       "            font-weight:  400;\n",
       "        }    #T_e49e7aaa_2361_11ea_8a6b_3035adc8b1b6row6_col1 {\n",
       "            color:  green;\n",
       "            font-weight:  700;\n",
       "        }    #T_e49e7aaa_2361_11ea_8a6b_3035adc8b1b6row6_col2 {\n",
       "            color:  black;\n",
       "            font-weight:  400;\n",
       "        }    #T_e49e7aaa_2361_11ea_8a6b_3035adc8b1b6row6_col3 {\n",
       "            color:  black;\n",
       "            font-weight:  400;\n",
       "        }    #T_e49e7aaa_2361_11ea_8a6b_3035adc8b1b6row6_col4 {\n",
       "            color:  green;\n",
       "            font-weight:  700;\n",
       "        }    #T_e49e7aaa_2361_11ea_8a6b_3035adc8b1b6row6_col5 {\n",
       "            color:  green;\n",
       "            font-weight:  700;\n",
       "        }    #T_e49e7aaa_2361_11ea_8a6b_3035adc8b1b6row7_col0 {\n",
       "            color:  green;\n",
       "            font-weight:  700;\n",
       "        }    #T_e49e7aaa_2361_11ea_8a6b_3035adc8b1b6row7_col1 {\n",
       "            color:  green;\n",
       "            font-weight:  700;\n",
       "        }    #T_e49e7aaa_2361_11ea_8a6b_3035adc8b1b6row7_col2 {\n",
       "            color:  black;\n",
       "            font-weight:  400;\n",
       "        }    #T_e49e7aaa_2361_11ea_8a6b_3035adc8b1b6row7_col3 {\n",
       "            color:  black;\n",
       "            font-weight:  400;\n",
       "        }    #T_e49e7aaa_2361_11ea_8a6b_3035adc8b1b6row7_col4 {\n",
       "            color:  green;\n",
       "            font-weight:  700;\n",
       "        }    #T_e49e7aaa_2361_11ea_8a6b_3035adc8b1b6row7_col5 {\n",
       "            color:  black;\n",
       "            font-weight:  400;\n",
       "        }    #T_e49e7aaa_2361_11ea_8a6b_3035adc8b1b6row8_col0 {\n",
       "            color:  green;\n",
       "            font-weight:  700;\n",
       "        }    #T_e49e7aaa_2361_11ea_8a6b_3035adc8b1b6row8_col1 {\n",
       "            color:  green;\n",
       "            font-weight:  700;\n",
       "        }    #T_e49e7aaa_2361_11ea_8a6b_3035adc8b1b6row8_col2 {\n",
       "            color:  black;\n",
       "            font-weight:  400;\n",
       "        }    #T_e49e7aaa_2361_11ea_8a6b_3035adc8b1b6row8_col3 {\n",
       "            color:  green;\n",
       "            font-weight:  700;\n",
       "        }    #T_e49e7aaa_2361_11ea_8a6b_3035adc8b1b6row8_col4 {\n",
       "            color:  black;\n",
       "            font-weight:  400;\n",
       "        }    #T_e49e7aaa_2361_11ea_8a6b_3035adc8b1b6row8_col5 {\n",
       "            color:  green;\n",
       "            font-weight:  700;\n",
       "        }    #T_e49e7aaa_2361_11ea_8a6b_3035adc8b1b6row9_col0 {\n",
       "            color:  green;\n",
       "            font-weight:  700;\n",
       "        }    #T_e49e7aaa_2361_11ea_8a6b_3035adc8b1b6row9_col1 {\n",
       "            color:  green;\n",
       "            font-weight:  700;\n",
       "        }    #T_e49e7aaa_2361_11ea_8a6b_3035adc8b1b6row9_col2 {\n",
       "            color:  black;\n",
       "            font-weight:  400;\n",
       "        }    #T_e49e7aaa_2361_11ea_8a6b_3035adc8b1b6row9_col3 {\n",
       "            color:  green;\n",
       "            font-weight:  700;\n",
       "        }    #T_e49e7aaa_2361_11ea_8a6b_3035adc8b1b6row9_col4 {\n",
       "            color:  green;\n",
       "            font-weight:  700;\n",
       "        }    #T_e49e7aaa_2361_11ea_8a6b_3035adc8b1b6row9_col5 {\n",
       "            color:  green;\n",
       "            font-weight:  700;\n",
       "        }    #T_e49e7aaa_2361_11ea_8a6b_3035adc8b1b6row10_col0 {\n",
       "            color:  black;\n",
       "            font-weight:  400;\n",
       "        }    #T_e49e7aaa_2361_11ea_8a6b_3035adc8b1b6row10_col1 {\n",
       "            color:  green;\n",
       "            font-weight:  700;\n",
       "        }    #T_e49e7aaa_2361_11ea_8a6b_3035adc8b1b6row10_col2 {\n",
       "            color:  green;\n",
       "            font-weight:  700;\n",
       "        }    #T_e49e7aaa_2361_11ea_8a6b_3035adc8b1b6row10_col3 {\n",
       "            color:  black;\n",
       "            font-weight:  400;\n",
       "        }    #T_e49e7aaa_2361_11ea_8a6b_3035adc8b1b6row10_col4 {\n",
       "            color:  black;\n",
       "            font-weight:  400;\n",
       "        }    #T_e49e7aaa_2361_11ea_8a6b_3035adc8b1b6row10_col5 {\n",
       "            color:  green;\n",
       "            font-weight:  700;\n",
       "        }    #T_e49e7aaa_2361_11ea_8a6b_3035adc8b1b6row11_col0 {\n",
       "            color:  green;\n",
       "            font-weight:  700;\n",
       "        }    #T_e49e7aaa_2361_11ea_8a6b_3035adc8b1b6row11_col1 {\n",
       "            color:  green;\n",
       "            font-weight:  700;\n",
       "        }    #T_e49e7aaa_2361_11ea_8a6b_3035adc8b1b6row11_col2 {\n",
       "            color:  black;\n",
       "            font-weight:  400;\n",
       "        }    #T_e49e7aaa_2361_11ea_8a6b_3035adc8b1b6row11_col3 {\n",
       "            color:  green;\n",
       "            font-weight:  700;\n",
       "        }    #T_e49e7aaa_2361_11ea_8a6b_3035adc8b1b6row11_col4 {\n",
       "            color:  green;\n",
       "            font-weight:  700;\n",
       "        }    #T_e49e7aaa_2361_11ea_8a6b_3035adc8b1b6row11_col5 {\n",
       "            color:  green;\n",
       "            font-weight:  700;\n",
       "        }    #T_e49e7aaa_2361_11ea_8a6b_3035adc8b1b6row12_col0 {\n",
       "            color:  green;\n",
       "            font-weight:  700;\n",
       "        }    #T_e49e7aaa_2361_11ea_8a6b_3035adc8b1b6row12_col1 {\n",
       "            color:  green;\n",
       "            font-weight:  700;\n",
       "        }    #T_e49e7aaa_2361_11ea_8a6b_3035adc8b1b6row12_col2 {\n",
       "            color:  black;\n",
       "            font-weight:  400;\n",
       "        }    #T_e49e7aaa_2361_11ea_8a6b_3035adc8b1b6row12_col3 {\n",
       "            color:  green;\n",
       "            font-weight:  700;\n",
       "        }    #T_e49e7aaa_2361_11ea_8a6b_3035adc8b1b6row12_col4 {\n",
       "            color:  black;\n",
       "            font-weight:  400;\n",
       "        }    #T_e49e7aaa_2361_11ea_8a6b_3035adc8b1b6row12_col5 {\n",
       "            color:  green;\n",
       "            font-weight:  700;\n",
       "        }    #T_e49e7aaa_2361_11ea_8a6b_3035adc8b1b6row13_col0 {\n",
       "            color:  green;\n",
       "            font-weight:  700;\n",
       "        }    #T_e49e7aaa_2361_11ea_8a6b_3035adc8b1b6row13_col1 {\n",
       "            color:  green;\n",
       "            font-weight:  700;\n",
       "        }    #T_e49e7aaa_2361_11ea_8a6b_3035adc8b1b6row13_col2 {\n",
       "            color:  green;\n",
       "            font-weight:  700;\n",
       "        }    #T_e49e7aaa_2361_11ea_8a6b_3035adc8b1b6row13_col3 {\n",
       "            color:  black;\n",
       "            font-weight:  400;\n",
       "        }    #T_e49e7aaa_2361_11ea_8a6b_3035adc8b1b6row13_col4 {\n",
       "            color:  green;\n",
       "            font-weight:  700;\n",
       "        }    #T_e49e7aaa_2361_11ea_8a6b_3035adc8b1b6row13_col5 {\n",
       "            color:  green;\n",
       "            font-weight:  700;\n",
       "        }    #T_e49e7aaa_2361_11ea_8a6b_3035adc8b1b6row14_col0 {\n",
       "            color:  green;\n",
       "            font-weight:  700;\n",
       "        }    #T_e49e7aaa_2361_11ea_8a6b_3035adc8b1b6row14_col1 {\n",
       "            color:  green;\n",
       "            font-weight:  700;\n",
       "        }    #T_e49e7aaa_2361_11ea_8a6b_3035adc8b1b6row14_col2 {\n",
       "            color:  green;\n",
       "            font-weight:  700;\n",
       "        }    #T_e49e7aaa_2361_11ea_8a6b_3035adc8b1b6row14_col3 {\n",
       "            color:  black;\n",
       "            font-weight:  400;\n",
       "        }    #T_e49e7aaa_2361_11ea_8a6b_3035adc8b1b6row14_col4 {\n",
       "            color:  black;\n",
       "            font-weight:  400;\n",
       "        }    #T_e49e7aaa_2361_11ea_8a6b_3035adc8b1b6row14_col5 {\n",
       "            color:  black;\n",
       "            font-weight:  400;\n",
       "        }</style><table id=\"T_e49e7aaa_2361_11ea_8a6b_3035adc8b1b6\" ><thead>    <tr>        <th class=\"blank level0\" ></th>        <th class=\"col_heading level0 col0\" >Topic0</th>        <th class=\"col_heading level0 col1\" >Topic1</th>        <th class=\"col_heading level0 col2\" >Topic2</th>        <th class=\"col_heading level0 col3\" >Topic3</th>        <th class=\"col_heading level0 col4\" >Topic4</th>        <th class=\"col_heading level0 col5\" >dominant_topic</th>    </tr></thead><tbody>\n",
       "                <tr>\n",
       "                        <th id=\"T_e49e7aaa_2361_11ea_8a6b_3035adc8b1b6level0_row0\" class=\"row_heading level0 row0\" >Doc0</th>\n",
       "                        <td id=\"T_e49e7aaa_2361_11ea_8a6b_3035adc8b1b6row0_col0\" class=\"data row0 col0\" >0.07</td>\n",
       "                        <td id=\"T_e49e7aaa_2361_11ea_8a6b_3035adc8b1b6row0_col1\" class=\"data row0 col1\" >0.8</td>\n",
       "                        <td id=\"T_e49e7aaa_2361_11ea_8a6b_3035adc8b1b6row0_col2\" class=\"data row0 col2\" >0</td>\n",
       "                        <td id=\"T_e49e7aaa_2361_11ea_8a6b_3035adc8b1b6row0_col3\" class=\"data row0 col3\" >0.01</td>\n",
       "                        <td id=\"T_e49e7aaa_2361_11ea_8a6b_3035adc8b1b6row0_col4\" class=\"data row0 col4\" >0.11</td>\n",
       "                        <td id=\"T_e49e7aaa_2361_11ea_8a6b_3035adc8b1b6row0_col5\" class=\"data row0 col5\" >1</td>\n",
       "            </tr>\n",
       "            <tr>\n",
       "                        <th id=\"T_e49e7aaa_2361_11ea_8a6b_3035adc8b1b6level0_row1\" class=\"row_heading level0 row1\" >Doc1</th>\n",
       "                        <td id=\"T_e49e7aaa_2361_11ea_8a6b_3035adc8b1b6row1_col0\" class=\"data row1 col0\" >0.43</td>\n",
       "                        <td id=\"T_e49e7aaa_2361_11ea_8a6b_3035adc8b1b6row1_col1\" class=\"data row1 col1\" >0.45</td>\n",
       "                        <td id=\"T_e49e7aaa_2361_11ea_8a6b_3035adc8b1b6row1_col2\" class=\"data row1 col2\" >0.05</td>\n",
       "                        <td id=\"T_e49e7aaa_2361_11ea_8a6b_3035adc8b1b6row1_col3\" class=\"data row1 col3\" >0.05</td>\n",
       "                        <td id=\"T_e49e7aaa_2361_11ea_8a6b_3035adc8b1b6row1_col4\" class=\"data row1 col4\" >0.02</td>\n",
       "                        <td id=\"T_e49e7aaa_2361_11ea_8a6b_3035adc8b1b6row1_col5\" class=\"data row1 col5\" >1</td>\n",
       "            </tr>\n",
       "            <tr>\n",
       "                        <th id=\"T_e49e7aaa_2361_11ea_8a6b_3035adc8b1b6level0_row2\" class=\"row_heading level0 row2\" >Doc2</th>\n",
       "                        <td id=\"T_e49e7aaa_2361_11ea_8a6b_3035adc8b1b6row2_col0\" class=\"data row2 col0\" >0.18</td>\n",
       "                        <td id=\"T_e49e7aaa_2361_11ea_8a6b_3035adc8b1b6row2_col1\" class=\"data row2 col1\" >0.21</td>\n",
       "                        <td id=\"T_e49e7aaa_2361_11ea_8a6b_3035adc8b1b6row2_col2\" class=\"data row2 col2\" >0</td>\n",
       "                        <td id=\"T_e49e7aaa_2361_11ea_8a6b_3035adc8b1b6row2_col3\" class=\"data row2 col3\" >0.52</td>\n",
       "                        <td id=\"T_e49e7aaa_2361_11ea_8a6b_3035adc8b1b6row2_col4\" class=\"data row2 col4\" >0.08</td>\n",
       "                        <td id=\"T_e49e7aaa_2361_11ea_8a6b_3035adc8b1b6row2_col5\" class=\"data row2 col5\" >3</td>\n",
       "            </tr>\n",
       "            <tr>\n",
       "                        <th id=\"T_e49e7aaa_2361_11ea_8a6b_3035adc8b1b6level0_row3\" class=\"row_heading level0 row3\" >Doc3</th>\n",
       "                        <td id=\"T_e49e7aaa_2361_11ea_8a6b_3035adc8b1b6row3_col0\" class=\"data row3 col0\" >0</td>\n",
       "                        <td id=\"T_e49e7aaa_2361_11ea_8a6b_3035adc8b1b6row3_col1\" class=\"data row3 col1\" >0.32</td>\n",
       "                        <td id=\"T_e49e7aaa_2361_11ea_8a6b_3035adc8b1b6row3_col2\" class=\"data row3 col2\" >0</td>\n",
       "                        <td id=\"T_e49e7aaa_2361_11ea_8a6b_3035adc8b1b6row3_col3\" class=\"data row3 col3\" >0.67</td>\n",
       "                        <td id=\"T_e49e7aaa_2361_11ea_8a6b_3035adc8b1b6row3_col4\" class=\"data row3 col4\" >0</td>\n",
       "                        <td id=\"T_e49e7aaa_2361_11ea_8a6b_3035adc8b1b6row3_col5\" class=\"data row3 col5\" >3</td>\n",
       "            </tr>\n",
       "            <tr>\n",
       "                        <th id=\"T_e49e7aaa_2361_11ea_8a6b_3035adc8b1b6level0_row4\" class=\"row_heading level0 row4\" >Doc4</th>\n",
       "                        <td id=\"T_e49e7aaa_2361_11ea_8a6b_3035adc8b1b6row4_col0\" class=\"data row4 col0\" >0.46</td>\n",
       "                        <td id=\"T_e49e7aaa_2361_11ea_8a6b_3035adc8b1b6row4_col1\" class=\"data row4 col1\" >0.09</td>\n",
       "                        <td id=\"T_e49e7aaa_2361_11ea_8a6b_3035adc8b1b6row4_col2\" class=\"data row4 col2\" >0.03</td>\n",
       "                        <td id=\"T_e49e7aaa_2361_11ea_8a6b_3035adc8b1b6row4_col3\" class=\"data row4 col3\" >0.41</td>\n",
       "                        <td id=\"T_e49e7aaa_2361_11ea_8a6b_3035adc8b1b6row4_col4\" class=\"data row4 col4\" >0</td>\n",
       "                        <td id=\"T_e49e7aaa_2361_11ea_8a6b_3035adc8b1b6row4_col5\" class=\"data row4 col5\" >0</td>\n",
       "            </tr>\n",
       "            <tr>\n",
       "                        <th id=\"T_e49e7aaa_2361_11ea_8a6b_3035adc8b1b6level0_row5\" class=\"row_heading level0 row5\" >Doc5</th>\n",
       "                        <td id=\"T_e49e7aaa_2361_11ea_8a6b_3035adc8b1b6row5_col0\" class=\"data row5 col0\" >0.57</td>\n",
       "                        <td id=\"T_e49e7aaa_2361_11ea_8a6b_3035adc8b1b6row5_col1\" class=\"data row5 col1\" >0.03</td>\n",
       "                        <td id=\"T_e49e7aaa_2361_11ea_8a6b_3035adc8b1b6row5_col2\" class=\"data row5 col2\" >0.26</td>\n",
       "                        <td id=\"T_e49e7aaa_2361_11ea_8a6b_3035adc8b1b6row5_col3\" class=\"data row5 col3\" >0.14</td>\n",
       "                        <td id=\"T_e49e7aaa_2361_11ea_8a6b_3035adc8b1b6row5_col4\" class=\"data row5 col4\" >0</td>\n",
       "                        <td id=\"T_e49e7aaa_2361_11ea_8a6b_3035adc8b1b6row5_col5\" class=\"data row5 col5\" >0</td>\n",
       "            </tr>\n",
       "            <tr>\n",
       "                        <th id=\"T_e49e7aaa_2361_11ea_8a6b_3035adc8b1b6level0_row6\" class=\"row_heading level0 row6\" >Doc6</th>\n",
       "                        <td id=\"T_e49e7aaa_2361_11ea_8a6b_3035adc8b1b6row6_col0\" class=\"data row6 col0\" >0.03</td>\n",
       "                        <td id=\"T_e49e7aaa_2361_11ea_8a6b_3035adc8b1b6row6_col1\" class=\"data row6 col1\" >0.63</td>\n",
       "                        <td id=\"T_e49e7aaa_2361_11ea_8a6b_3035adc8b1b6row6_col2\" class=\"data row6 col2\" >0</td>\n",
       "                        <td id=\"T_e49e7aaa_2361_11ea_8a6b_3035adc8b1b6row6_col3\" class=\"data row6 col3\" >0.04</td>\n",
       "                        <td id=\"T_e49e7aaa_2361_11ea_8a6b_3035adc8b1b6row6_col4\" class=\"data row6 col4\" >0.3</td>\n",
       "                        <td id=\"T_e49e7aaa_2361_11ea_8a6b_3035adc8b1b6row6_col5\" class=\"data row6 col5\" >1</td>\n",
       "            </tr>\n",
       "            <tr>\n",
       "                        <th id=\"T_e49e7aaa_2361_11ea_8a6b_3035adc8b1b6level0_row7\" class=\"row_heading level0 row7\" >Doc7</th>\n",
       "                        <td id=\"T_e49e7aaa_2361_11ea_8a6b_3035adc8b1b6row7_col0\" class=\"data row7 col0\" >0.51</td>\n",
       "                        <td id=\"T_e49e7aaa_2361_11ea_8a6b_3035adc8b1b6row7_col1\" class=\"data row7 col1\" >0.23</td>\n",
       "                        <td id=\"T_e49e7aaa_2361_11ea_8a6b_3035adc8b1b6row7_col2\" class=\"data row7 col2\" >0.01</td>\n",
       "                        <td id=\"T_e49e7aaa_2361_11ea_8a6b_3035adc8b1b6row7_col3\" class=\"data row7 col3\" >0.07</td>\n",
       "                        <td id=\"T_e49e7aaa_2361_11ea_8a6b_3035adc8b1b6row7_col4\" class=\"data row7 col4\" >0.18</td>\n",
       "                        <td id=\"T_e49e7aaa_2361_11ea_8a6b_3035adc8b1b6row7_col5\" class=\"data row7 col5\" >0</td>\n",
       "            </tr>\n",
       "            <tr>\n",
       "                        <th id=\"T_e49e7aaa_2361_11ea_8a6b_3035adc8b1b6level0_row8\" class=\"row_heading level0 row8\" >Doc8</th>\n",
       "                        <td id=\"T_e49e7aaa_2361_11ea_8a6b_3035adc8b1b6row8_col0\" class=\"data row8 col0\" >0.17</td>\n",
       "                        <td id=\"T_e49e7aaa_2361_11ea_8a6b_3035adc8b1b6row8_col1\" class=\"data row8 col1\" >0.19</td>\n",
       "                        <td id=\"T_e49e7aaa_2361_11ea_8a6b_3035adc8b1b6row8_col2\" class=\"data row8 col2\" >0.01</td>\n",
       "                        <td id=\"T_e49e7aaa_2361_11ea_8a6b_3035adc8b1b6row8_col3\" class=\"data row8 col3\" >0.57</td>\n",
       "                        <td id=\"T_e49e7aaa_2361_11ea_8a6b_3035adc8b1b6row8_col4\" class=\"data row8 col4\" >0.06</td>\n",
       "                        <td id=\"T_e49e7aaa_2361_11ea_8a6b_3035adc8b1b6row8_col5\" class=\"data row8 col5\" >3</td>\n",
       "            </tr>\n",
       "            <tr>\n",
       "                        <th id=\"T_e49e7aaa_2361_11ea_8a6b_3035adc8b1b6level0_row9\" class=\"row_heading level0 row9\" >Doc9</th>\n",
       "                        <td id=\"T_e49e7aaa_2361_11ea_8a6b_3035adc8b1b6row9_col0\" class=\"data row9 col0\" >0.29</td>\n",
       "                        <td id=\"T_e49e7aaa_2361_11ea_8a6b_3035adc8b1b6row9_col1\" class=\"data row9 col1\" >0.21</td>\n",
       "                        <td id=\"T_e49e7aaa_2361_11ea_8a6b_3035adc8b1b6row9_col2\" class=\"data row9 col2\" >0.04</td>\n",
       "                        <td id=\"T_e49e7aaa_2361_11ea_8a6b_3035adc8b1b6row9_col3\" class=\"data row9 col3\" >0.35</td>\n",
       "                        <td id=\"T_e49e7aaa_2361_11ea_8a6b_3035adc8b1b6row9_col4\" class=\"data row9 col4\" >0.11</td>\n",
       "                        <td id=\"T_e49e7aaa_2361_11ea_8a6b_3035adc8b1b6row9_col5\" class=\"data row9 col5\" >3</td>\n",
       "            </tr>\n",
       "            <tr>\n",
       "                        <th id=\"T_e49e7aaa_2361_11ea_8a6b_3035adc8b1b6level0_row10\" class=\"row_heading level0 row10\" >Doc10</th>\n",
       "                        <td id=\"T_e49e7aaa_2361_11ea_8a6b_3035adc8b1b6row10_col0\" class=\"data row10 col0\" >0.08</td>\n",
       "                        <td id=\"T_e49e7aaa_2361_11ea_8a6b_3035adc8b1b6row10_col1\" class=\"data row10 col1\" >0.6</td>\n",
       "                        <td id=\"T_e49e7aaa_2361_11ea_8a6b_3035adc8b1b6row10_col2\" class=\"data row10 col2\" >0.31</td>\n",
       "                        <td id=\"T_e49e7aaa_2361_11ea_8a6b_3035adc8b1b6row10_col3\" class=\"data row10 col3\" >0.01</td>\n",
       "                        <td id=\"T_e49e7aaa_2361_11ea_8a6b_3035adc8b1b6row10_col4\" class=\"data row10 col4\" >0</td>\n",
       "                        <td id=\"T_e49e7aaa_2361_11ea_8a6b_3035adc8b1b6row10_col5\" class=\"data row10 col5\" >1</td>\n",
       "            </tr>\n",
       "            <tr>\n",
       "                        <th id=\"T_e49e7aaa_2361_11ea_8a6b_3035adc8b1b6level0_row11\" class=\"row_heading level0 row11\" >Doc11</th>\n",
       "                        <td id=\"T_e49e7aaa_2361_11ea_8a6b_3035adc8b1b6row11_col0\" class=\"data row11 col0\" >0.18</td>\n",
       "                        <td id=\"T_e49e7aaa_2361_11ea_8a6b_3035adc8b1b6row11_col1\" class=\"data row11 col1\" >0.35</td>\n",
       "                        <td id=\"T_e49e7aaa_2361_11ea_8a6b_3035adc8b1b6row11_col2\" class=\"data row11 col2\" >0</td>\n",
       "                        <td id=\"T_e49e7aaa_2361_11ea_8a6b_3035adc8b1b6row11_col3\" class=\"data row11 col3\" >0.34</td>\n",
       "                        <td id=\"T_e49e7aaa_2361_11ea_8a6b_3035adc8b1b6row11_col4\" class=\"data row11 col4\" >0.13</td>\n",
       "                        <td id=\"T_e49e7aaa_2361_11ea_8a6b_3035adc8b1b6row11_col5\" class=\"data row11 col5\" >1</td>\n",
       "            </tr>\n",
       "            <tr>\n",
       "                        <th id=\"T_e49e7aaa_2361_11ea_8a6b_3035adc8b1b6level0_row12\" class=\"row_heading level0 row12\" >Doc12</th>\n",
       "                        <td id=\"T_e49e7aaa_2361_11ea_8a6b_3035adc8b1b6row12_col0\" class=\"data row12 col0\" >0.17</td>\n",
       "                        <td id=\"T_e49e7aaa_2361_11ea_8a6b_3035adc8b1b6row12_col1\" class=\"data row12 col1\" >0.47</td>\n",
       "                        <td id=\"T_e49e7aaa_2361_11ea_8a6b_3035adc8b1b6row12_col2\" class=\"data row12 col2\" >0.1</td>\n",
       "                        <td id=\"T_e49e7aaa_2361_11ea_8a6b_3035adc8b1b6row12_col3\" class=\"data row12 col3\" >0.22</td>\n",
       "                        <td id=\"T_e49e7aaa_2361_11ea_8a6b_3035adc8b1b6row12_col4\" class=\"data row12 col4\" >0.04</td>\n",
       "                        <td id=\"T_e49e7aaa_2361_11ea_8a6b_3035adc8b1b6row12_col5\" class=\"data row12 col5\" >1</td>\n",
       "            </tr>\n",
       "            <tr>\n",
       "                        <th id=\"T_e49e7aaa_2361_11ea_8a6b_3035adc8b1b6level0_row13\" class=\"row_heading level0 row13\" >Doc13</th>\n",
       "                        <td id=\"T_e49e7aaa_2361_11ea_8a6b_3035adc8b1b6row13_col0\" class=\"data row13 col0\" >0.28</td>\n",
       "                        <td id=\"T_e49e7aaa_2361_11ea_8a6b_3035adc8b1b6row13_col1\" class=\"data row13 col1\" >0.21</td>\n",
       "                        <td id=\"T_e49e7aaa_2361_11ea_8a6b_3035adc8b1b6row13_col2\" class=\"data row13 col2\" >0.11</td>\n",
       "                        <td id=\"T_e49e7aaa_2361_11ea_8a6b_3035adc8b1b6row13_col3\" class=\"data row13 col3\" >0.03</td>\n",
       "                        <td id=\"T_e49e7aaa_2361_11ea_8a6b_3035adc8b1b6row13_col4\" class=\"data row13 col4\" >0.38</td>\n",
       "                        <td id=\"T_e49e7aaa_2361_11ea_8a6b_3035adc8b1b6row13_col5\" class=\"data row13 col5\" >4</td>\n",
       "            </tr>\n",
       "            <tr>\n",
       "                        <th id=\"T_e49e7aaa_2361_11ea_8a6b_3035adc8b1b6level0_row14\" class=\"row_heading level0 row14\" >Doc14</th>\n",
       "                        <td id=\"T_e49e7aaa_2361_11ea_8a6b_3035adc8b1b6row14_col0\" class=\"data row14 col0\" >0.69</td>\n",
       "                        <td id=\"T_e49e7aaa_2361_11ea_8a6b_3035adc8b1b6row14_col1\" class=\"data row14 col1\" >0.11</td>\n",
       "                        <td id=\"T_e49e7aaa_2361_11ea_8a6b_3035adc8b1b6row14_col2\" class=\"data row14 col2\" >0.13</td>\n",
       "                        <td id=\"T_e49e7aaa_2361_11ea_8a6b_3035adc8b1b6row14_col3\" class=\"data row14 col3\" >0.06</td>\n",
       "                        <td id=\"T_e49e7aaa_2361_11ea_8a6b_3035adc8b1b6row14_col4\" class=\"data row14 col4\" >0</td>\n",
       "                        <td id=\"T_e49e7aaa_2361_11ea_8a6b_3035adc8b1b6row14_col5\" class=\"data row14 col5\" >0</td>\n",
       "            </tr>\n",
       "    </tbody></table>"
      ],
      "text/plain": [
       "<pandas.io.formats.style.Styler at 0x1a2b5adb70>"
      ]
     },
     "execution_count": 57,
     "metadata": {},
     "output_type": "execute_result"
    }
   ],
   "source": [
    "data = df.values\n",
    "\n",
    "# Create Document - Topic Matrix\n",
    "lda_output = best_lda_model.transform(tf)\n",
    "\n",
    "# column names\n",
    "topicnames = [\"Topic\" + str(i) for i in range(best_lda_model.n_components)]\n",
    "\n",
    "# index names\n",
    "docnames = [\"Doc\" + str(i) for i in range(len(data))]\n",
    "\n",
    "# Make the pandas dataframe\n",
    "df_document_topic = pd.DataFrame(np.round(lda_output, 2), columns=topicnames, index=docnames)\n",
    "\n",
    "# Get dominant topic for each document\n",
    "dominant_topic = np.argmax(df_document_topic.values, axis=1)\n",
    "df_document_topic['dominant_topic'] = dominant_topic\n",
    "\n",
    "# Styling\n",
    "def color_green(val):\n",
    "    color = 'green' if val > .1 else 'black'\n",
    "    return 'color: {col}'.format(col=color)\n",
    "\n",
    "def make_bold(val):\n",
    "    weight = 700 if val > .1 else 400\n",
    "    return 'font-weight: {weight}'.format(weight=weight)\n",
    "\n",
    "# Apply Style\n",
    "df_document_topics = df_document_topic.head(15).style.applymap(color_green).applymap(make_bold)\n",
    "df_document_topics"
   ]
  },
  {
   "cell_type": "markdown",
   "metadata": {},
   "source": [
    "## <a id='dad'>20. Distribution across documents  </a> "
   ]
  },
  {
   "cell_type": "code",
   "execution_count": 58,
   "metadata": {},
   "outputs": [
    {
     "data": {
      "text/html": [
       "<div>\n",
       "<style scoped>\n",
       "    .dataframe tbody tr th:only-of-type {\n",
       "        vertical-align: middle;\n",
       "    }\n",
       "\n",
       "    .dataframe tbody tr th {\n",
       "        vertical-align: top;\n",
       "    }\n",
       "\n",
       "    .dataframe thead th {\n",
       "        text-align: right;\n",
       "    }\n",
       "</style>\n",
       "<table border=\"1\" class=\"dataframe\">\n",
       "  <thead>\n",
       "    <tr style=\"text-align: right;\">\n",
       "      <th></th>\n",
       "      <th>Topic Num</th>\n",
       "      <th>Num Documents</th>\n",
       "    </tr>\n",
       "  </thead>\n",
       "  <tbody>\n",
       "    <tr>\n",
       "      <th>0</th>\n",
       "      <td>1</td>\n",
       "      <td>4232</td>\n",
       "    </tr>\n",
       "    <tr>\n",
       "      <th>1</th>\n",
       "      <td>3</td>\n",
       "      <td>1961</td>\n",
       "    </tr>\n",
       "    <tr>\n",
       "      <th>2</th>\n",
       "      <td>0</td>\n",
       "      <td>1203</td>\n",
       "    </tr>\n",
       "    <tr>\n",
       "      <th>3</th>\n",
       "      <td>4</td>\n",
       "      <td>1171</td>\n",
       "    </tr>\n",
       "    <tr>\n",
       "      <th>4</th>\n",
       "      <td>2</td>\n",
       "      <td>1105</td>\n",
       "    </tr>\n",
       "  </tbody>\n",
       "</table>\n",
       "</div>"
      ],
      "text/plain": [
       "   Topic Num  Num Documents\n",
       "0          1           4232\n",
       "1          3           1961\n",
       "2          0           1203\n",
       "3          4           1171\n",
       "4          2           1105"
      ]
     },
     "execution_count": 58,
     "metadata": {},
     "output_type": "execute_result"
    }
   ],
   "source": [
    "df_topic_distribution = df_document_topic['dominant_topic'].value_counts().reset_index(name=\"Num Documents\")\n",
    "df_topic_distribution.columns = ['Topic Num', 'Num Documents']\n",
    "df_topic_distribution"
   ]
  },
  {
   "cell_type": "code",
   "execution_count": 62,
   "metadata": {},
   "outputs": [
    {
     "data": {
      "image/png": "[encoded data removed]",
      "text/plain": [
       "<Figure size 504x216 with 1 Axes>"
      ]
     },
     "metadata": {
      "needs_background": "light"
     },
     "output_type": "display_data"
    }
   ],
   "source": [
    "f, ax = plt.subplots(figsize=(7, 3))\n",
    "sns.countplot(y=\"dominant_topic\", data = df_document_topic, color=\"c\");"
   ]
  }
 ],
 "metadata": {
  "kernelspec": {
   "display_name": "Python 3",
   "language": "python",
   "name": "python3"
  },
  "language_info": {
   "codemirror_mode": {
    "name": "ipython",
    "version": 3
   },
   "file_extension": ".py",
   "mimetype": "text/x-python",
   "name": "python",
   "nbconvert_exporter": "python",
   "pygments_lexer": "ipython3",
   "version": "3.6.9"
  }
 },
 "nbformat": 4,
 "nbformat_minor": 2
}
